{
  "nbformat": 4,
  "nbformat_minor": 0,
  "metadata": {
    "colab": {
      "name": "Final Project.ipynb",
      "provenance": [],
      "collapsed_sections": [],
      "toc_visible": true
    },
    "kernelspec": {
      "name": "python3",
      "display_name": "Python 3"
    },
    "accelerator": "GPU"
  },
  "cells": [
    {
      "cell_type": "markdown",
      "metadata": {
        "id": "DvEwjSoIV79-",
        "colab_type": "text"
      },
      "source": [
        "# **Final Project Google Bangkit**\n",
        "\n"
      ]
    },
    {
      "cell_type": "markdown",
      "metadata": {
        "id": "KRp_Z5sIV7BF",
        "colab_type": "text"
      },
      "source": [
        "BDG5-D \n",
        "1. Maclaurin Hutagalung\n",
        "2. Nur Salam Al Amin\n",
        "3. Puthut Prabancono\n",
        "4. Raynald Masli\n",
        "\n",
        "Our topic is the **lips reading dataset**"
      ]
    },
    {
      "cell_type": "markdown",
      "metadata": {
        "id": "HPAsGEbV6B9h",
        "colab_type": "text"
      },
      "source": [
        "**Downloading and Unzipping the Dataset**"
      ]
    },
    {
      "cell_type": "code",
      "metadata": {
        "id": "hbInJa_XWjqm",
        "colab_type": "code",
        "colab": {}
      },
      "source": [
        "import pandas as pd\n",
        "import tensorflow as tf\n",
        "import matplotlib.pyplot as plt\n",
        "import numpy as np\n",
        "import os\n",
        "import cv2\n",
        "from tensorflow.keras.layers import *\n",
        "from tensorflow.keras.models import Sequential\n",
        "from tensorflow.keras import optimizers\n",
        "from tensorflow.keras.preprocessing.image import *\n",
        "from tensorflow.keras import backend as Back\n",
        "from tensorflow.keras.initializers import Constant\n",
        "from tensorflow.python.framework import ops\n",
        "from tensorflow.python.ops import state_ops\n",
        "from tensorflow.python.ops import control_flow_ops\n",
        "from tensorflow.python.framework import constant_op\n",
        "from tensorflow.python.training.optimizer import Optimizer\n",
        "import dlib\n",
        "import imutils\n",
        "import zipfile\n",
        "import time\n",
        "from tensorflow import keras\n",
        "import random"
      ],
      "execution_count": null,
      "outputs": []
    },
    {
      "cell_type": "markdown",
      "metadata": {
        "id": "DrKscEsLpLiV",
        "colab_type": "text"
      },
      "source": [
        "The steps below is the syntax to import the dataset from kaggle, so after running the cropping process, we don't need to run this anymore. Just use the final cropping data in zip file."
      ]
    },
    {
      "cell_type": "code",
      "metadata": {
        "id": "_o5UVQtMgh9j",
        "colab_type": "code",
        "colab": {
          "resources": {
            "http://localhost:8080/nbextensions/google.colab/files.js": {
              "data": "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",
              "ok": true,
              "headers": [
                [
                  "content-type",
                  "application/javascript"
                ]
              ],
              "status": 200,
              "status_text": ""
            }
          },
          "base_uri": "https://localhost:8080/",
          "height": 74
        },
        "outputId": "85ae5180-8ddc-4d07-bfce-70fedb9c7a9f"
      },
      "source": [
        "from google.colab import files\n",
        "\n",
        "!pip install -q kaggle\n",
        "\n",
        "uploaded = files.upload()"
      ],
      "execution_count": null,
      "outputs": [
        {
          "output_type": "display_data",
          "data": {
            "text/html": [
              "\n",
              "     <input type=\"file\" id=\"files-ea23a2fa-aa97-443b-8f19-b087ccf55951\" name=\"files[]\" multiple disabled />\n",
              "     <output id=\"result-ea23a2fa-aa97-443b-8f19-b087ccf55951\">\n",
              "      Upload widget is only available when the cell has been executed in the\n",
              "      current browser session. Please rerun this cell to enable.\n",
              "      </output>\n",
              "      <script src=\"/nbextensions/google.colab/files.js\"></script> "
            ],
            "text/plain": [
              "<IPython.core.display.HTML object>"
            ]
          },
          "metadata": {
            "tags": []
          }
        },
        {
          "output_type": "stream",
          "text": [
            "Saving kaggle.json to kaggle.json\n"
          ],
          "name": "stdout"
        }
      ]
    },
    {
      "cell_type": "code",
      "metadata": {
        "id": "Yrcby-FZhnYE",
        "colab_type": "code",
        "colab": {
          "base_uri": "https://localhost:8080/",
          "height": 67
        },
        "outputId": "38628414-eb02-491c-a238-3e14ef20f1ff"
      },
      "source": [
        "!mkdir -p ~/.kaggle\n",
        "!cp kaggle.json ~/.kaggle/\n",
        "!chmod 600 ~/.kaggle/kaggle.json\n",
        "!kaggle datasets download -d apoorvwatsky/miraclvc1"
      ],
      "execution_count": null,
      "outputs": [
        {
          "output_type": "stream",
          "text": [
            "Downloading miraclvc1.zip to /content\n",
            "100% 5.12G/5.13G [01:54<00:00, 58.3MB/s]\n",
            "100% 5.13G/5.13G [01:54<00:00, 48.1MB/s]\n"
          ],
          "name": "stdout"
        }
      ]
    },
    {
      "cell_type": "code",
      "metadata": {
        "id": "1PEPn5DLisWT",
        "colab_type": "code",
        "colab": {}
      },
      "source": [
        "import zipfile\n",
        "\n",
        "#Extract the file from zip file\n",
        "images = zipfile.ZipFile(\"/content/miraclvc1.zip\", 'r')\n",
        "images.extractall(\"/content\")\n",
        "images.close()"
      ],
      "execution_count": null,
      "outputs": []
    },
    {
      "cell_type": "markdown",
      "metadata": {
        "id": "C9G7e6Br6Lcr",
        "colab_type": "text"
      },
      "source": [
        "# **Data Preprocessing**"
      ]
    },
    {
      "cell_type": "markdown",
      "metadata": {
        "id": "k7tfa2gRnBid",
        "colab_type": "text"
      },
      "source": [
        "This section contains of;\n",
        "1. Set random seed\n",
        "2. Facial detection process\n",
        "3. Lip cropping process\n",
        "4. Facial landmarks coordinate extraction\n",
        "5. Lip cropping images\n",
        "6. Sequential dataset\n",
        "7. Data splitting process\n",
        "8. Independent variables expand dimension"
      ]
    },
    {
      "cell_type": "code",
      "metadata": {
        "id": "eZ8ONq1fhEgz",
        "colab_type": "code",
        "colab": {}
      },
      "source": [
        "#Set random number gnerator (RNG)\n",
        "os.environ['PYTHONHASHSEED'] = '0'\n",
        "np.random.seed(2)\n",
        "random.seed(2)\n",
        "tf.random.set_seed(2)\n",
        "session_conf = tf.compat.v1.ConfigProto(intra_op_parallelism_threads = 1,\n",
        "                              inter_op_parallelism_threads = 1)\n",
        "seeds = tf.compat.v1.Session(graph = tf.compat.v1.get_default_graph(), config = session_conf)\n",
        "tf.compat.v1.keras.backend.set_session(seeds)"
      ],
      "execution_count": null,
      "outputs": []
    },
    {
      "cell_type": "code",
      "metadata": {
        "id": "jwP7IxMFm9Vn",
        "colab_type": "code",
        "colab": {}
      },
      "source": [
        "#Dataset description in file\n",
        "\n",
        "respondent = ['F01', 'F02', 'F04', 'F05', 'F06', 'F07', 'F08', 'F09', \n",
        "              'F10', 'F11', 'M01', 'M02', 'M04', 'M07', 'M08']\n",
        "data_types = ['words']\n",
        "folder_enumerate = ['01', '02', '03', '04', '05', '06', '07', '08', '09', '10']\n",
        "instances = ['01', '02', '03', '04', '05', '06', '07', '08', '09', '10']\n",
        "\n",
        "words = ['Begin', 'Choose', 'Connection', 'Navigation', 'Next', 'Previous',\n",
        "         'Start', 'Stop', 'Hello', 'Web']\n",
        "phrases = ['Stop Navigation.', 'Excuse me.', 'I am sorry.', 'Thank you.', \n",
        "           'Good bye.', 'I love this game.', 'Nice to meet you.',\n",
        "           'You are welcome.', 'How are you?', 'Have a good time.']\n"
      ],
      "execution_count": null,
      "outputs": []
    },
    {
      "cell_type": "markdown",
      "metadata": {
        "id": "3T-6d_pfpnfj",
        "colab_type": "text"
      },
      "source": [
        "# **This is the syntax to crop all the datasets, if you have extracted it into the zip file, you don't have to run it anymore.** "
      ]
    },
    {
      "cell_type": "code",
      "metadata": {
        "id": "S9CHlrJ66O_2",
        "colab_type": "code",
        "colab": {}
      },
      "source": [
        "#Facial Landmark Mapping to Numpy Array\n",
        "\n",
        "def shape_to_np (facial, dtype = 'int'):\n",
        "#This function is generated to convert the facial landmarks (68 points)\n",
        "#as the integers in (x,y)-coordinates in 2-dimensional-tuples\n",
        "    coordinates = np.zeros((68,2), dtype = dtype)\n",
        "    for i in range(0, 68):\n",
        "        coordinates[i] = (facial.part(i).x, facial.part(i).y)\n",
        "    \n",
        "    return coordinates"
      ],
      "execution_count": null,
      "outputs": []
    },
    {
      "cell_type": "code",
      "metadata": {
        "id": "gQmTS0GredG4",
        "colab_type": "code",
        "colab": {}
      },
      "source": [
        "from imutils import face_utils"
      ],
      "execution_count": null,
      "outputs": []
    },
    {
      "cell_type": "code",
      "metadata": {
        "id": "W_YpFHG46PL5",
        "colab_type": "code",
        "colab": {}
      },
      "source": [
        "#Lip Image Cropping \n",
        "\n",
        "def image_cropping(img_path):\n",
        "#This function is generated to detect and map all the facial landmarks (68 points)\n",
        "#It also resize the image and save the (x,y) coordinates\n",
        "\n",
        "    detector = dlib.get_frontal_face_detector()\n",
        "    predictor = dlib.shape_predictor('/content/shape_predictor_68_face_landmarks.dat')\n",
        "\n",
        "    image = cv2.imread(img_path)\n",
        "    image = imutils.resize(image, width = 500)\n",
        "    image = cv2.cvtColor(image, cv2.COLOR_BGR2GRAY)\n",
        "    detection = detector(image, 1)\n",
        "\n",
        "    if len(detection) > 1:\n",
        "      print('ERROR : Detect more than 1 face')\n",
        "      return\n",
        "    if len(detection) < 1:\n",
        "      print('ERROR : Detect no faces')\n",
        "      return\n",
        "    \n",
        "    for (i, detect) in enumerate(detection) :\n",
        "      facial = predictor(image, detect)\n",
        "      facial = face_utils.shape_to_np(facial)\n",
        "      name, i, j = 'mouth', 48, 68\n",
        "\n",
        "      (x, y, w, h) = cv2.boundingRect(np.array([facial[i:j]]))\n",
        "      lip = image[y:y+h, x:x+w]\n",
        "      lip = imutils.resize(lip, width = 250, inter = cv2.INTER_CUBIC)\n",
        "      \n",
        "    return lip\n"
      ],
      "execution_count": null,
      "outputs": []
    },
    {
      "cell_type": "code",
      "metadata": {
        "id": "GaENt_7F1vXJ",
        "colab_type": "code",
        "colab": {
          "base_uri": "https://localhost:8080/",
          "height": 269
        },
        "outputId": "dbfc2e3e-1121-4bb2-8f0e-2533d086df80"
      },
      "source": [
        "#Directory Processing\n",
        "\n",
        "if not os.path.exists('/content/final_cropping_data'):\n",
        "    os.mkdir('/content/final_cropping_data')\n",
        "directory = '/content/final_cropping_data/'\n",
        "\n",
        "for person in respondent :\n",
        "    t1 = time.time\n",
        "    if not os.path.exists( directory + person) :\n",
        "        os.mkdir(directory + person + '/')\n",
        "    for data in data_types :\n",
        "        if not os.path.exists(directory + person + '/' + data) :\n",
        "            os.mkdir(directory + person + '/' + data + '/')\n",
        "        for context in folder_enumerate :\n",
        "            if not os.path.exists(directory + person + '/' + data + '/' + \n",
        "                                 context) :\n",
        "                os.mkdir(directory + person + '/' + data + '/' + \n",
        "                         context + '/')\n",
        "            for word in instances :\n",
        "                if not os.path.exists(directory + person + '/' + data + \n",
        "                                     '/' + context + '/' + word) :\n",
        "                      os.mkdir(directory + person + '/' + data + \n",
        "                               '/' + context + '/' + word + '/')\n",
        "                \n",
        "                direct_file = '/content/dataset/dataset/' + person + '/' + data + '/' + context + '/' + word + '/'\n",
        "                save_file = directory + person + '/' + data + '/' + context + '/' + word + '/' \n",
        "                pic = os.listdir(direct_file)\n",
        "                for img in pic :\n",
        "                    if img.startswith('color') :\n",
        "                        image = direct_file + img\n",
        "                        lip = image_cropping(image)\n",
        "                        cv2.imwrite(save_file + img, lip)\n",
        "    \n",
        "    t2 = time.time()\n",
        "    print(f'Finish for {person}')\n",
        "\n"
      ],
      "execution_count": null,
      "outputs": [
        {
          "output_type": "stream",
          "text": [
            "Finish for F01\n",
            "Finish for F02\n",
            "Finish for F04\n",
            "Finish for F05\n",
            "Finish for F06\n",
            "Finish for F07\n",
            "Finish for F08\n",
            "Finish for F09\n",
            "Finish for F10\n",
            "Finish for F11\n",
            "Finish for M01\n",
            "Finish for M02\n",
            "Finish for M04\n",
            "Finish for M07\n",
            "Finish for M08\n"
          ],
          "name": "stdout"
        }
      ]
    },
    {
      "cell_type": "code",
      "metadata": {
        "id": "mRXwwRRt9iRn",
        "colab_type": "code",
        "colab": {}
      },
      "source": [
        "import shutil"
      ],
      "execution_count": null,
      "outputs": []
    },
    {
      "cell_type": "code",
      "metadata": {
        "id": "8TPPCFVOCvov",
        "colab_type": "code",
        "colab": {
          "base_uri": "https://localhost:8080/",
          "height": 34
        },
        "outputId": "447b1d52-9b8d-4ebe-ddee-bea1c33814c5"
      },
      "source": [
        "shutil.make_archive('final_cropping_data', 'zip', base_dir = '/content/final_cropping_data')"
      ],
      "execution_count": null,
      "outputs": [
        {
          "output_type": "execute_result",
          "data": {
            "text/plain": [
              "'final_cropping_data.zip'"
            ]
          },
          "metadata": {
            "tags": []
          },
          "execution_count": 101
        }
      ]
    },
    {
      "cell_type": "markdown",
      "metadata": {
        "id": "ilIhK1Iqi_zN",
        "colab_type": "text"
      },
      "source": [
        "# **Running cells process starts here** \n",
        "\n",
        "After extracting all the images into zip file, download it and then it can be uploaded again if the model want to be develop more. The download process must be done since the cropping process spends about 5 hours per running"
      ]
    },
    {
      "cell_type": "code",
      "metadata": {
        "id": "e9WZrTyS6mcz",
        "colab_type": "code",
        "colab": {
          "resources": {
            "http://localhost:8080/nbextensions/google.colab/files.js": {
              "data": "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",
              "ok": true,
              "headers": [
                [
                  "content-type",
                  "application/javascript"
                ]
              ],
              "status": 200,
              "status_text": ""
            }
          },
          "base_uri": "https://localhost:8080/",
          "height": 73
        },
        "outputId": "29967cc4-4f00-402e-a107-615d92d3caf1"
      },
      "source": [
        "#Upload zip file of cropping dataset from the computer\n",
        "from google.colab import files\n",
        "\n",
        "uploaded = files.upload()"
      ],
      "execution_count": null,
      "outputs": [
        {
          "output_type": "display_data",
          "data": {
            "text/html": [
              "\n",
              "     <input type=\"file\" id=\"files-49a42572-ff22-4b5f-b0f0-26d3b5663dc1\" name=\"files[]\" multiple disabled\n",
              "        style=\"border:none\" />\n",
              "     <output id=\"result-49a42572-ff22-4b5f-b0f0-26d3b5663dc1\">\n",
              "      Upload widget is only available when the cell has been executed in the\n",
              "      current browser session. Please rerun this cell to enable.\n",
              "      </output>\n",
              "      <script src=\"/nbextensions/google.colab/files.js\"></script> "
            ],
            "text/plain": [
              "<IPython.core.display.HTML object>"
            ]
          },
          "metadata": {
            "tags": []
          }
        },
        {
          "output_type": "stream",
          "text": [
            "Saving final_cropping_data.zip to final_cropping_data (1).zip\n"
          ],
          "name": "stdout"
        }
      ]
    },
    {
      "cell_type": "code",
      "metadata": {
        "id": "BcGb4xEw6ug6",
        "colab_type": "code",
        "colab": {}
      },
      "source": [
        "#Extract the file from file_data_cropping zip file\n",
        "images = zipfile.ZipFile(\"/content/final_cropping_data.zip\", 'r')\n",
        "images.extractall(\"/content\")\n",
        "images.close()"
      ],
      "execution_count": null,
      "outputs": []
    },
    {
      "cell_type": "code",
      "metadata": {
        "id": "yPMRgFI0u7hS",
        "colab_type": "code",
        "colab": {}
      },
      "source": [
        "#Reading Initialization\n",
        "max_sequence_len = 22\n",
        "Max_width = 100\n",
        "Max_height = 100\n",
        "\n",
        "X_train = []\n",
        "Y_train = []\n",
        "X_val = []\n",
        "Y_val = []\n",
        "X_test = []\n",
        "Y_test = []\n"
      ],
      "execution_count": null,
      "outputs": []
    },
    {
      "cell_type": "code",
      "metadata": {
        "id": "x4ag1346wFVS",
        "colab_type": "code",
        "colab": {
          "base_uri": "https://localhost:8080/",
          "height": 269
        },
        "outputId": "d7e2148f-aaa6-4f22-ed5c-42990ec809eb"
      },
      "source": [
        "Validation_data = ['F05', 'M04']\n",
        "Test_data = ['F08']\n",
        "\n",
        "directory = '/content/content/final_cropping_data'\n",
        "\n",
        "for person in respondent :\n",
        "    ti = time.time()\n",
        "    for data in data_types :\n",
        "        for word_index, word in enumerate(folder_enumerate) :\n",
        "            for context in instances :\n",
        "                image_path = os.path.join(directory, person, data, word, context)\n",
        "                image_list = sorted(os.listdir(image_path + '/'))\n",
        "                sequence = []\n",
        "                for img in image_list :\n",
        "                    image = cv2.imread(image_path + '/' + img)\n",
        "                    image = cv2.resize(image, (Max_width, Max_height))\n",
        "                    image = cv2.cvtColor(image, cv2.COLOR_BGR2GRAY)\n",
        "                    image = image.astype(np.uint8)\n",
        "                    sequence.append(image)\n",
        "                \n",
        "                padded_arr = [np.zeros((Max_width, Max_height))]\n",
        "                sequence.extend(padded_arr * (max_sequence_len - len(sequence)))\n",
        "                sequence = np.array(sequence)\n",
        "\n",
        "\n",
        "                if person in Validation_data :\n",
        "                    X_val.append(sequence)\n",
        "                    Y_val.append(word_index)\n",
        "                elif person in Test_data :\n",
        "                    X_test.append(sequence)\n",
        "                    Y_test.append(word_index)\n",
        "                else :\n",
        "                    X_train.append(sequence)\n",
        "                    Y_train.append(word_index)\n",
        "    tf = time.time()\n",
        "    print(f'Finish for {person}, in {tf - ti} secs.')"
      ],
      "execution_count": null,
      "outputs": [
        {
          "output_type": "stream",
          "text": [
            "Finish for F01, in 1.0841219425201416 secs.\n",
            "Finish for F02, in 0.9454305171966553 secs.\n",
            "Finish for F04, in 1.4092183113098145 secs.\n",
            "Finish for F05, in 1.1567661762237549 secs.\n",
            "Finish for F06, in 1.1765389442443848 secs.\n",
            "Finish for F07, in 1.2618467807769775 secs.\n",
            "Finish for F08, in 1.1162943840026855 secs.\n",
            "Finish for F09, in 0.9719297885894775 secs.\n",
            "Finish for F10, in 0.9137532711029053 secs.\n",
            "Finish for F11, in 0.8096168041229248 secs.\n",
            "Finish for M01, in 0.9881234169006348 secs.\n",
            "Finish for M02, in 1.0860767364501953 secs.\n",
            "Finish for M04, in 0.9662511348724365 secs.\n",
            "Finish for M07, in 0.9104080200195312 secs.\n",
            "Finish for M08, in 0.8935766220092773 secs.\n"
          ],
          "name": "stdout"
        }
      ]
    },
    {
      "cell_type": "code",
      "metadata": {
        "id": "IuZKhEOYIAJ2",
        "colab_type": "code",
        "colab": {}
      },
      "source": [
        "X_train = np.array(X_train)\n",
        "X_test = np.array(X_test)\n",
        "X_val = np.array(X_val)"
      ],
      "execution_count": null,
      "outputs": []
    },
    {
      "cell_type": "code",
      "metadata": {
        "id": "vaaA7108InhC",
        "colab_type": "code",
        "colab": {
          "base_uri": "https://localhost:8080/",
          "height": 67
        },
        "outputId": "0168a133-8d2d-4d59-96df-ac0c93ac7c7f"
      },
      "source": [
        "print(X_train.shape)\n",
        "print(X_val.shape)\n",
        "print(X_test.shape)"
      ],
      "execution_count": null,
      "outputs": [
        {
          "output_type": "stream",
          "text": [
            "(1200, 22, 100, 100)\n",
            "(200, 22, 100, 100)\n",
            "(100, 22, 100, 100)\n"
          ],
          "name": "stdout"
        }
      ]
    },
    {
      "cell_type": "code",
      "metadata": {
        "id": "EQbQDYCOKQE-",
        "colab_type": "code",
        "colab": {
          "base_uri": "https://localhost:8080/",
          "height": 67
        },
        "outputId": "69ac764f-cff7-49df-f8e9-c103795e4243"
      },
      "source": [
        "Y_train = np.array(Y_train)\n",
        "Y_val = np.array(Y_val)\n",
        "Y_test = np.array(Y_test)\n",
        "\n",
        "print(Y_train.shape)\n",
        "print(Y_val.shape)\n",
        "print(Y_test.shape)"
      ],
      "execution_count": null,
      "outputs": [
        {
          "output_type": "stream",
          "text": [
            "(1200,)\n",
            "(200,)\n",
            "(100,)\n"
          ],
          "name": "stdout"
        }
      ]
    },
    {
      "cell_type": "code",
      "metadata": {
        "id": "SV1F-HWBK2Dm",
        "colab_type": "code",
        "colab": {}
      },
      "source": [
        "#Normalization process\n",
        "\n",
        "X_train = X_train/255.0\n",
        "X_val = X_val/255.0\n",
        "X_test = X_test/255.0"
      ],
      "execution_count": null,
      "outputs": []
    },
    {
      "cell_type": "code",
      "metadata": {
        "id": "CAbec5eKLElm",
        "colab_type": "code",
        "colab": {}
      },
      "source": [
        "#Transforming Y feature to the categorical feature and randomization process\n",
        "from tensorflow import keras\n",
        "\n",
        "Y_train = keras.utils.to_categorical(Y_train, 10)\n",
        "Y_val = keras.utils.to_categorical(Y_val, 10)\n",
        "Y_test = keras.utils.to_categorical(Y_test, 10)\n"
      ],
      "execution_count": null,
      "outputs": []
    },
    {
      "cell_type": "code",
      "metadata": {
        "id": "3JIaZvt8QKz9",
        "colab_type": "code",
        "colab": {}
      },
      "source": [
        "X_train = np.expand_dims(X_train, axis = 4)\n",
        "X_val = np.expand_dims(X_val, axis = 4)\n",
        "X_test = np.expand_dims(X_test, axis = 4)"
      ],
      "execution_count": null,
      "outputs": []
    },
    {
      "cell_type": "code",
      "metadata": {
        "id": "48M0owKzPVjy",
        "colab_type": "code",
        "colab": {
          "base_uri": "https://localhost:8080/",
          "height": 67
        },
        "outputId": "72765a55-c030-4ed3-ba77-9643d449f7d1"
      },
      "source": [
        "print(X_train.shape)\n",
        "print(X_val.shape)\n",
        "print(X_test.shape)"
      ],
      "execution_count": null,
      "outputs": [
        {
          "output_type": "stream",
          "text": [
            "(1200, 22, 100, 100, 1)\n",
            "(200, 22, 100, 100, 1)\n",
            "(100, 22, 100, 100, 1)\n"
          ],
          "name": "stdout"
        }
      ]
    },
    {
      "cell_type": "code",
      "metadata": {
        "id": "j4c6EUtaVRq_",
        "colab_type": "code",
        "colab": {
          "base_uri": "https://localhost:8080/",
          "height": 34
        },
        "outputId": "0392867f-f3dd-47fb-9d7d-f104142f5729"
      },
      "source": [
        "print (words)\n",
        "\n",
        "labels = '\\n'.join(sorted(words))\n",
        "\n",
        "with open('labels.txt', 'w') as f:\n",
        "  f.write(labels)"
      ],
      "execution_count": null,
      "outputs": [
        {
          "output_type": "stream",
          "text": [
            "['Begin', 'Choose', 'Connection', 'Navigation', 'Next', 'Previous', 'Start', 'Stop', 'Hello', 'Web']\n"
          ],
          "name": "stdout"
        }
      ]
    },
    {
      "cell_type": "markdown",
      "metadata": {
        "id": "J0l-mDm3cM0X",
        "colab_type": "text"
      },
      "source": [
        "# **Model Development (LipNet)** \n",
        "\n",
        "The model development process using two references in papers to increase the accuracy and the running speed. The model development steps can be identify below :\n",
        "1. Random optimizer model function\n",
        "2. Callbacks model function\n",
        "3. Model development\n",
        "4. Running process\n",
        "5. Result \n",
        "6. Model saving and deployment"
      ]
    },
    {
      "cell_type": "code",
      "metadata": {
        "id": "W5_9HngYXz2i",
        "colab_type": "code",
        "colab": {}
      },
      "source": [
        "import tensorflow as tf\n",
        "\n",
        "class Cont_Coin_Betting (Optimizer) :\n",
        "\n",
        "    def __init__(self, alpha = 100, use_locking = False, name = 'Cont_Coin_Betting') :\n",
        "        super(Cont_Coin_Betting, self).__init__(use_locking, name)\n",
        "        self._alpha = alpha\n",
        "\n",
        "    def _create_slots(self, var_list) :\n",
        "        for v in var_list :\n",
        "            with ops.colocate_with(v) :\n",
        "                grad_total = constant_op.constant(0, shape = v.get_shape(),\n",
        "                                                  dtype = v.dtype.base_dtype)\n",
        "                grad_total_norm = constant_op.constant(0, shape = v.get_shape(),\n",
        "                                                       dtype = v.dtype.base_dtype)\n",
        "                L = constant_op.constant(1e-8, shape = v.get_shape(),\n",
        "                                         dtype = v.dtype.base_dtype)\n",
        "                w_tilde = constant_op.constant(0.0, shape = v.get_shape(), \n",
        "                                               dtype = v.dtype.base_dtype)\n",
        "                reward = constant_op.constant(0.0, shape = v.get_shape(), \n",
        "                                              dtype = v.dtype.base_dtype)\n",
        "            \n",
        "            self._get_or_make_slot(v, L, 'L', self._name)\n",
        "            self._get_or_make_slot(v, grad_total, 'grad_total', self._name)\n",
        "            self._get_or_make_slot(v, grad_total_norm, 'grad_total_norm', self._name)\n",
        "            self._get_or_make_slot(v, w_tilde, 'w_tilde', self._name)\n",
        "            self._get_or_make_slot(v, reward, 'reward', self._name)\n",
        "\n",
        "    def _apply_dense(self, grad, var) :\n",
        "        grad_total = self.get_slot(var, 'grad_total')\n",
        "        grad_total_norm = self.get_slot(var, 'grad_total_norm')\n",
        "        w_tilde = self.get_slot(var, 'w_tilde')\n",
        "        L = self.get_slot(var, 'L')\n",
        "        reward = self.get_slot(var, 'reward')\n",
        "\n",
        "        L_update = tf.maximum(L, tf.abs(grad))\n",
        "        grad_total_update = grad_total + grad\n",
        "        grad_total_norm_update = grad_total_norm + tf.abs(grad)\n",
        "        reward_update = tf.maximum(reward - grad * w_tilde, 0)\n",
        "        w_tilde_update = -grad_total_update / (L_update * (tf.maximum(grad_total_norm_update + L_update, self._alpha * L_update))) * (reward_update + L_update)\n",
        "        var_update = var - w_tilde + w_tilde_update\n",
        "\n",
        "        grad_total_update_op = state_ops.assign(grad_total, grad_total_update)\n",
        "        grad_total_norm_update_op = state_ops.assign(grad_total_norm, grad_total_norm_update)\n",
        "        var_update_op = state_ops.assign(var, var_update)\n",
        "        w_tilde_update_op = state_ops.assign(w_tilde, w_tilde_update)\n",
        "        L_update_op = state_ops.assign(L, L_update)\n",
        "        reward_update_op = state_ops.assign(reward, reward_update)\n",
        "\n",
        "        return control_flow_ops.group(*[grad_total_update_op, var_update_op, \n",
        "                                        grad_total_norm_update_op, w_tilde_update_op,\n",
        "                                        reward_update_op, L_update_op])\n",
        "        \n",
        "    def _apply_sparse(self, grad, var) :\n",
        "        return self._apply_dense(grad, var)\n",
        "\n",
        "    def _resource_apply_dense(self, grad, handle) :\n",
        "        return self._apply_dense(grad, handle)\n",
        "\n",
        "    def get_config(self):\n",
        "        config = {'alpha': float(K.get_value(self._alpha)) }\n",
        "        base_config = super(Cont_Coin_Betting(), self).get_config()\n",
        "        return dict(list(base_config.items()) + list(config.items()))"
      ],
      "execution_count": null,
      "outputs": []
    },
    {
      "cell_type": "code",
      "metadata": {
        "id": "2zrAEbQXHCY4",
        "colab_type": "code",
        "colab": {}
      },
      "source": [
        "class myCallback (keras.callbacks.Callback) :\n",
        "    def on_epoch_end (self, epoch, logs = {} ) :\n",
        "        if (logs.get('accuracy') > 0.97) :\n",
        "            print('\\n Accuracy is high enough so running is cancelled')\n",
        "            self.model.stop_training = True"
      ],
      "execution_count": null,
      "outputs": []
    },
    {
      "cell_type": "code",
      "metadata": {
        "id": "oco7crF7vIGv",
        "colab_type": "code",
        "colab": {}
      },
      "source": [
        "callbacks = myCallback()"
      ],
      "execution_count": null,
      "outputs": []
    },
    {
      "cell_type": "code",
      "metadata": {
        "id": "K3mSIMPgoB4y",
        "colab_type": "code",
        "colab": {}
      },
      "source": [
        "def LipNNvar ():\n",
        "\n",
        "  model = Sequential()\n",
        "  model.add(ZeroPadding3D(padding = (1, 2, 2), input_shape = (22, 100, 100, 1)))\n",
        "  model.add(Conv3D(32, (3, 5, 5), strides = (1, 2, 2), activation = 'relu'))\n",
        "  model.add(SpatialDropout3D(0.5))\n",
        "  model.add(MaxPooling3D((1, 2, 2), strides = (1, 2, 2)))\n",
        "  model.add(ZeroPadding3D(padding = (1, 2, 2)))\n",
        "  model.add(Conv3D(64, (3, 5, 5), strides = (1, 2, 2), activation = 'relu'))\n",
        "  model.add(SpatialDropout3D(0.5))\n",
        "  model.add(MaxPooling3D((1, 2, 2), strides = (1, 2, 2)))\n",
        "  model.add(ZeroPadding3D(padding = (1, 2, 2)))\n",
        "  model.add(Conv3D(96, (3, 5, 5), strides = (1, 2, 2), activation = 'relu'))\n",
        "  model.add(SpatialDropout3D(0.5))\n",
        "  model.add(MaxPooling3D((1, 2, 2), strides = (1, 2, 2)))\n",
        "\n",
        "  model.add(TimeDistributed(Flatten()))\n",
        "\n",
        "  model.add(Bidirectional(LSTM(32, return_sequences = True)))\n",
        "  model.add(Bidirectional(LSTM(32,  return_sequences = True)))\n",
        "  model.add(Dropout(0.5))\n",
        "  model.add(Flatten())\n",
        "\n",
        "  model.add(Dense(1024, activation = 'relu'))\n",
        "  model.add(Dropout(0.5))\n",
        "  model.add(Dense(512, activation = 'relu'))\n",
        "  model.add(Dropout(0.5))\n",
        "  model.add(Dense(10, activation = 'softmax'))\n",
        "\n",
        "  return model"
      ],
      "execution_count": null,
      "outputs": []
    },
    {
      "cell_type": "code",
      "metadata": {
        "id": "CXpywAUnFWa5",
        "colab_type": "code",
        "colab": {
          "base_uri": "https://localhost:8080/",
          "height": 890
        },
        "outputId": "71aac42c-b22e-4067-87b0-eb4e2edc0425"
      },
      "source": [
        "model1 = LipNNvar()\n",
        "model1.summary()"
      ],
      "execution_count": null,
      "outputs": [
        {
          "output_type": "stream",
          "text": [
            "Model: \"sequential_1\"\n",
            "_________________________________________________________________\n",
            "Layer (type)                 Output Shape              Param #   \n",
            "=================================================================\n",
            "zero_padding3d (ZeroPadding3 (None, 24, 104, 104, 1)   0         \n",
            "_________________________________________________________________\n",
            "conv3d_3 (Conv3D)            (None, 22, 50, 50, 32)    2432      \n",
            "_________________________________________________________________\n",
            "spatial_dropout3d_3 (Spatial (None, 22, 50, 50, 32)    0         \n",
            "_________________________________________________________________\n",
            "max_pooling3d_3 (MaxPooling3 (None, 22, 25, 25, 32)    0         \n",
            "_________________________________________________________________\n",
            "zero_padding3d_1 (ZeroPaddin (None, 24, 29, 29, 32)    0         \n",
            "_________________________________________________________________\n",
            "conv3d_4 (Conv3D)            (None, 22, 13, 13, 64)    153664    \n",
            "_________________________________________________________________\n",
            "spatial_dropout3d_4 (Spatial (None, 22, 13, 13, 64)    0         \n",
            "_________________________________________________________________\n",
            "max_pooling3d_4 (MaxPooling3 (None, 22, 6, 6, 64)      0         \n",
            "_________________________________________________________________\n",
            "zero_padding3d_2 (ZeroPaddin (None, 24, 10, 10, 64)    0         \n",
            "_________________________________________________________________\n",
            "conv3d_5 (Conv3D)            (None, 22, 3, 3, 96)      460896    \n",
            "_________________________________________________________________\n",
            "spatial_dropout3d_5 (Spatial (None, 22, 3, 3, 96)      0         \n",
            "_________________________________________________________________\n",
            "max_pooling3d_5 (MaxPooling3 (None, 22, 1, 1, 96)      0         \n",
            "_________________________________________________________________\n",
            "time_distributed (TimeDistri (None, 22, 96)            0         \n",
            "_________________________________________________________________\n",
            "bidirectional_2 (Bidirection (None, 22, 64)            33024     \n",
            "_________________________________________________________________\n",
            "bidirectional_3 (Bidirection (None, 22, 64)            24832     \n",
            "_________________________________________________________________\n",
            "dropout_3 (Dropout)          (None, 22, 64)            0         \n",
            "_________________________________________________________________\n",
            "flatten_2 (Flatten)          (None, 1408)              0         \n",
            "_________________________________________________________________\n",
            "dense_3 (Dense)              (None, 1024)              1442816   \n",
            "_________________________________________________________________\n",
            "dropout_4 (Dropout)          (None, 1024)              0         \n",
            "_________________________________________________________________\n",
            "dense_4 (Dense)              (None, 512)               524800    \n",
            "_________________________________________________________________\n",
            "dropout_5 (Dropout)          (None, 512)               0         \n",
            "_________________________________________________________________\n",
            "dense_5 (Dense)              (None, 10)                5130      \n",
            "=================================================================\n",
            "Total params: 2,647,594\n",
            "Trainable params: 2,647,594\n",
            "Non-trainable params: 0\n",
            "_________________________________________________________________\n"
          ],
          "name": "stdout"
        }
      ]
    },
    {
      "cell_type": "code",
      "metadata": {
        "id": "nn36B2lxFcVS",
        "colab_type": "code",
        "colab": {}
      },
      "source": [
        "model1.compile(loss = 'categorical_crossentropy', optimizer = 'Adagrad', metrics = ['accuracy'])"
      ],
      "execution_count": null,
      "outputs": []
    },
    {
      "cell_type": "code",
      "metadata": {
        "id": "ReSZusLrFSxw",
        "colab_type": "code",
        "colab": {
          "base_uri": "https://localhost:8080/",
          "height": 1000
        },
        "outputId": "c0ca0016-408c-4530-8848-8bd397b34f97"
      },
      "source": [
        "history1 = model1.fit(X_train, Y_train, batch_size = 10, epochs = 200, \n",
        "                    validation_data = (X_val, Y_val), shuffle = True, )"
      ],
      "execution_count": null,
      "outputs": [
        {
          "output_type": "stream",
          "text": [
            "Epoch 1/200\n",
            "120/120 [==============================] - 16s 134ms/step - loss: 2.3106 - accuracy: 0.0917 - val_loss: 2.3007 - val_accuracy: 0.1000\n",
            "Epoch 2/200\n",
            "120/120 [==============================] - 14s 119ms/step - loss: 2.3016 - accuracy: 0.1033 - val_loss: 2.3004 - val_accuracy: 0.0700\n",
            "Epoch 3/200\n",
            "120/120 [==============================] - 14s 119ms/step - loss: 2.3021 - accuracy: 0.1142 - val_loss: 2.2984 - val_accuracy: 0.1600\n",
            "Epoch 4/200\n",
            "120/120 [==============================] - 14s 119ms/step - loss: 2.2981 - accuracy: 0.1050 - val_loss: 2.2969 - val_accuracy: 0.1150\n",
            "Epoch 5/200\n",
            "120/120 [==============================] - 14s 118ms/step - loss: 2.3043 - accuracy: 0.0933 - val_loss: 2.2971 - val_accuracy: 0.1000\n",
            "Epoch 6/200\n",
            "120/120 [==============================] - 14s 119ms/step - loss: 2.3010 - accuracy: 0.0942 - val_loss: 2.2975 - val_accuracy: 0.1500\n",
            "Epoch 7/200\n",
            "120/120 [==============================] - 14s 118ms/step - loss: 2.2999 - accuracy: 0.0950 - val_loss: 2.2984 - val_accuracy: 0.1800\n",
            "Epoch 8/200\n",
            "120/120 [==============================] - 14s 118ms/step - loss: 2.2962 - accuracy: 0.1233 - val_loss: 2.2933 - val_accuracy: 0.1600\n",
            "Epoch 9/200\n",
            "120/120 [==============================] - 14s 119ms/step - loss: 2.2971 - accuracy: 0.1275 - val_loss: 2.2906 - val_accuracy: 0.1400\n",
            "Epoch 10/200\n",
            "120/120 [==============================] - 14s 119ms/step - loss: 2.2977 - accuracy: 0.1217 - val_loss: 2.2904 - val_accuracy: 0.1950\n",
            "Epoch 11/200\n",
            "120/120 [==============================] - 14s 119ms/step - loss: 2.2967 - accuracy: 0.1167 - val_loss: 2.2893 - val_accuracy: 0.1900\n",
            "Epoch 12/200\n",
            "120/120 [==============================] - 14s 119ms/step - loss: 2.2982 - accuracy: 0.0983 - val_loss: 2.2891 - val_accuracy: 0.2150\n",
            "Epoch 13/200\n",
            "120/120 [==============================] - 14s 119ms/step - loss: 2.2955 - accuracy: 0.1300 - val_loss: 2.2869 - val_accuracy: 0.2250\n",
            "Epoch 14/200\n",
            "120/120 [==============================] - 14s 119ms/step - loss: 2.2936 - accuracy: 0.1133 - val_loss: 2.2831 - val_accuracy: 0.2000\n",
            "Epoch 15/200\n",
            "120/120 [==============================] - 14s 119ms/step - loss: 2.2930 - accuracy: 0.1258 - val_loss: 2.2882 - val_accuracy: 0.1650\n",
            "Epoch 16/200\n",
            "120/120 [==============================] - 14s 120ms/step - loss: 2.2881 - accuracy: 0.1325 - val_loss: 2.2741 - val_accuracy: 0.1650\n",
            "Epoch 17/200\n",
            "120/120 [==============================] - 14s 119ms/step - loss: 2.2908 - accuracy: 0.1308 - val_loss: 2.2751 - val_accuracy: 0.2400\n",
            "Epoch 18/200\n",
            "120/120 [==============================] - 14s 119ms/step - loss: 2.2872 - accuracy: 0.1500 - val_loss: 2.2728 - val_accuracy: 0.2500\n",
            "Epoch 19/200\n",
            "120/120 [==============================] - 14s 119ms/step - loss: 2.2868 - accuracy: 0.1400 - val_loss: 2.2639 - val_accuracy: 0.1950\n",
            "Epoch 20/200\n",
            "120/120 [==============================] - 14s 119ms/step - loss: 2.2830 - accuracy: 0.1383 - val_loss: 2.2629 - val_accuracy: 0.2450\n",
            "Epoch 21/200\n",
            "120/120 [==============================] - 14s 119ms/step - loss: 2.2838 - accuracy: 0.1317 - val_loss: 2.2563 - val_accuracy: 0.2300\n",
            "Epoch 22/200\n",
            "120/120 [==============================] - 14s 119ms/step - loss: 2.2804 - accuracy: 0.1292 - val_loss: 2.2531 - val_accuracy: 0.2450\n",
            "Epoch 23/200\n",
            "120/120 [==============================] - 14s 119ms/step - loss: 2.2757 - accuracy: 0.1442 - val_loss: 2.2512 - val_accuracy: 0.2450\n",
            "Epoch 24/200\n",
            "120/120 [==============================] - 14s 119ms/step - loss: 2.2788 - accuracy: 0.1158 - val_loss: 2.2473 - val_accuracy: 0.2600\n",
            "Epoch 25/200\n",
            "120/120 [==============================] - 14s 119ms/step - loss: 2.2806 - accuracy: 0.1408 - val_loss: 2.2423 - val_accuracy: 0.2450\n",
            "Epoch 26/200\n",
            "120/120 [==============================] - 14s 119ms/step - loss: 2.2717 - accuracy: 0.1525 - val_loss: 2.2334 - val_accuracy: 0.2500\n",
            "Epoch 27/200\n",
            "120/120 [==============================] - 14s 119ms/step - loss: 2.2638 - accuracy: 0.1425 - val_loss: 2.2245 - val_accuracy: 0.2200\n",
            "Epoch 28/200\n",
            "120/120 [==============================] - 14s 119ms/step - loss: 2.2767 - accuracy: 0.1392 - val_loss: 2.2310 - val_accuracy: 0.2250\n",
            "Epoch 29/200\n",
            "120/120 [==============================] - 14s 119ms/step - loss: 2.2723 - accuracy: 0.1558 - val_loss: 2.2234 - val_accuracy: 0.2500\n",
            "Epoch 30/200\n",
            "120/120 [==============================] - 14s 119ms/step - loss: 2.2595 - accuracy: 0.1583 - val_loss: 2.2159 - val_accuracy: 0.2200\n",
            "Epoch 31/200\n",
            "120/120 [==============================] - 14s 119ms/step - loss: 2.2556 - accuracy: 0.1483 - val_loss: 2.1920 - val_accuracy: 0.2600\n",
            "Epoch 32/200\n",
            "120/120 [==============================] - 14s 119ms/step - loss: 2.2476 - accuracy: 0.1625 - val_loss: 2.1831 - val_accuracy: 0.2450\n",
            "Epoch 33/200\n",
            "120/120 [==============================] - 14s 119ms/step - loss: 2.2505 - accuracy: 0.1558 - val_loss: 2.1873 - val_accuracy: 0.2100\n",
            "Epoch 34/200\n",
            "120/120 [==============================] - 14s 119ms/step - loss: 2.2386 - accuracy: 0.1667 - val_loss: 2.1720 - val_accuracy: 0.1900\n",
            "Epoch 35/200\n",
            "120/120 [==============================] - 14s 119ms/step - loss: 2.2224 - accuracy: 0.1775 - val_loss: 2.1529 - val_accuracy: 0.2050\n",
            "Epoch 36/200\n",
            "120/120 [==============================] - 14s 119ms/step - loss: 2.2134 - accuracy: 0.1658 - val_loss: 2.1242 - val_accuracy: 0.1800\n",
            "Epoch 37/200\n",
            "120/120 [==============================] - 14s 119ms/step - loss: 2.2028 - accuracy: 0.1925 - val_loss: 2.0964 - val_accuracy: 0.2550\n",
            "Epoch 38/200\n",
            "120/120 [==============================] - 14s 118ms/step - loss: 2.1950 - accuracy: 0.1667 - val_loss: 2.1205 - val_accuracy: 0.2150\n",
            "Epoch 39/200\n",
            "120/120 [==============================] - 14s 118ms/step - loss: 2.1760 - accuracy: 0.1717 - val_loss: 2.1151 - val_accuracy: 0.1650\n",
            "Epoch 40/200\n",
            "120/120 [==============================] - 14s 119ms/step - loss: 2.1568 - accuracy: 0.2067 - val_loss: 2.0289 - val_accuracy: 0.2500\n",
            "Epoch 41/200\n",
            "120/120 [==============================] - 14s 119ms/step - loss: 2.1499 - accuracy: 0.1750 - val_loss: 2.0428 - val_accuracy: 0.2100\n",
            "Epoch 42/200\n",
            "120/120 [==============================] - 14s 119ms/step - loss: 2.1373 - accuracy: 0.1933 - val_loss: 2.0156 - val_accuracy: 0.2500\n",
            "Epoch 43/200\n",
            "120/120 [==============================] - 14s 119ms/step - loss: 2.0994 - accuracy: 0.2067 - val_loss: 2.0083 - val_accuracy: 0.2350\n",
            "Epoch 44/200\n",
            "120/120 [==============================] - 14s 119ms/step - loss: 2.0951 - accuracy: 0.1983 - val_loss: 2.0017 - val_accuracy: 0.2300\n",
            "Epoch 45/200\n",
            "120/120 [==============================] - 14s 119ms/step - loss: 2.0704 - accuracy: 0.2117 - val_loss: 1.9106 - val_accuracy: 0.2800\n",
            "Epoch 46/200\n",
            "120/120 [==============================] - 14s 119ms/step - loss: 2.0648 - accuracy: 0.2125 - val_loss: 1.8981 - val_accuracy: 0.3000\n",
            "Epoch 47/200\n",
            "120/120 [==============================] - 14s 119ms/step - loss: 2.0620 - accuracy: 0.2233 - val_loss: 1.8923 - val_accuracy: 0.3000\n",
            "Epoch 48/200\n",
            "120/120 [==============================] - 14s 119ms/step - loss: 2.0121 - accuracy: 0.2250 - val_loss: 1.8476 - val_accuracy: 0.3450\n",
            "Epoch 49/200\n",
            "120/120 [==============================] - 14s 119ms/step - loss: 2.0335 - accuracy: 0.2067 - val_loss: 1.8757 - val_accuracy: 0.2750\n",
            "Epoch 50/200\n",
            "120/120 [==============================] - 14s 119ms/step - loss: 2.0096 - accuracy: 0.2283 - val_loss: 1.9147 - val_accuracy: 0.2850\n",
            "Epoch 51/200\n",
            "120/120 [==============================] - 14s 119ms/step - loss: 1.9789 - accuracy: 0.2492 - val_loss: 1.8310 - val_accuracy: 0.2900\n",
            "Epoch 52/200\n",
            "120/120 [==============================] - 14s 119ms/step - loss: 1.9613 - accuracy: 0.2475 - val_loss: 1.8298 - val_accuracy: 0.2600\n",
            "Epoch 53/200\n",
            "120/120 [==============================] - 14s 119ms/step - loss: 1.9499 - accuracy: 0.2383 - val_loss: 1.8588 - val_accuracy: 0.2450\n",
            "Epoch 54/200\n",
            "120/120 [==============================] - 14s 119ms/step - loss: 1.9405 - accuracy: 0.2350 - val_loss: 1.8350 - val_accuracy: 0.2950\n",
            "Epoch 55/200\n",
            "120/120 [==============================] - 14s 119ms/step - loss: 1.9439 - accuracy: 0.2442 - val_loss: 1.8146 - val_accuracy: 0.2850\n",
            "Epoch 56/200\n",
            "120/120 [==============================] - 14s 119ms/step - loss: 1.9336 - accuracy: 0.2683 - val_loss: 1.7978 - val_accuracy: 0.2400\n",
            "Epoch 57/200\n",
            "120/120 [==============================] - 14s 119ms/step - loss: 1.9244 - accuracy: 0.2500 - val_loss: 1.8016 - val_accuracy: 0.3100\n",
            "Epoch 58/200\n",
            "120/120 [==============================] - 14s 119ms/step - loss: 1.9194 - accuracy: 0.2492 - val_loss: 1.8042 - val_accuracy: 0.3200\n",
            "Epoch 59/200\n",
            "120/120 [==============================] - 14s 120ms/step - loss: 1.8865 - accuracy: 0.2608 - val_loss: 1.8148 - val_accuracy: 0.2800\n",
            "Epoch 60/200\n",
            "120/120 [==============================] - 14s 119ms/step - loss: 1.8909 - accuracy: 0.2558 - val_loss: 1.8185 - val_accuracy: 0.2750\n",
            "Epoch 61/200\n",
            "120/120 [==============================] - 14s 119ms/step - loss: 1.8769 - accuracy: 0.2808 - val_loss: 1.7971 - val_accuracy: 0.3000\n",
            "Epoch 62/200\n",
            "120/120 [==============================] - 14s 119ms/step - loss: 1.8638 - accuracy: 0.2792 - val_loss: 1.7536 - val_accuracy: 0.3000\n",
            "Epoch 63/200\n",
            "120/120 [==============================] - 14s 119ms/step - loss: 1.8726 - accuracy: 0.2800 - val_loss: 1.7731 - val_accuracy: 0.2950\n",
            "Epoch 64/200\n",
            "120/120 [==============================] - 14s 119ms/step - loss: 1.8599 - accuracy: 0.2817 - val_loss: 1.8877 - val_accuracy: 0.2950\n",
            "Epoch 65/200\n",
            "120/120 [==============================] - 14s 119ms/step - loss: 1.8448 - accuracy: 0.2833 - val_loss: 1.9099 - val_accuracy: 0.2800\n",
            "Epoch 66/200\n",
            "120/120 [==============================] - 14s 119ms/step - loss: 1.8369 - accuracy: 0.2808 - val_loss: 1.8540 - val_accuracy: 0.3000\n",
            "Epoch 67/200\n",
            "120/120 [==============================] - 14s 119ms/step - loss: 1.8033 - accuracy: 0.3017 - val_loss: 1.7873 - val_accuracy: 0.3000\n",
            "Epoch 68/200\n",
            "120/120 [==============================] - 14s 119ms/step - loss: 1.8144 - accuracy: 0.2817 - val_loss: 1.8536 - val_accuracy: 0.3050\n",
            "Epoch 69/200\n",
            "120/120 [==============================] - 14s 119ms/step - loss: 1.8116 - accuracy: 0.2983 - val_loss: 1.7986 - val_accuracy: 0.3050\n",
            "Epoch 70/200\n",
            "120/120 [==============================] - 14s 119ms/step - loss: 1.7790 - accuracy: 0.3133 - val_loss: 1.8263 - val_accuracy: 0.3050\n",
            "Epoch 71/200\n",
            "120/120 [==============================] - 14s 119ms/step - loss: 1.7787 - accuracy: 0.3000 - val_loss: 1.7797 - val_accuracy: 0.3200\n",
            "Epoch 72/200\n",
            "120/120 [==============================] - 14s 119ms/step - loss: 1.7822 - accuracy: 0.2900 - val_loss: 1.7369 - val_accuracy: 0.3500\n",
            "Epoch 73/200\n",
            "120/120 [==============================] - 14s 118ms/step - loss: 1.7407 - accuracy: 0.3175 - val_loss: 1.7333 - val_accuracy: 0.3500\n",
            "Epoch 74/200\n",
            "120/120 [==============================] - 14s 119ms/step - loss: 1.7377 - accuracy: 0.3200 - val_loss: 1.7360 - val_accuracy: 0.3550\n",
            "Epoch 75/200\n",
            "120/120 [==============================] - 14s 119ms/step - loss: 1.7470 - accuracy: 0.3150 - val_loss: 1.7968 - val_accuracy: 0.3000\n",
            "Epoch 76/200\n",
            "120/120 [==============================] - 14s 119ms/step - loss: 1.7559 - accuracy: 0.3125 - val_loss: 1.7311 - val_accuracy: 0.3700\n",
            "Epoch 77/200\n",
            "120/120 [==============================] - 14s 119ms/step - loss: 1.7427 - accuracy: 0.3050 - val_loss: 1.7095 - val_accuracy: 0.3800\n",
            "Epoch 78/200\n",
            "120/120 [==============================] - 14s 119ms/step - loss: 1.7154 - accuracy: 0.3217 - val_loss: 1.7036 - val_accuracy: 0.3750\n",
            "Epoch 79/200\n",
            "120/120 [==============================] - 14s 119ms/step - loss: 1.7228 - accuracy: 0.3075 - val_loss: 1.7284 - val_accuracy: 0.3500\n",
            "Epoch 80/200\n",
            "120/120 [==============================] - 14s 119ms/step - loss: 1.7218 - accuracy: 0.3183 - val_loss: 1.7031 - val_accuracy: 0.3800\n",
            "Epoch 81/200\n",
            "120/120 [==============================] - 14s 119ms/step - loss: 1.6878 - accuracy: 0.3442 - val_loss: 1.6736 - val_accuracy: 0.3850\n",
            "Epoch 82/200\n",
            "120/120 [==============================] - 14s 119ms/step - loss: 1.6929 - accuracy: 0.3250 - val_loss: 1.7091 - val_accuracy: 0.3650\n",
            "Epoch 83/200\n",
            "120/120 [==============================] - 14s 119ms/step - loss: 1.6945 - accuracy: 0.3308 - val_loss: 1.6866 - val_accuracy: 0.3750\n",
            "Epoch 84/200\n",
            "120/120 [==============================] - 14s 119ms/step - loss: 1.6782 - accuracy: 0.3342 - val_loss: 1.7306 - val_accuracy: 0.3350\n",
            "Epoch 85/200\n",
            "120/120 [==============================] - 14s 118ms/step - loss: 1.6850 - accuracy: 0.3158 - val_loss: 1.6555 - val_accuracy: 0.4000\n",
            "Epoch 86/200\n",
            "120/120 [==============================] - 14s 119ms/step - loss: 1.6813 - accuracy: 0.3225 - val_loss: 1.6694 - val_accuracy: 0.3850\n",
            "Epoch 87/200\n",
            "120/120 [==============================] - 14s 119ms/step - loss: 1.6737 - accuracy: 0.3108 - val_loss: 1.7456 - val_accuracy: 0.3450\n",
            "Epoch 88/200\n",
            "120/120 [==============================] - 14s 119ms/step - loss: 1.6291 - accuracy: 0.3542 - val_loss: 1.7083 - val_accuracy: 0.3600\n",
            "Epoch 89/200\n",
            "120/120 [==============================] - 14s 119ms/step - loss: 1.6210 - accuracy: 0.3583 - val_loss: 1.7646 - val_accuracy: 0.3450\n",
            "Epoch 90/200\n",
            "120/120 [==============================] - 14s 119ms/step - loss: 1.6582 - accuracy: 0.3358 - val_loss: 1.6910 - val_accuracy: 0.3800\n",
            "Epoch 91/200\n",
            "120/120 [==============================] - 14s 119ms/step - loss: 1.6277 - accuracy: 0.3458 - val_loss: 1.6524 - val_accuracy: 0.3900\n",
            "Epoch 92/200\n",
            "120/120 [==============================] - 14s 118ms/step - loss: 1.6398 - accuracy: 0.3467 - val_loss: 1.6842 - val_accuracy: 0.3850\n",
            "Epoch 93/200\n",
            "120/120 [==============================] - 14s 117ms/step - loss: 1.6547 - accuracy: 0.3308 - val_loss: 1.6817 - val_accuracy: 0.3900\n",
            "Epoch 94/200\n",
            "120/120 [==============================] - 14s 118ms/step - loss: 1.6245 - accuracy: 0.3400 - val_loss: 1.6914 - val_accuracy: 0.3650\n",
            "Epoch 95/200\n",
            "120/120 [==============================] - 14s 117ms/step - loss: 1.5978 - accuracy: 0.3583 - val_loss: 1.6692 - val_accuracy: 0.3850\n",
            "Epoch 96/200\n",
            "120/120 [==============================] - 14s 117ms/step - loss: 1.6060 - accuracy: 0.3500 - val_loss: 1.6366 - val_accuracy: 0.3800\n",
            "Epoch 97/200\n",
            "120/120 [==============================] - 14s 117ms/step - loss: 1.6088 - accuracy: 0.3433 - val_loss: 1.7043 - val_accuracy: 0.3600\n",
            "Epoch 98/200\n",
            "120/120 [==============================] - 14s 118ms/step - loss: 1.6244 - accuracy: 0.3283 - val_loss: 1.7564 - val_accuracy: 0.3250\n",
            "Epoch 99/200\n",
            "120/120 [==============================] - 14s 118ms/step - loss: 1.6163 - accuracy: 0.3325 - val_loss: 1.6295 - val_accuracy: 0.3850\n",
            "Epoch 100/200\n",
            "120/120 [==============================] - 14s 118ms/step - loss: 1.5926 - accuracy: 0.3842 - val_loss: 1.7091 - val_accuracy: 0.3750\n",
            "Epoch 101/200\n",
            "120/120 [==============================] - 14s 118ms/step - loss: 1.5736 - accuracy: 0.3542 - val_loss: 1.7088 - val_accuracy: 0.3700\n",
            "Epoch 102/200\n",
            "120/120 [==============================] - 14s 119ms/step - loss: 1.5849 - accuracy: 0.3650 - val_loss: 1.7122 - val_accuracy: 0.3700\n",
            "Epoch 103/200\n",
            "120/120 [==============================] - 14s 119ms/step - loss: 1.5687 - accuracy: 0.3808 - val_loss: 1.7486 - val_accuracy: 0.3550\n",
            "Epoch 104/200\n",
            "120/120 [==============================] - 14s 118ms/step - loss: 1.5675 - accuracy: 0.3608 - val_loss: 1.7664 - val_accuracy: 0.3450\n",
            "Epoch 105/200\n",
            "120/120 [==============================] - 14s 118ms/step - loss: 1.5726 - accuracy: 0.3692 - val_loss: 1.7461 - val_accuracy: 0.3550\n",
            "Epoch 106/200\n",
            "120/120 [==============================] - 14s 118ms/step - loss: 1.5463 - accuracy: 0.3775 - val_loss: 1.6685 - val_accuracy: 0.3900\n",
            "Epoch 107/200\n",
            "120/120 [==============================] - 14s 118ms/step - loss: 1.5522 - accuracy: 0.3742 - val_loss: 1.7104 - val_accuracy: 0.3750\n",
            "Epoch 108/200\n",
            "120/120 [==============================] - 14s 119ms/step - loss: 1.5566 - accuracy: 0.3883 - val_loss: 1.7424 - val_accuracy: 0.3550\n",
            "Epoch 109/200\n",
            "120/120 [==============================] - 14s 117ms/step - loss: 1.5644 - accuracy: 0.3658 - val_loss: 1.6923 - val_accuracy: 0.3900\n",
            "Epoch 110/200\n",
            "120/120 [==============================] - 14s 118ms/step - loss: 1.5326 - accuracy: 0.3825 - val_loss: 1.7547 - val_accuracy: 0.3500\n",
            "Epoch 111/200\n",
            "120/120 [==============================] - 14s 118ms/step - loss: 1.5136 - accuracy: 0.3758 - val_loss: 1.6945 - val_accuracy: 0.3700\n",
            "Epoch 112/200\n",
            "120/120 [==============================] - 14s 118ms/step - loss: 1.5747 - accuracy: 0.3567 - val_loss: 1.7537 - val_accuracy: 0.3500\n",
            "Epoch 113/200\n",
            "120/120 [==============================] - 14s 117ms/step - loss: 1.5355 - accuracy: 0.3933 - val_loss: 1.6743 - val_accuracy: 0.3800\n",
            "Epoch 114/200\n",
            "120/120 [==============================] - 14s 118ms/step - loss: 1.5327 - accuracy: 0.3983 - val_loss: 1.6842 - val_accuracy: 0.3850\n",
            "Epoch 115/200\n",
            "120/120 [==============================] - 14s 118ms/step - loss: 1.5136 - accuracy: 0.3892 - val_loss: 1.6955 - val_accuracy: 0.3800\n",
            "Epoch 116/200\n",
            "120/120 [==============================] - 14s 118ms/step - loss: 1.5267 - accuracy: 0.3883 - val_loss: 1.6723 - val_accuracy: 0.3900\n",
            "Epoch 117/200\n",
            "120/120 [==============================] - 14s 118ms/step - loss: 1.5433 - accuracy: 0.3950 - val_loss: 1.6525 - val_accuracy: 0.4050\n",
            "Epoch 118/200\n",
            "120/120 [==============================] - 14s 119ms/step - loss: 1.5010 - accuracy: 0.3800 - val_loss: 1.6597 - val_accuracy: 0.4000\n",
            "Epoch 119/200\n",
            "120/120 [==============================] - 14s 118ms/step - loss: 1.4982 - accuracy: 0.3950 - val_loss: 1.6170 - val_accuracy: 0.4100\n",
            "Epoch 120/200\n",
            "120/120 [==============================] - 14s 118ms/step - loss: 1.4837 - accuracy: 0.3967 - val_loss: 1.7235 - val_accuracy: 0.3750\n",
            "Epoch 121/200\n",
            "120/120 [==============================] - 14s 118ms/step - loss: 1.4768 - accuracy: 0.4008 - val_loss: 1.7357 - val_accuracy: 0.3700\n",
            "Epoch 122/200\n",
            "120/120 [==============================] - 14s 118ms/step - loss: 1.4926 - accuracy: 0.4033 - val_loss: 1.6764 - val_accuracy: 0.3750\n",
            "Epoch 123/200\n",
            "120/120 [==============================] - 14s 118ms/step - loss: 1.4812 - accuracy: 0.3942 - val_loss: 1.7307 - val_accuracy: 0.3550\n",
            "Epoch 124/200\n",
            "120/120 [==============================] - 14s 118ms/step - loss: 1.4757 - accuracy: 0.4108 - val_loss: 1.6152 - val_accuracy: 0.4050\n",
            "Epoch 125/200\n",
            "120/120 [==============================] - 14s 117ms/step - loss: 1.4654 - accuracy: 0.4200 - val_loss: 1.6419 - val_accuracy: 0.4000\n",
            "Epoch 126/200\n",
            "120/120 [==============================] - 14s 118ms/step - loss: 1.4728 - accuracy: 0.4125 - val_loss: 1.7580 - val_accuracy: 0.3600\n",
            "Epoch 127/200\n",
            "120/120 [==============================] - 14s 118ms/step - loss: 1.4810 - accuracy: 0.4092 - val_loss: 1.7384 - val_accuracy: 0.3750\n",
            "Epoch 128/200\n",
            "120/120 [==============================] - 14s 118ms/step - loss: 1.4601 - accuracy: 0.3975 - val_loss: 1.6649 - val_accuracy: 0.3850\n",
            "Epoch 129/200\n",
            "120/120 [==============================] - 14s 118ms/step - loss: 1.4536 - accuracy: 0.4142 - val_loss: 1.6807 - val_accuracy: 0.3750\n",
            "Epoch 130/200\n",
            "120/120 [==============================] - 14s 118ms/step - loss: 1.4556 - accuracy: 0.4158 - val_loss: 1.7103 - val_accuracy: 0.3850\n",
            "Epoch 131/200\n",
            "120/120 [==============================] - 14s 118ms/step - loss: 1.4717 - accuracy: 0.4008 - val_loss: 1.6462 - val_accuracy: 0.4000\n",
            "Epoch 132/200\n",
            "120/120 [==============================] - 14s 118ms/step - loss: 1.4485 - accuracy: 0.4233 - val_loss: 1.6269 - val_accuracy: 0.3950\n",
            "Epoch 133/200\n",
            "120/120 [==============================] - 14s 118ms/step - loss: 1.4402 - accuracy: 0.4358 - val_loss: 1.6634 - val_accuracy: 0.3900\n",
            "Epoch 134/200\n",
            "120/120 [==============================] - 14s 118ms/step - loss: 1.4268 - accuracy: 0.4342 - val_loss: 1.6091 - val_accuracy: 0.4100\n",
            "Epoch 135/200\n",
            "120/120 [==============================] - 14s 117ms/step - loss: 1.4495 - accuracy: 0.4200 - val_loss: 1.6714 - val_accuracy: 0.4000\n",
            "Epoch 136/200\n",
            "120/120 [==============================] - 14s 118ms/step - loss: 1.4296 - accuracy: 0.4083 - val_loss: 1.6815 - val_accuracy: 0.3950\n",
            "Epoch 137/200\n",
            "120/120 [==============================] - 14s 117ms/step - loss: 1.4121 - accuracy: 0.4250 - val_loss: 1.6561 - val_accuracy: 0.3950\n",
            "Epoch 138/200\n",
            "120/120 [==============================] - 14s 118ms/step - loss: 1.4019 - accuracy: 0.4317 - val_loss: 1.6445 - val_accuracy: 0.3950\n",
            "Epoch 139/200\n",
            "120/120 [==============================] - 14s 118ms/step - loss: 1.4231 - accuracy: 0.4258 - val_loss: 1.6330 - val_accuracy: 0.4000\n",
            "Epoch 140/200\n",
            "120/120 [==============================] - 14s 118ms/step - loss: 1.4348 - accuracy: 0.4233 - val_loss: 1.6325 - val_accuracy: 0.3950\n",
            "Epoch 141/200\n",
            "120/120 [==============================] - 14s 118ms/step - loss: 1.3942 - accuracy: 0.4425 - val_loss: 1.7383 - val_accuracy: 0.3800\n",
            "Epoch 142/200\n",
            "120/120 [==============================] - 14s 118ms/step - loss: 1.3897 - accuracy: 0.4467 - val_loss: 1.7276 - val_accuracy: 0.3950\n",
            "Epoch 143/200\n",
            "120/120 [==============================] - 14s 118ms/step - loss: 1.4206 - accuracy: 0.4033 - val_loss: 1.6502 - val_accuracy: 0.4050\n",
            "Epoch 144/200\n",
            "120/120 [==============================] - 14s 118ms/step - loss: 1.3935 - accuracy: 0.4400 - val_loss: 1.6755 - val_accuracy: 0.3950\n",
            "Epoch 145/200\n",
            "120/120 [==============================] - 14s 117ms/step - loss: 1.3665 - accuracy: 0.4508 - val_loss: 1.6932 - val_accuracy: 0.3850\n",
            "Epoch 146/200\n",
            "120/120 [==============================] - 14s 118ms/step - loss: 1.4009 - accuracy: 0.4275 - val_loss: 1.6915 - val_accuracy: 0.3850\n",
            "Epoch 147/200\n",
            "120/120 [==============================] - 14s 117ms/step - loss: 1.4151 - accuracy: 0.4283 - val_loss: 1.6961 - val_accuracy: 0.3850\n",
            "Epoch 148/200\n",
            "120/120 [==============================] - 14s 118ms/step - loss: 1.3989 - accuracy: 0.4392 - val_loss: 1.6817 - val_accuracy: 0.3900\n",
            "Epoch 149/200\n",
            "120/120 [==============================] - 14s 118ms/step - loss: 1.3792 - accuracy: 0.4508 - val_loss: 1.6866 - val_accuracy: 0.3900\n",
            "Epoch 150/200\n",
            "120/120 [==============================] - 14s 118ms/step - loss: 1.3761 - accuracy: 0.4525 - val_loss: 1.6559 - val_accuracy: 0.3950\n",
            "Epoch 151/200\n",
            "120/120 [==============================] - 14s 118ms/step - loss: 1.3774 - accuracy: 0.4350 - val_loss: 1.6355 - val_accuracy: 0.4050\n",
            "Epoch 152/200\n",
            "120/120 [==============================] - 14s 118ms/step - loss: 1.3632 - accuracy: 0.4708 - val_loss: 1.6262 - val_accuracy: 0.4050\n",
            "Epoch 153/200\n",
            "120/120 [==============================] - 14s 118ms/step - loss: 1.3673 - accuracy: 0.4533 - val_loss: 1.6767 - val_accuracy: 0.3950\n",
            "Epoch 154/200\n",
            "120/120 [==============================] - 14s 118ms/step - loss: 1.3719 - accuracy: 0.4475 - val_loss: 1.6877 - val_accuracy: 0.4050\n",
            "Epoch 155/200\n",
            "120/120 [==============================] - 14s 118ms/step - loss: 1.3870 - accuracy: 0.4425 - val_loss: 1.6613 - val_accuracy: 0.4000\n",
            "Epoch 156/200\n",
            "120/120 [==============================] - 14s 118ms/step - loss: 1.3714 - accuracy: 0.4450 - val_loss: 1.7052 - val_accuracy: 0.3850\n",
            "Epoch 157/200\n",
            "120/120 [==============================] - 14s 118ms/step - loss: 1.3476 - accuracy: 0.4825 - val_loss: 1.6880 - val_accuracy: 0.3950\n",
            "Epoch 158/200\n",
            "120/120 [==============================] - 14s 118ms/step - loss: 1.3533 - accuracy: 0.4708 - val_loss: 1.6501 - val_accuracy: 0.4050\n",
            "Epoch 159/200\n",
            "120/120 [==============================] - 14s 118ms/step - loss: 1.3665 - accuracy: 0.4383 - val_loss: 1.6825 - val_accuracy: 0.4000\n",
            "Epoch 160/200\n",
            "120/120 [==============================] - 14s 118ms/step - loss: 1.3229 - accuracy: 0.4483 - val_loss: 1.6688 - val_accuracy: 0.4100\n",
            "Epoch 161/200\n",
            "120/120 [==============================] - 14s 118ms/step - loss: 1.3294 - accuracy: 0.4742 - val_loss: 1.6479 - val_accuracy: 0.4050\n",
            "Epoch 162/200\n",
            "120/120 [==============================] - 14s 118ms/step - loss: 1.3472 - accuracy: 0.4492 - val_loss: 1.6523 - val_accuracy: 0.4050\n",
            "Epoch 163/200\n",
            "120/120 [==============================] - 14s 118ms/step - loss: 1.3086 - accuracy: 0.4942 - val_loss: 1.7431 - val_accuracy: 0.3900\n",
            "Epoch 164/200\n",
            "120/120 [==============================] - 14s 118ms/step - loss: 1.3389 - accuracy: 0.4650 - val_loss: 1.6675 - val_accuracy: 0.3950\n",
            "Epoch 165/200\n",
            "120/120 [==============================] - 14s 117ms/step - loss: 1.3249 - accuracy: 0.4642 - val_loss: 1.6246 - val_accuracy: 0.4150\n",
            "Epoch 166/200\n",
            "120/120 [==============================] - 14s 118ms/step - loss: 1.3131 - accuracy: 0.4792 - val_loss: 1.6723 - val_accuracy: 0.4000\n",
            "Epoch 167/200\n",
            "120/120 [==============================] - 14s 119ms/step - loss: 1.3375 - accuracy: 0.4592 - val_loss: 1.6824 - val_accuracy: 0.3950\n",
            "Epoch 168/200\n",
            "120/120 [==============================] - 14s 118ms/step - loss: 1.3195 - accuracy: 0.4650 - val_loss: 1.6466 - val_accuracy: 0.4250\n",
            "Epoch 169/200\n",
            "120/120 [==============================] - 14s 117ms/step - loss: 1.2883 - accuracy: 0.4675 - val_loss: 1.6810 - val_accuracy: 0.4150\n",
            "Epoch 170/200\n",
            "120/120 [==============================] - 14s 118ms/step - loss: 1.2960 - accuracy: 0.4750 - val_loss: 1.6144 - val_accuracy: 0.4300\n",
            "Epoch 171/200\n",
            "120/120 [==============================] - 14s 118ms/step - loss: 1.3210 - accuracy: 0.4850 - val_loss: 1.6907 - val_accuracy: 0.4100\n",
            "Epoch 172/200\n",
            "120/120 [==============================] - 14s 118ms/step - loss: 1.3167 - accuracy: 0.4642 - val_loss: 1.6325 - val_accuracy: 0.4250\n",
            "Epoch 173/200\n",
            "120/120 [==============================] - 14s 117ms/step - loss: 1.3018 - accuracy: 0.4742 - val_loss: 1.6738 - val_accuracy: 0.3950\n",
            "Epoch 174/200\n",
            "120/120 [==============================] - 14s 117ms/step - loss: 1.2890 - accuracy: 0.4817 - val_loss: 1.6611 - val_accuracy: 0.4150\n",
            "Epoch 175/200\n",
            "120/120 [==============================] - 14s 118ms/step - loss: 1.3046 - accuracy: 0.4767 - val_loss: 1.6961 - val_accuracy: 0.4000\n",
            "Epoch 176/200\n",
            "120/120 [==============================] - 14s 118ms/step - loss: 1.2925 - accuracy: 0.4725 - val_loss: 1.6647 - val_accuracy: 0.4150\n",
            "Epoch 177/200\n",
            "120/120 [==============================] - 14s 119ms/step - loss: 1.2661 - accuracy: 0.4758 - val_loss: 1.6647 - val_accuracy: 0.4150\n",
            "Epoch 178/200\n",
            "120/120 [==============================] - 14s 118ms/step - loss: 1.2971 - accuracy: 0.4675 - val_loss: 1.6527 - val_accuracy: 0.4150\n",
            "Epoch 179/200\n",
            "120/120 [==============================] - 14s 118ms/step - loss: 1.2905 - accuracy: 0.4917 - val_loss: 1.6926 - val_accuracy: 0.4150\n",
            "Epoch 180/200\n",
            "120/120 [==============================] - 14s 118ms/step - loss: 1.2793 - accuracy: 0.4700 - val_loss: 1.7046 - val_accuracy: 0.4150\n",
            "Epoch 181/200\n",
            "120/120 [==============================] - 14s 118ms/step - loss: 1.2738 - accuracy: 0.4842 - val_loss: 1.6138 - val_accuracy: 0.4400\n",
            "Epoch 182/200\n",
            "120/120 [==============================] - 14s 118ms/step - loss: 1.2987 - accuracy: 0.4650 - val_loss: 1.6102 - val_accuracy: 0.4350\n",
            "Epoch 183/200\n",
            "120/120 [==============================] - 14s 118ms/step - loss: 1.2654 - accuracy: 0.4775 - val_loss: 1.6991 - val_accuracy: 0.4200\n",
            "Epoch 184/200\n",
            "120/120 [==============================] - 14s 118ms/step - loss: 1.2713 - accuracy: 0.4942 - val_loss: 1.6251 - val_accuracy: 0.4400\n",
            "Epoch 185/200\n",
            "120/120 [==============================] - 14s 119ms/step - loss: 1.2456 - accuracy: 0.4983 - val_loss: 1.7059 - val_accuracy: 0.4150\n",
            "Epoch 186/200\n",
            "120/120 [==============================] - 14s 118ms/step - loss: 1.2533 - accuracy: 0.4933 - val_loss: 1.6667 - val_accuracy: 0.4250\n",
            "Epoch 187/200\n",
            "120/120 [==============================] - 14s 119ms/step - loss: 1.2518 - accuracy: 0.4833 - val_loss: 1.6844 - val_accuracy: 0.4250\n",
            "Epoch 188/200\n",
            "120/120 [==============================] - 14s 118ms/step - loss: 1.2772 - accuracy: 0.4783 - val_loss: 1.6818 - val_accuracy: 0.4250\n",
            "Epoch 189/200\n",
            "120/120 [==============================] - 14s 118ms/step - loss: 1.2537 - accuracy: 0.4917 - val_loss: 1.7170 - val_accuracy: 0.4150\n",
            "Epoch 190/200\n",
            "120/120 [==============================] - 14s 117ms/step - loss: 1.2671 - accuracy: 0.5075 - val_loss: 1.6675 - val_accuracy: 0.4350\n",
            "Epoch 191/200\n",
            "120/120 [==============================] - 14s 118ms/step - loss: 1.2383 - accuracy: 0.4983 - val_loss: 1.6741 - val_accuracy: 0.4200\n",
            "Epoch 192/200\n",
            "120/120 [==============================] - 14s 117ms/step - loss: 1.2482 - accuracy: 0.5075 - val_loss: 1.7007 - val_accuracy: 0.4250\n",
            "Epoch 193/200\n",
            "120/120 [==============================] - 14s 117ms/step - loss: 1.2636 - accuracy: 0.4942 - val_loss: 1.6564 - val_accuracy: 0.4350\n",
            "Epoch 194/200\n",
            "120/120 [==============================] - 14s 118ms/step - loss: 1.2480 - accuracy: 0.5058 - val_loss: 1.7093 - val_accuracy: 0.4300\n",
            "Epoch 195/200\n",
            "120/120 [==============================] - 14s 117ms/step - loss: 1.2293 - accuracy: 0.4942 - val_loss: 1.6829 - val_accuracy: 0.4350\n",
            "Epoch 196/200\n",
            "120/120 [==============================] - 14s 118ms/step - loss: 1.2425 - accuracy: 0.4958 - val_loss: 1.6961 - val_accuracy: 0.4250\n",
            "Epoch 197/200\n",
            "120/120 [==============================] - 14s 120ms/step - loss: 1.2617 - accuracy: 0.5058 - val_loss: 1.7572 - val_accuracy: 0.4200\n",
            "Epoch 198/200\n",
            "120/120 [==============================] - 14s 117ms/step - loss: 1.2488 - accuracy: 0.5008 - val_loss: 1.6637 - val_accuracy: 0.4350\n",
            "Epoch 199/200\n",
            "120/120 [==============================] - 14s 118ms/step - loss: 1.2314 - accuracy: 0.5025 - val_loss: 1.6472 - val_accuracy: 0.4500\n",
            "Epoch 200/200\n",
            "120/120 [==============================] - 14s 118ms/step - loss: 1.1979 - accuracy: 0.5267 - val_loss: 1.7060 - val_accuracy: 0.4450\n"
          ],
          "name": "stdout"
        }
      ]
    },
    {
      "cell_type": "code",
      "metadata": {
        "id": "nHPkiwkpMntD",
        "colab_type": "code",
        "colab": {}
      },
      "source": [
        "def LipNN ():\n",
        "\n",
        "  model = Sequential()\n",
        "  model.add(Conv3D(32, (3, 3, 3), strides = 1, input_shape = (22, 100, 100, 1), activation = PReLU(Constant(value = 0.25))))\n",
        "  model.add(SpatialDropout3D(0.2))\n",
        "  model.add(MaxPooling3D((2, 2, 2), strides = 2))\n",
        "  model.add(Conv3D(64, (3, 3, 3), strides = 1, activation = PReLU(Constant(value = 0.25))))\n",
        "  model.add(SpatialDropout3D(0.2))\n",
        "  model.add(MaxPooling3D((2, 2, 2), strides = 2))\n",
        "  model.add(Conv3D(128, (3, 3, 3), strides = 1, activation = PReLU(Constant(value = 0.25))))\n",
        "  model.add(SpatialDropout3D(0.2))\n",
        "  model.add(MaxPooling3D((2, 2, 2), strides = 2))\n",
        "\n",
        "  shape = model.get_output_shape_at(0)\n",
        "  model.add(Reshape((shape[-1],shape[1]*shape[2]*shape[3])))\n",
        "\n",
        "  model.add(Bidirectional(LSTM(32, return_sequences = True)))\n",
        "  model.add(Bidirectional(LSTM(32,  return_sequences = True)))\n",
        "  model.add(Dropout(0.5))\n",
        "  model.add(Flatten())\n",
        "\n",
        "  model.add(Dense(2048, activation = PReLU(Constant(value = 0.25))))\n",
        "  model.add(Dropout(0.5))\n",
        "  model.add(Dense(1024, activation = PReLU(Constant(value = 0.25))))\n",
        "  model.add(Dropout(0.5))\n",
        "  model.add(Dense(10, activation = 'softmax'))\n",
        "\n",
        "  return model"
      ],
      "execution_count": null,
      "outputs": []
    },
    {
      "cell_type": "code",
      "metadata": {
        "id": "x5Aq4DajmG2P",
        "colab_type": "code",
        "colab": {
          "base_uri": "https://localhost:8080/",
          "height": 790
        },
        "outputId": "2a4617f2-9d2c-45df-fcec-8d9f4051acd7"
      },
      "source": [
        "model = LipNN()\n",
        "model.summary()"
      ],
      "execution_count": null,
      "outputs": [
        {
          "output_type": "stream",
          "text": [
            "Model: \"sequential\"\n",
            "_________________________________________________________________\n",
            "Layer (type)                 Output Shape              Param #   \n",
            "=================================================================\n",
            "conv3d (Conv3D)              (None, 20, 98, 98, 32)    6147456   \n",
            "_________________________________________________________________\n",
            "spatial_dropout3d (SpatialDr (None, 20, 98, 98, 32)    0         \n",
            "_________________________________________________________________\n",
            "max_pooling3d (MaxPooling3D) (None, 10, 49, 49, 32)    0         \n",
            "_________________________________________________________________\n",
            "conv3d_1 (Conv3D)            (None, 8, 47, 47, 64)     1186368   \n",
            "_________________________________________________________________\n",
            "spatial_dropout3d_1 (Spatial (None, 8, 47, 47, 64)     0         \n",
            "_________________________________________________________________\n",
            "max_pooling3d_1 (MaxPooling3 (None, 4, 23, 23, 64)     0         \n",
            "_________________________________________________________________\n",
            "conv3d_2 (Conv3D)            (None, 2, 21, 21, 128)    334208    \n",
            "_________________________________________________________________\n",
            "spatial_dropout3d_2 (Spatial (None, 2, 21, 21, 128)    0         \n",
            "_________________________________________________________________\n",
            "max_pooling3d_2 (MaxPooling3 (None, 1, 10, 10, 128)    0         \n",
            "_________________________________________________________________\n",
            "reshape (Reshape)            (None, 128, 100)          0         \n",
            "_________________________________________________________________\n",
            "bidirectional (Bidirectional (None, 128, 64)           34048     \n",
            "_________________________________________________________________\n",
            "bidirectional_1 (Bidirection (None, 128, 64)           24832     \n",
            "_________________________________________________________________\n",
            "dropout (Dropout)            (None, 128, 64)           0         \n",
            "_________________________________________________________________\n",
            "flatten (Flatten)            (None, 8192)              0         \n",
            "_________________________________________________________________\n",
            "dense (Dense)                (None, 2048)              16781312  \n",
            "_________________________________________________________________\n",
            "dropout_1 (Dropout)          (None, 2048)              0         \n",
            "_________________________________________________________________\n",
            "dense_1 (Dense)              (None, 1024)              2099200   \n",
            "_________________________________________________________________\n",
            "dropout_2 (Dropout)          (None, 1024)              0         \n",
            "_________________________________________________________________\n",
            "dense_2 (Dense)              (None, 10)                10250     \n",
            "=================================================================\n",
            "Total params: 26,617,674\n",
            "Trainable params: 26,617,674\n",
            "Non-trainable params: 0\n",
            "_________________________________________________________________\n"
          ],
          "name": "stdout"
        }
      ]
    },
    {
      "cell_type": "code",
      "metadata": {
        "id": "X-t5OF13o4j8",
        "colab_type": "code",
        "colab": {}
      },
      "source": [
        "model.compile(loss = 'categorical_crossentropy', optimizer = 'Adam', metrics = ['accuracy'])"
      ],
      "execution_count": null,
      "outputs": []
    },
    {
      "cell_type": "code",
      "metadata": {
        "id": "t63uFn3JuZEO",
        "colab_type": "code",
        "colab": {
          "base_uri": "https://localhost:8080/",
          "height": 1000
        },
        "outputId": "88bad6dc-4e66-4147-fbba-532a79e11204"
      },
      "source": [
        "history = model.fit(X_train, Y_train, batch_size = 10, epochs = 200, \n",
        "                    validation_data = (X_val, Y_val), shuffle = True, \n",
        "                    callbacks = [callbacks])"
      ],
      "execution_count": null,
      "outputs": [
        {
          "output_type": "stream",
          "text": [
            "Epoch 1/200\n",
            "120/120 [==============================] - 41s 345ms/step - loss: 2.3628 - accuracy: 0.1000 - val_loss: 2.3084 - val_accuracy: 0.1100\n",
            "Epoch 2/200\n",
            "120/120 [==============================] - 40s 332ms/step - loss: 2.3224 - accuracy: 0.1225 - val_loss: 2.3273 - val_accuracy: 0.1000\n",
            "Epoch 3/200\n",
            "120/120 [==============================] - 40s 331ms/step - loss: 2.2512 - accuracy: 0.1592 - val_loss: 2.2138 - val_accuracy: 0.1600\n",
            "Epoch 4/200\n",
            "120/120 [==============================] - 40s 332ms/step - loss: 1.9961 - accuracy: 0.2433 - val_loss: 2.4139 - val_accuracy: 0.1450\n",
            "Epoch 5/200\n",
            "120/120 [==============================] - 40s 331ms/step - loss: 1.7223 - accuracy: 0.3358 - val_loss: 1.5694 - val_accuracy: 0.4200\n",
            "Epoch 6/200\n",
            "120/120 [==============================] - 40s 331ms/step - loss: 1.4738 - accuracy: 0.4500 - val_loss: 1.9193 - val_accuracy: 0.3950\n",
            "Epoch 7/200\n",
            "120/120 [==============================] - 40s 332ms/step - loss: 1.2643 - accuracy: 0.5350 - val_loss: 2.0826 - val_accuracy: 0.4050\n",
            "Epoch 8/200\n",
            "120/120 [==============================] - 40s 332ms/step - loss: 1.1497 - accuracy: 0.5750 - val_loss: 1.7887 - val_accuracy: 0.4800\n",
            "Epoch 9/200\n",
            "120/120 [==============================] - 40s 332ms/step - loss: 1.0282 - accuracy: 0.6242 - val_loss: 2.5418 - val_accuracy: 0.4650\n",
            "Epoch 10/200\n",
            "120/120 [==============================] - 40s 332ms/step - loss: 0.9410 - accuracy: 0.6517 - val_loss: 1.7959 - val_accuracy: 0.5050\n",
            "Epoch 11/200\n",
            "120/120 [==============================] - 40s 331ms/step - loss: 0.8866 - accuracy: 0.6758 - val_loss: 1.5729 - val_accuracy: 0.5700\n",
            "Epoch 12/200\n",
            "120/120 [==============================] - 40s 332ms/step - loss: 0.8009 - accuracy: 0.7033 - val_loss: 1.7430 - val_accuracy: 0.5200\n",
            "Epoch 13/200\n",
            "120/120 [==============================] - 40s 332ms/step - loss: 0.7307 - accuracy: 0.7292 - val_loss: 1.5911 - val_accuracy: 0.5150\n",
            "Epoch 14/200\n",
            "120/120 [==============================] - 40s 332ms/step - loss: 0.6434 - accuracy: 0.7658 - val_loss: 2.2911 - val_accuracy: 0.4850\n",
            "Epoch 15/200\n",
            "120/120 [==============================] - 40s 332ms/step - loss: 0.6495 - accuracy: 0.7583 - val_loss: 1.7297 - val_accuracy: 0.5150\n",
            "Epoch 16/200\n",
            "120/120 [==============================] - 40s 331ms/step - loss: 0.6219 - accuracy: 0.7767 - val_loss: 1.7703 - val_accuracy: 0.6000\n",
            "Epoch 17/200\n",
            "120/120 [==============================] - 40s 331ms/step - loss: 0.5372 - accuracy: 0.8042 - val_loss: 1.9285 - val_accuracy: 0.5800\n",
            "Epoch 18/200\n",
            "120/120 [==============================] - 40s 332ms/step - loss: 0.4839 - accuracy: 0.8267 - val_loss: 3.4988 - val_accuracy: 0.4800\n",
            "Epoch 19/200\n",
            "120/120 [==============================] - 40s 331ms/step - loss: 0.4765 - accuracy: 0.8267 - val_loss: 2.0196 - val_accuracy: 0.5900\n",
            "Epoch 20/200\n",
            "120/120 [==============================] - 40s 331ms/step - loss: 0.5029 - accuracy: 0.8308 - val_loss: 2.3815 - val_accuracy: 0.5200\n",
            "Epoch 21/200\n",
            "120/120 [==============================] - 40s 330ms/step - loss: 0.5103 - accuracy: 0.8258 - val_loss: 2.1666 - val_accuracy: 0.5500\n",
            "Epoch 22/200\n",
            "120/120 [==============================] - 40s 330ms/step - loss: 0.5716 - accuracy: 0.8017 - val_loss: 1.8298 - val_accuracy: 0.6200\n",
            "Epoch 23/200\n",
            "120/120 [==============================] - 40s 331ms/step - loss: 0.4644 - accuracy: 0.8408 - val_loss: 2.5472 - val_accuracy: 0.5400\n",
            "Epoch 24/200\n",
            "120/120 [==============================] - 40s 331ms/step - loss: 0.5153 - accuracy: 0.8300 - val_loss: 2.2405 - val_accuracy: 0.5250\n",
            "Epoch 25/200\n",
            "120/120 [==============================] - 40s 331ms/step - loss: 0.3588 - accuracy: 0.8700 - val_loss: 2.1818 - val_accuracy: 0.5600\n",
            "Epoch 26/200\n",
            "120/120 [==============================] - 40s 331ms/step - loss: 0.3461 - accuracy: 0.8792 - val_loss: 3.2226 - val_accuracy: 0.5550\n",
            "Epoch 27/200\n",
            "120/120 [==============================] - 40s 332ms/step - loss: 0.3599 - accuracy: 0.8800 - val_loss: 2.5048 - val_accuracy: 0.5450\n",
            "Epoch 28/200\n",
            "120/120 [==============================] - 40s 332ms/step - loss: 0.3611 - accuracy: 0.8725 - val_loss: 2.6430 - val_accuracy: 0.5000\n",
            "Epoch 29/200\n",
            "120/120 [==============================] - 40s 332ms/step - loss: 0.2791 - accuracy: 0.8933 - val_loss: 2.2701 - val_accuracy: 0.6100\n",
            "Epoch 30/200\n",
            "120/120 [==============================] - 40s 331ms/step - loss: 0.2871 - accuracy: 0.9042 - val_loss: 2.9039 - val_accuracy: 0.5300\n",
            "Epoch 31/200\n",
            "120/120 [==============================] - 40s 331ms/step - loss: 0.3991 - accuracy: 0.8750 - val_loss: 2.1767 - val_accuracy: 0.5550\n",
            "Epoch 32/200\n",
            "120/120 [==============================] - 40s 331ms/step - loss: 0.2817 - accuracy: 0.9000 - val_loss: 2.2034 - val_accuracy: 0.5750\n",
            "Epoch 33/200\n",
            "120/120 [==============================] - 40s 331ms/step - loss: 0.3628 - accuracy: 0.8850 - val_loss: 2.6829 - val_accuracy: 0.5150\n",
            "Epoch 34/200\n",
            "120/120 [==============================] - 40s 332ms/step - loss: 0.2748 - accuracy: 0.9067 - val_loss: 2.6012 - val_accuracy: 0.5150\n",
            "Epoch 35/200\n",
            "120/120 [==============================] - 40s 332ms/step - loss: 0.3131 - accuracy: 0.8867 - val_loss: 3.0893 - val_accuracy: 0.5500\n",
            "Epoch 36/200\n",
            "120/120 [==============================] - 40s 333ms/step - loss: 0.2432 - accuracy: 0.9200 - val_loss: 2.7534 - val_accuracy: 0.6250\n",
            "Epoch 37/200\n",
            "120/120 [==============================] - 40s 333ms/step - loss: 0.2364 - accuracy: 0.9175 - val_loss: 3.1507 - val_accuracy: 0.5700\n",
            "Epoch 38/200\n",
            "120/120 [==============================] - 40s 333ms/step - loss: 0.2158 - accuracy: 0.9242 - val_loss: 2.1988 - val_accuracy: 0.6500\n",
            "Epoch 39/200\n",
            "120/120 [==============================] - 40s 333ms/step - loss: 0.3026 - accuracy: 0.9025 - val_loss: 2.1345 - val_accuracy: 0.5950\n",
            "Epoch 40/200\n",
            "120/120 [==============================] - 40s 333ms/step - loss: 0.3563 - accuracy: 0.8867 - val_loss: 1.8424 - val_accuracy: 0.6800\n",
            "Epoch 41/200\n",
            "120/120 [==============================] - 40s 333ms/step - loss: 0.2073 - accuracy: 0.9317 - val_loss: 2.0310 - val_accuracy: 0.6500\n",
            "Epoch 42/200\n",
            "120/120 [==============================] - 40s 333ms/step - loss: 0.1899 - accuracy: 0.9383 - val_loss: 3.2677 - val_accuracy: 0.5800\n",
            "Epoch 43/200\n",
            "120/120 [==============================] - 40s 333ms/step - loss: 0.2774 - accuracy: 0.9058 - val_loss: 2.6652 - val_accuracy: 0.6200\n",
            "Epoch 44/200\n",
            "120/120 [==============================] - 40s 332ms/step - loss: 0.2828 - accuracy: 0.9058 - val_loss: 2.6508 - val_accuracy: 0.6250\n",
            "Epoch 45/200\n",
            "120/120 [==============================] - 40s 332ms/step - loss: 0.2072 - accuracy: 0.9367 - val_loss: 2.2164 - val_accuracy: 0.5950\n",
            "Epoch 46/200\n",
            "120/120 [==============================] - 40s 333ms/step - loss: 0.1928 - accuracy: 0.9333 - val_loss: 2.6517 - val_accuracy: 0.5600\n",
            "Epoch 47/200\n",
            "120/120 [==============================] - 40s 332ms/step - loss: 0.2395 - accuracy: 0.9142 - val_loss: 2.3706 - val_accuracy: 0.6400\n",
            "Epoch 48/200\n",
            "120/120 [==============================] - 40s 332ms/step - loss: 0.1905 - accuracy: 0.9425 - val_loss: 3.7280 - val_accuracy: 0.5200\n",
            "Epoch 49/200\n",
            "120/120 [==============================] - 40s 331ms/step - loss: 0.2482 - accuracy: 0.9175 - val_loss: 2.5741 - val_accuracy: 0.6000\n",
            "Epoch 50/200\n",
            "120/120 [==============================] - 40s 332ms/step - loss: 0.1572 - accuracy: 0.9475 - val_loss: 3.0504 - val_accuracy: 0.5750\n",
            "Epoch 51/200\n",
            "120/120 [==============================] - 40s 331ms/step - loss: 0.2195 - accuracy: 0.9267 - val_loss: 2.9414 - val_accuracy: 0.5650\n",
            "Epoch 52/200\n",
            "120/120 [==============================] - 40s 331ms/step - loss: 0.1942 - accuracy: 0.9342 - val_loss: 3.2353 - val_accuracy: 0.5850\n",
            "Epoch 53/200\n",
            "120/120 [==============================] - 40s 331ms/step - loss: 0.2647 - accuracy: 0.9217 - val_loss: 1.9327 - val_accuracy: 0.6350\n",
            "Epoch 54/200\n",
            "120/120 [==============================] - 40s 332ms/step - loss: 0.1632 - accuracy: 0.9467 - val_loss: 2.8437 - val_accuracy: 0.6000\n",
            "Epoch 55/200\n",
            "120/120 [==============================] - 40s 332ms/step - loss: 0.1954 - accuracy: 0.9333 - val_loss: 2.8527 - val_accuracy: 0.5550\n",
            "Epoch 56/200\n",
            "120/120 [==============================] - 40s 333ms/step - loss: 0.2010 - accuracy: 0.9392 - val_loss: 3.0184 - val_accuracy: 0.6050\n",
            "Epoch 57/200\n",
            "120/120 [==============================] - 40s 334ms/step - loss: 0.1368 - accuracy: 0.9567 - val_loss: 3.2652 - val_accuracy: 0.6150\n",
            "Epoch 58/200\n",
            "120/120 [==============================] - 40s 334ms/step - loss: 0.2388 - accuracy: 0.9258 - val_loss: 3.2769 - val_accuracy: 0.5450\n",
            "Epoch 59/200\n",
            "120/120 [==============================] - 40s 334ms/step - loss: 0.1464 - accuracy: 0.9467 - val_loss: 2.6887 - val_accuracy: 0.6150\n",
            "Epoch 60/200\n",
            "120/120 [==============================] - 40s 333ms/step - loss: 0.1839 - accuracy: 0.9408 - val_loss: 1.9122 - val_accuracy: 0.6400\n",
            "Epoch 61/200\n",
            "120/120 [==============================] - 40s 333ms/step - loss: 0.1116 - accuracy: 0.9583 - val_loss: 3.7900 - val_accuracy: 0.5100\n",
            "Epoch 62/200\n",
            "120/120 [==============================] - 40s 333ms/step - loss: 0.1488 - accuracy: 0.9492 - val_loss: 3.3536 - val_accuracy: 0.5700\n",
            "Epoch 63/200\n",
            "120/120 [==============================] - 40s 334ms/step - loss: 0.1551 - accuracy: 0.9558 - val_loss: 2.6077 - val_accuracy: 0.6200\n",
            "Epoch 64/200\n",
            "120/120 [==============================] - 40s 333ms/step - loss: 0.1697 - accuracy: 0.9408 - val_loss: 2.9187 - val_accuracy: 0.5550\n",
            "Epoch 65/200\n",
            "120/120 [==============================] - 40s 333ms/step - loss: 0.1696 - accuracy: 0.9442 - val_loss: 3.7338 - val_accuracy: 0.5550\n",
            "Epoch 66/200\n",
            "120/120 [==============================] - 40s 334ms/step - loss: 0.1403 - accuracy: 0.9533 - val_loss: 4.0608 - val_accuracy: 0.5500\n",
            "Epoch 67/200\n",
            "120/120 [==============================] - 40s 333ms/step - loss: 0.2212 - accuracy: 0.9300 - val_loss: 3.2157 - val_accuracy: 0.5850\n",
            "Epoch 68/200\n",
            "120/120 [==============================] - 40s 333ms/step - loss: 0.1494 - accuracy: 0.9533 - val_loss: 2.6093 - val_accuracy: 0.6550\n",
            "Epoch 69/200\n",
            "120/120 [==============================] - 40s 333ms/step - loss: 0.1515 - accuracy: 0.9508 - val_loss: 3.5033 - val_accuracy: 0.5950\n",
            "Epoch 70/200\n",
            "120/120 [==============================] - 40s 333ms/step - loss: 0.2388 - accuracy: 0.9375 - val_loss: 2.6630 - val_accuracy: 0.5850\n",
            "Epoch 71/200\n",
            "120/120 [==============================] - 40s 333ms/step - loss: 0.2186 - accuracy: 0.9250 - val_loss: 1.8879 - val_accuracy: 0.6250\n",
            "Epoch 72/200\n",
            "120/120 [==============================] - 40s 331ms/step - loss: 0.1020 - accuracy: 0.9683 - val_loss: 2.4895 - val_accuracy: 0.6450\n",
            "Epoch 73/200\n",
            "120/120 [==============================] - 40s 332ms/step - loss: 0.1071 - accuracy: 0.9692 - val_loss: 2.8717 - val_accuracy: 0.5900\n",
            "Epoch 74/200\n",
            "120/120 [==============================] - 40s 332ms/step - loss: 0.1181 - accuracy: 0.9650 - val_loss: 2.4949 - val_accuracy: 0.6500\n",
            "Epoch 75/200\n",
            "120/120 [==============================] - 40s 333ms/step - loss: 0.1110 - accuracy: 0.9683 - val_loss: 2.6188 - val_accuracy: 0.6650\n",
            "Epoch 76/200\n",
            "120/120 [==============================] - 40s 333ms/step - loss: 0.1252 - accuracy: 0.9633 - val_loss: 1.6051 - val_accuracy: 0.7050\n",
            "Epoch 77/200\n",
            "120/120 [==============================] - ETA: 0s - loss: 0.0803 - accuracy: 0.9708\n",
            " Accuracy is high enough so running is cancelled\n",
            "120/120 [==============================] - 40s 333ms/step - loss: 0.0803 - accuracy: 0.9708 - val_loss: 2.4204 - val_accuracy: 0.6250\n"
          ],
          "name": "stdout"
        }
      ]
    },
    {
      "cell_type": "code",
      "metadata": {
        "id": "X9AJRjeq0H4h",
        "colab_type": "code",
        "colab": {
          "base_uri": "https://localhost:8080/",
          "height": 893
        },
        "outputId": "8767a4c5-b819-484d-9a77-5e562f940274"
      },
      "source": [
        "## Model validation\n",
        "\n",
        "acc1 = history1.history['accuracy']\n",
        "val_acc1 = history1.history['val_accuracy']\n",
        "\n",
        "loss1 = history1.history['loss']\n",
        "val_loss1 = history1.history['val_loss']\n",
        "\n",
        "acc = history.history['accuracy']\n",
        "val_acc = history.history['val_accuracy']\n",
        "\n",
        "loss = history.history['loss']\n",
        "val_loss = history.history['val_loss']\n",
        "\n",
        "plt.figure(figsize=(15, 15))\n",
        "plt.subplot(2, 2, 1)\n",
        "plt.plot(acc1, label='Training Accuracy Baseline')\n",
        "plt.plot(acc, label='Training Accuracy Improved Model')\n",
        "plt.legend(loc='lower right')\n",
        "plt.ylabel('Accuracy')\n",
        "plt.ylim([min(plt.ylim()),1])\n",
        "plt.xlabel('Epochs')\n",
        "plt.xlim([0, max(plt.xlim())])\n",
        "plt.title('Training Accuracy Baseline and Improved Model')\n",
        "\n",
        "plt.subplot(2, 2, 2)\n",
        "plt.plot(loss1, label='Training Loss Baseline')\n",
        "plt.plot(loss, label='Training Loss Improved Model')\n",
        "plt.legend(loc='upper right')\n",
        "plt.ylabel('Cross Entropy')\n",
        "plt.ylim([0,max(plt.ylim())])\n",
        "plt.xlim([0, max(plt.xlim())])\n",
        "plt.title('Training Loss Baseline and Improved Model')\n",
        "plt.xlabel('Epochs')\n",
        "\n",
        "plt.subplot(2, 2, 3)\n",
        "plt.plot(val_acc1, label='Validation Accuracy Baseline')\n",
        "plt.plot(val_acc, label='Validation Accuracy Improved Model')\n",
        "plt.legend(loc='lower right')\n",
        "plt.ylabel('Accuracy')\n",
        "plt.ylim([min(plt.ylim()),1])\n",
        "plt.xlabel('Epochs')\n",
        "plt.xlim([0, max(plt.xlim())])\n",
        "plt.title('Validation Accuracy Baseline and Improved Model')\n",
        "\n",
        "plt.subplot(2, 2, 4)\n",
        "plt.plot(val_loss1, label='Valiadtion Loss Baseline')\n",
        "plt.plot(val_loss, label='Validation Loss Improved Model')\n",
        "plt.legend(loc='upper right')\n",
        "plt.ylabel('Cross Entropy')\n",
        "plt.ylim([0,max(plt.ylim())])\n",
        "plt.xlim([0, max(plt.xlim())])\n",
        "plt.title('Validation Loss Baseline and Improved Model')\n",
        "plt.xlabel('Epochs')\n",
        "plt.show()"
      ],
      "execution_count": null,
      "outputs": [
        {
          "output_type": "display_data",
          "data": {
            "image/png": "[encoded data removed]",
            "text/plain": [
              "<Figure size 1080x1080 with 4 Axes>"
            ]
          },
          "metadata": {
            "tags": [],
            "needs_background": "light"
          }
        }
      ]
    },
    {
      "cell_type": "code",
      "metadata": {
        "id": "hGjLccHmH9wy",
        "colab_type": "code",
        "colab": {
          "base_uri": "https://localhost:8080/",
          "height": 34
        },
        "outputId": "b1819522-4c1b-44fb-90c1-c4695595d2aa"
      },
      "source": [
        "#Prediction for testing data for Baseline model\n",
        "Y_pred = model1.predict(X_test)\n",
        "\n",
        "predicted_words = [words[i] for i in np.argmax(Y_pred, axis=1)]\n",
        "actual_words = [words[i] for i in np.argmax(Y_test, axis=1)]\n",
        "\n",
        "correct = 0\n",
        "for predicted, actual in zip(predicted_words, actual_words):\n",
        "    if predicted == actual:\n",
        "        correct += 1\n",
        "#     print(f\"Predicted : {p} \\t Actual : {a}\")\n",
        "\n",
        "accuracy = correct/len(actual_words)\n",
        "print(f\"Accuracy : {accuracy} on completely unseen data for baseline model\")"
      ],
      "execution_count": null,
      "outputs": [
        {
          "output_type": "stream",
          "text": [
            "Accuracy : 0.53 on completely unseen data for baseline model\n"
          ],
          "name": "stdout"
        }
      ]
    },
    {
      "cell_type": "code",
      "metadata": {
        "id": "rA_NttdL1L-a",
        "colab_type": "code",
        "colab": {
          "base_uri": "https://localhost:8080/",
          "height": 34
        },
        "outputId": "eb201596-b70b-4145-bd72-4ae107aa89e3"
      },
      "source": [
        "#Prediction for testing data\n",
        "Y_pred = model.predict(X_test)\n",
        "\n",
        "predicted_words = [words[i] for i in np.argmax(Y_pred, axis=1)]\n",
        "actual_words = [words[i] for i in np.argmax(Y_test, axis=1)]\n",
        "\n",
        "correct = 0\n",
        "for predicted, actual in zip(predicted_words, actual_words):\n",
        "    if predicted == actual:\n",
        "        correct += 1\n",
        "#     print(f\"Predicted : {p} \\t Actual : {a}\")\n",
        "\n",
        "accuracy = correct/len(actual_words)\n",
        "print(f\"Accuracy : {accuracy} on completely unseen data for improved model\")"
      ],
      "execution_count": null,
      "outputs": [
        {
          "output_type": "stream",
          "text": [
            "Accuracy : 0.56 on completely unseen data for improved model\n"
          ],
          "name": "stdout"
        }
      ]
    },
    {
      "cell_type": "code",
      "metadata": {
        "id": "hRiEKSgE23Q2",
        "colab_type": "code",
        "colab": {}
      },
      "source": [
        "model.optimizer"
      ],
      "execution_count": null,
      "outputs": []
    },
    {
      "cell_type": "code",
      "metadata": {
        "id": "VIiyrGMuz3r-",
        "colab_type": "code",
        "colab": {
          "base_uri": "https://localhost:8080/",
          "height": 50
        },
        "outputId": "61ebd23c-71cd-46e2-8659-2d60dee7efad"
      },
      "source": [
        "saved_model_dir = 'save/final_model'\n",
        "tf.saved_model.save(model, saved_model_dir)\n",
        "\n",
        "converter = tf.lite.TFLiteConverter.from_saved_model(saved_model_dir)\n",
        "converter.target_spec.supported_ops = [tf.lite.OpsSet.TFLITE_BUILTINS,\n",
        "                                       tf.lite.OpsSet.SELECT_TF_OPS]\n",
        "tflite_model = converter.convert()\n",
        "\n",
        "with open('model.tflite', 'wb') as f:\n",
        "  f.write(tflite_model)"
      ],
      "execution_count": null,
      "outputs": [
        {
          "output_type": "stream",
          "text": [
            "INFO:tensorflow:Assets written to: save/final_model/assets\n"
          ],
          "name": "stdout"
        },
        {
          "output_type": "stream",
          "text": [
            "INFO:tensorflow:Assets written to: save/final_model/assets\n"
          ],
          "name": "stderr"
        }
      ]
    }
  ]
}