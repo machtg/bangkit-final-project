{
  "nbformat": 4,
  "nbformat_minor": 0,
  "metadata": {
    "colab": {
      "name": "Final Project.ipynb",
      "provenance": [],
      "collapsed_sections": [],
      "include_colab_link": true
    },
    "kernelspec": {
      "name": "python3",
      "display_name": "Python 3"
    },
    "accelerator": "GPU"
  },
  "cells": [
    {
      "cell_type": "markdown",
      "metadata": {
        "id": "view-in-github",
        "colab_type": "text"
      },
      "source": [
        "<a href=\"https://colab.research.google.com/github/machtg/bangkit-final-project/blob/master/Final_Project.ipynb\" target=\"_parent\"><img src=\"https://colab.research.google.com/assets/colab-badge.svg\" alt=\"Open In Colab\"/></a>"
      ]
    },
    {
      "cell_type": "markdown",
      "metadata": {
        "id": "DvEwjSoIV79-",
        "colab_type": "text"
      },
      "source": [
        "# **Final Project Google Bangkit**\n",
        "\n"
      ]
    },
    {
      "cell_type": "markdown",
      "metadata": {
        "id": "KRp_Z5sIV7BF",
        "colab_type": "text"
      },
      "source": [
        "BDG5-D \n",
        "1. Maclaurin Hutagalung\n",
        "2. Nur Salam Al Amin\n",
        "3. Puthut Prabancono\n",
        "4. Raynald Masli\n",
        "\n",
        "Our topic is the **lips reading dataset**"
      ]
    },
    {
      "cell_type": "markdown",
      "metadata": {
        "id": "HPAsGEbV6B9h",
        "colab_type": "text"
      },
      "source": [
        "**Downloading and Unzipping the Dataset**"
      ]
    },
    {
      "cell_type": "code",
      "metadata": {
        "id": "hbInJa_XWjqm",
        "colab_type": "code",
        "colab": {}
      },
      "source": [
        "import pandas as pd\n",
        "import tensorflow as tf\n",
        "import matplotlib.pyplot as plt\n",
        "import numpy as np\n",
        "import os\n",
        "import cv2\n",
        "from tensorflow.keras.layers import *\n",
        "from tensorflow.keras.models import Sequential\n",
        "from tensorflow.keras import optimizers\n",
        "from tensorflow.keras.preprocessing.image import *\n",
        "from tensorflow.keras import backend as Back\n",
        "from tensorflow.keras.initializers import Constant\n",
        "from tensorflow.python.framework import ops\n",
        "from tensorflow.python.ops import state_ops\n",
        "from tensorflow.python.ops import control_flow_ops\n",
        "from tensorflow.python.framework import constant_op\n",
        "from tensorflow.python.training.optimizer import Optimizer\n",
        "import dlib\n",
        "import imutils\n",
        "import zipfile\n",
        "import time\n",
        "from tensorflow import keras\n",
        "import random"
      ],
      "execution_count": null,
      "outputs": []
    },
    {
      "cell_type": "markdown",
      "metadata": {
        "id": "DrKscEsLpLiV",
        "colab_type": "text"
      },
      "source": [
        "The steps below is the syntax to import the dataset from kaggle, so after running the cropping process, we don't need to run this anymore. Just use the final cropping data in zip file."
      ]
    },
    {
      "cell_type": "code",
      "metadata": {
        "id": "_o5UVQtMgh9j",
        "colab_type": "code",
        "colab": {
          "resources": {
            "http://localhost:8080/nbextensions/google.colab/files.js": {
              "data": "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",
              "ok": true,
              "headers": [
                [
                  "content-type",
                  "application/javascript"
                ]
              ],
              "status": 200,
              "status_text": ""
            }
          },
          "base_uri": "https://localhost:8080/",
          "height": 74
        },
        "outputId": "85ae5180-8ddc-4d07-bfce-70fedb9c7a9f"
      },
      "source": [
        "from google.colab import files\n",
        "\n",
        "!pip install -q kaggle\n",
        "\n",
        "uploaded = files.upload()"
      ],
      "execution_count": null,
      "outputs": [
        {
          "output_type": "display_data",
          "data": {
            "text/html": [
              "\n",
              "     <input type=\"file\" id=\"files-ea23a2fa-aa97-443b-8f19-b087ccf55951\" name=\"files[]\" multiple disabled />\n",
              "     <output id=\"result-ea23a2fa-aa97-443b-8f19-b087ccf55951\">\n",
              "      Upload widget is only available when the cell has been executed in the\n",
              "      current browser session. Please rerun this cell to enable.\n",
              "      </output>\n",
              "      <script src=\"/nbextensions/google.colab/files.js\"></script> "
            ],
            "text/plain": [
              "<IPython.core.display.HTML object>"
            ]
          },
          "metadata": {
            "tags": []
          }
        },
        {
          "output_type": "stream",
          "text": [
            "Saving kaggle.json to kaggle.json\n"
          ],
          "name": "stdout"
        }
      ]
    },
    {
      "cell_type": "code",
      "metadata": {
        "id": "Yrcby-FZhnYE",
        "colab_type": "code",
        "colab": {
          "base_uri": "https://localhost:8080/",
          "height": 67
        },
        "outputId": "38628414-eb02-491c-a238-3e14ef20f1ff"
      },
      "source": [
        "!mkdir -p ~/.kaggle\n",
        "!cp kaggle.json ~/.kaggle/\n",
        "!chmod 600 ~/.kaggle/kaggle.json\n",
        "!kaggle datasets download -d apoorvwatsky/miraclvc1"
      ],
      "execution_count": null,
      "outputs": [
        {
          "output_type": "stream",
          "text": [
            "Downloading miraclvc1.zip to /content\n",
            "100% 5.12G/5.13G [01:54<00:00, 58.3MB/s]\n",
            "100% 5.13G/5.13G [01:54<00:00, 48.1MB/s]\n"
          ],
          "name": "stdout"
        }
      ]
    },
    {
      "cell_type": "code",
      "metadata": {
        "id": "1PEPn5DLisWT",
        "colab_type": "code",
        "colab": {}
      },
      "source": [
        "import zipfile\n",
        "\n",
        "#Extract the file from zip file\n",
        "images = zipfile.ZipFile(\"/content/miraclvc1.zip\", 'r')\n",
        "images.extractall(\"/content\")\n",
        "images.close()"
      ],
      "execution_count": null,
      "outputs": []
    },
    {
      "cell_type": "markdown",
      "metadata": {
        "id": "C9G7e6Br6Lcr",
        "colab_type": "text"
      },
      "source": [
        "# **Data Preprocessing**"
      ]
    },
    {
      "cell_type": "markdown",
      "metadata": {
        "id": "k7tfa2gRnBid",
        "colab_type": "text"
      },
      "source": [
        "This section contains of;\n",
        "1. Set random seed\n",
        "2. Facial detection process\n",
        "3. Lip cropping process\n",
        "4. Facial landmarks coordinate extraction\n",
        "5. Lip cropping images\n",
        "6. Sequential dataset\n",
        "7. Data splitting process\n",
        "8. Independent variables expand dimension"
      ]
    },
    {
      "cell_type": "code",
      "metadata": {
        "id": "eZ8ONq1fhEgz",
        "colab_type": "code",
        "colab": {}
      },
      "source": [
        "#Set random number gnerator (RNG)\n",
        "os.environ['PYTHONHASHSEED'] = '0'\n",
        "np.random.seed(2)\n",
        "random.seed(2)\n",
        "tf.random.set_seed(2)\n",
        "session_conf = tf.compat.v1.ConfigProto(intra_op_parallelism_threads = 1,\n",
        "                              inter_op_parallelism_threads = 1)\n",
        "seeds = tf.compat.v1.Session(graph = tf.compat.v1.get_default_graph(), config = session_conf)\n",
        "tf.compat.v1.keras.backend.set_session(seeds)"
      ],
      "execution_count": null,
      "outputs": []
    },
    {
      "cell_type": "code",
      "metadata": {
        "id": "jwP7IxMFm9Vn",
        "colab_type": "code",
        "colab": {}
      },
      "source": [
        "#Dataset description in file\n",
        "\n",
        "respondent = ['F01', 'F02', 'F04', 'F05', 'F06', 'F07', 'F08', 'F09', \n",
        "              'F10', 'F11', 'M01', 'M02', 'M04', 'M07', 'M08']\n",
        "data_types = ['words']\n",
        "folder_enumerate = ['01', '02', '03', '04', '05', '06', '07', '08', '09', '10']\n",
        "instances = ['01', '02', '03', '04', '05', '06', '07', '08', '09', '10']\n",
        "\n",
        "words = ['Begin', 'Choose', 'Connection', 'Navigation', 'Next', 'Previous',\n",
        "         'Start', 'Stop', 'Hello', 'Web']\n",
        "phrases = ['Stop Navigation.', 'Excuse me.', 'I am sorry.', 'Thank you.', \n",
        "           'Good bye.', 'I love this game.', 'Nice to meet you.',\n",
        "           'You are welcome.', 'How are you?', 'Have a good time.']\n"
      ],
      "execution_count": null,
      "outputs": []
    },
    {
      "cell_type": "markdown",
      "metadata": {
        "id": "3T-6d_pfpnfj",
        "colab_type": "text"
      },
      "source": [
        "# **This is the syntax to crop all the datasets, if you have extracted it into the zip file, you don't have to run it anymore.** "
      ]
    },
    {
      "cell_type": "code",
      "metadata": {
        "id": "S9CHlrJ66O_2",
        "colab_type": "code",
        "colab": {}
      },
      "source": [
        "#Facial Landmark Mapping to Numpy Array\n",
        "\n",
        "def shape_to_np (facial, dtype = 'int'):\n",
        "#This function is generated to convert the facial landmarks (68 points)\n",
        "#as the integers in (x,y)-coordinates in 2-dimensional-tuples\n",
        "    coordinates = np.zeros((68,2), dtype = dtype)\n",
        "    for i in range(0, 68):\n",
        "        coordinates[i] = (facial.part(i).x, facial.part(i).y)\n",
        "    \n",
        "    return coordinates"
      ],
      "execution_count": null,
      "outputs": []
    },
    {
      "cell_type": "code",
      "metadata": {
        "id": "gQmTS0GredG4",
        "colab_type": "code",
        "colab": {}
      },
      "source": [
        "from imutils import face_utils"
      ],
      "execution_count": null,
      "outputs": []
    },
    {
      "cell_type": "code",
      "metadata": {
        "id": "W_YpFHG46PL5",
        "colab_type": "code",
        "colab": {}
      },
      "source": [
        "#Lip Image Cropping \n",
        "\n",
        "def image_cropping(img_path):\n",
        "#This function is generated to detect and map all the facial landmarks (68 points)\n",
        "#It also resize the image and save the (x,y) coordinates\n",
        "\n",
        "    detector = dlib.get_frontal_face_detector()\n",
        "    predictor = dlib.shape_predictor('/content/shape_predictor_68_face_landmarks.dat')\n",
        "\n",
        "    image = cv2.imread(img_path)\n",
        "    image = imutils.resize(image, width = 500)\n",
        "    image = cv2.cvtColor(image, cv2.COLOR_BGR2GRAY)\n",
        "    detection = detector(image, 1)\n",
        "\n",
        "    if len(detection) > 1:\n",
        "      print('ERROR : Detect more than 1 face')\n",
        "      return\n",
        "    if len(detection) < 1:\n",
        "      print('ERROR : Detect no faces')\n",
        "      return\n",
        "    \n",
        "    for (i, detect) in enumerate(detection) :\n",
        "      facial = predictor(image, detect)\n",
        "      facial = face_utils.shape_to_np(facial)\n",
        "      name, i, j = 'mouth', 48, 68\n",
        "\n",
        "      (x, y, w, h) = cv2.boundingRect(np.array([facial[i:j]]))\n",
        "      lip = image[y:y+h, x:x+w]\n",
        "      lip = imutils.resize(lip, width = 250, inter = cv2.INTER_CUBIC)\n",
        "      \n",
        "    return lip\n"
      ],
      "execution_count": null,
      "outputs": []
    },
    {
      "cell_type": "code",
      "metadata": {
        "id": "GaENt_7F1vXJ",
        "colab_type": "code",
        "colab": {
          "base_uri": "https://localhost:8080/",
          "height": 269
        },
        "outputId": "dbfc2e3e-1121-4bb2-8f0e-2533d086df80"
      },
      "source": [
        "#Directory Processing\n",
        "\n",
        "if not os.path.exists('/content/final_cropping_data'):\n",
        "    os.mkdir('/content/final_cropping_data')\n",
        "directory = '/content/final_cropping_data/'\n",
        "\n",
        "for person in respondent :\n",
        "    t1 = time.time\n",
        "    if not os.path.exists( directory + person) :\n",
        "        os.mkdir(directory + person + '/')\n",
        "    for data in data_types :\n",
        "        if not os.path.exists(directory + person + '/' + data) :\n",
        "            os.mkdir(directory + person + '/' + data + '/')\n",
        "        for context in folder_enumerate :\n",
        "            if not os.path.exists(directory + person + '/' + data + '/' + \n",
        "                                 context) :\n",
        "                os.mkdir(directory + person + '/' + data + '/' + \n",
        "                         context + '/')\n",
        "            for word in instances :\n",
        "                if not os.path.exists(directory + person + '/' + data + \n",
        "                                     '/' + context + '/' + word) :\n",
        "                      os.mkdir(directory + person + '/' + data + \n",
        "                               '/' + context + '/' + word + '/')\n",
        "                \n",
        "                direct_file = '/content/dataset/dataset/' + person + '/' + data + '/' + context + '/' + word + '/'\n",
        "                save_file = directory + person + '/' + data + '/' + context + '/' + word + '/' \n",
        "                pic = os.listdir(direct_file)\n",
        "                for img in pic :\n",
        "                    if img.startswith('color') :\n",
        "                        image = direct_file + img\n",
        "                        lip = image_cropping(image)\n",
        "                        cv2.imwrite(save_file + img, lip)\n",
        "    \n",
        "    t2 = time.time()\n",
        "    print(f'Finish for {person}')\n",
        "\n"
      ],
      "execution_count": null,
      "outputs": [
        {
          "output_type": "stream",
          "text": [
            "Finish for F01\n",
            "Finish for F02\n",
            "Finish for F04\n",
            "Finish for F05\n",
            "Finish for F06\n",
            "Finish for F07\n",
            "Finish for F08\n",
            "Finish for F09\n",
            "Finish for F10\n",
            "Finish for F11\n",
            "Finish for M01\n",
            "Finish for M02\n",
            "Finish for M04\n",
            "Finish for M07\n",
            "Finish for M08\n"
          ],
          "name": "stdout"
        }
      ]
    },
    {
      "cell_type": "code",
      "metadata": {
        "id": "mRXwwRRt9iRn",
        "colab_type": "code",
        "colab": {}
      },
      "source": [
        "import shutil"
      ],
      "execution_count": null,
      "outputs": []
    },
    {
      "cell_type": "code",
      "metadata": {
        "id": "8TPPCFVOCvov",
        "colab_type": "code",
        "colab": {
          "base_uri": "https://localhost:8080/",
          "height": 34
        },
        "outputId": "447b1d52-9b8d-4ebe-ddee-bea1c33814c5"
      },
      "source": [
        "shutil.make_archive('final_cropping_data', 'zip', base_dir = '/content/final_cropping_data')"
      ],
      "execution_count": null,
      "outputs": [
        {
          "output_type": "execute_result",
          "data": {
            "text/plain": [
              "'final_cropping_data.zip'"
            ]
          },
          "metadata": {
            "tags": []
          },
          "execution_count": 101
        }
      ]
    },
    {
      "cell_type": "markdown",
      "metadata": {
        "id": "ilIhK1Iqi_zN",
        "colab_type": "text"
      },
      "source": [
        "# **Running cells process starts here** \n",
        "\n",
        "After extracting all the images into zip file, download it and then it can be uploaded again if the model want to be develop more. The download process must be done since the cropping process spends about 5 hours per running"
      ]
    },
    {
      "cell_type": "code",
      "metadata": {
        "id": "e9WZrTyS6mcz",
        "colab_type": "code",
        "colab": {
          "resources": {
            "http://localhost:8080/nbextensions/google.colab/files.js": {
              "data": "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",
              "ok": true,
              "headers": [
                [
                  "content-type",
                  "application/javascript"
                ]
              ],
              "status": 200,
              "status_text": ""
            }
          },
          "base_uri": "https://localhost:8080/",
          "height": 74
        },
        "outputId": "8fe9a73b-710e-433a-b915-8aaaf78e56e9"
      },
      "source": [
        "#Upload zip file of cropping dataset from the computer\n",
        "from google.colab import files\n",
        "\n",
        "uploaded = files.upload()"
      ],
      "execution_count": null,
      "outputs": [
        {
          "output_type": "display_data",
          "data": {
            "text/html": [
              "\n",
              "     <input type=\"file\" id=\"files-cf33bf75-c3fa-4816-9ee7-df322b436386\" name=\"files[]\" multiple disabled />\n",
              "     <output id=\"result-cf33bf75-c3fa-4816-9ee7-df322b436386\">\n",
              "      Upload widget is only available when the cell has been executed in the\n",
              "      current browser session. Please rerun this cell to enable.\n",
              "      </output>\n",
              "      <script src=\"/nbextensions/google.colab/files.js\"></script> "
            ],
            "text/plain": [
              "<IPython.core.display.HTML object>"
            ]
          },
          "metadata": {
            "tags": []
          }
        },
        {
          "output_type": "stream",
          "text": [
            "Saving final_cropping_data.zip to final_cropping_data.zip\n"
          ],
          "name": "stdout"
        }
      ]
    },
    {
      "cell_type": "code",
      "metadata": {
        "id": "BcGb4xEw6ug6",
        "colab_type": "code",
        "colab": {}
      },
      "source": [
        "#Extract the file from file_data_cropping zip file\n",
        "images = zipfile.ZipFile(\"/content/final_cropping_data.zip\", 'r')\n",
        "images.extractall(\"/content\")\n",
        "images.close()"
      ],
      "execution_count": null,
      "outputs": []
    },
    {
      "cell_type": "code",
      "metadata": {
        "id": "yPMRgFI0u7hS",
        "colab_type": "code",
        "colab": {}
      },
      "source": [
        "#Reading Initialization\n",
        "max_sequence_len = 22\n",
        "Max_width = 100\n",
        "Max_height = 100\n",
        "\n",
        "X_train = []\n",
        "Y_train = []\n",
        "X_val = []\n",
        "Y_val = []\n",
        "X_test = []\n",
        "Y_test = []\n"
      ],
      "execution_count": null,
      "outputs": []
    },
    {
      "cell_type": "code",
      "metadata": {
        "id": "x4ag1346wFVS",
        "colab_type": "code",
        "colab": {
          "base_uri": "https://localhost:8080/",
          "height": 269
        },
        "outputId": "0afc70a5-d91a-4cb2-f1df-e72a5ef1fc90"
      },
      "source": [
        "Validation_data = ['F05', 'M04']\n",
        "Test_data = ['F08']\n",
        "\n",
        "directory = '/content/content/final_cropping_data'\n",
        "\n",
        "for person in respondent :\n",
        "    ti = time.time()\n",
        "    for data in data_types :\n",
        "        for word_index, word in enumerate(folder_enumerate) :\n",
        "            for context in instances :\n",
        "                image_path = os.path.join(directory, person, data, word, context)\n",
        "                image_list = sorted(os.listdir(image_path + '/'))\n",
        "                sequence = []\n",
        "                for img in image_list :\n",
        "                    image = cv2.imread(image_path + '/' + img)\n",
        "                    image = cv2.resize(image, (Max_width, Max_height))\n",
        "                    image = cv2.cvtColor(image, cv2.COLOR_BGR2GRAY)\n",
        "                    image = image.astype(np.uint8)\n",
        "                    sequence.append(image)\n",
        "                \n",
        "                padded_arr = [np.zeros((Max_width, Max_height))]\n",
        "                sequence.extend(padded_arr * (max_sequence_len - len(sequence)))\n",
        "                sequence = np.array(sequence)\n",
        "\n",
        "\n",
        "                if person in Validation_data :\n",
        "                    X_val.append(sequence)\n",
        "                    Y_val.append(word_index)\n",
        "                elif person in Test_data :\n",
        "                    X_test.append(sequence)\n",
        "                    Y_test.append(word_index)\n",
        "                else :\n",
        "                    X_train.append(sequence)\n",
        "                    Y_train.append(word_index)\n",
        "    tf = time.time()\n",
        "    print(f'Finish for {person}, in {tf - ti} secs.')"
      ],
      "execution_count": null,
      "outputs": [
        {
          "output_type": "stream",
          "text": [
            "Finish for F01, in 0.5120916366577148 secs.\n",
            "Finish for F02, in 0.48088979721069336 secs.\n",
            "Finish for F04, in 0.7711741924285889 secs.\n",
            "Finish for F05, in 0.6170346736907959 secs.\n",
            "Finish for F06, in 0.668999195098877 secs.\n",
            "Finish for F07, in 0.6807835102081299 secs.\n",
            "Finish for F08, in 0.5542306900024414 secs.\n",
            "Finish for F09, in 0.5515751838684082 secs.\n",
            "Finish for F10, in 0.46953511238098145 secs.\n",
            "Finish for F11, in 0.4500272274017334 secs.\n",
            "Finish for M01, in 0.5617244243621826 secs.\n",
            "Finish for M02, in 0.7262301445007324 secs.\n",
            "Finish for M04, in 0.5941324234008789 secs.\n",
            "Finish for M07, in 0.4946112632751465 secs.\n",
            "Finish for M08, in 0.43662405014038086 secs.\n"
          ],
          "name": "stdout"
        }
      ]
    },
    {
      "cell_type": "code",
      "metadata": {
        "id": "IuZKhEOYIAJ2",
        "colab_type": "code",
        "colab": {}
      },
      "source": [
        "X_train = np.array(X_train)\n",
        "X_test = np.array(X_test)\n",
        "X_val = np.array(X_val)"
      ],
      "execution_count": null,
      "outputs": []
    },
    {
      "cell_type": "code",
      "metadata": {
        "id": "vaaA7108InhC",
        "colab_type": "code",
        "colab": {
          "base_uri": "https://localhost:8080/",
          "height": 67
        },
        "outputId": "b5a80509-e959-4e97-cc7b-eb23b8f6d24a"
      },
      "source": [
        "print(X_train.shape)\n",
        "print(X_val.shape)\n",
        "print(X_test.shape)"
      ],
      "execution_count": null,
      "outputs": [
        {
          "output_type": "stream",
          "text": [
            "(1200, 22, 100, 100)\n",
            "(200, 22, 100, 100)\n",
            "(100, 22, 100, 100)\n"
          ],
          "name": "stdout"
        }
      ]
    },
    {
      "cell_type": "code",
      "metadata": {
        "id": "EQbQDYCOKQE-",
        "colab_type": "code",
        "colab": {
          "base_uri": "https://localhost:8080/",
          "height": 67
        },
        "outputId": "a1842c23-053f-485a-d2b1-1847e0a9ad83"
      },
      "source": [
        "Y_train = np.array(Y_train)\n",
        "Y_val = np.array(Y_val)\n",
        "Y_test = np.array(Y_test)\n",
        "\n",
        "print(Y_train.shape)\n",
        "print(Y_val.shape)\n",
        "print(Y_test.shape)"
      ],
      "execution_count": null,
      "outputs": [
        {
          "output_type": "stream",
          "text": [
            "(1200,)\n",
            "(200,)\n",
            "(100,)\n"
          ],
          "name": "stdout"
        }
      ]
    },
    {
      "cell_type": "code",
      "metadata": {
        "id": "SV1F-HWBK2Dm",
        "colab_type": "code",
        "colab": {}
      },
      "source": [
        "#Normalization process\n",
        "\n",
        "X_train = X_train/255.0\n",
        "X_val = X_val/255.0\n",
        "X_test = X_test/255.0"
      ],
      "execution_count": null,
      "outputs": []
    },
    {
      "cell_type": "code",
      "metadata": {
        "id": "CAbec5eKLElm",
        "colab_type": "code",
        "colab": {}
      },
      "source": [
        "#Transforming Y feature to the categorical feature and randomization process\n",
        "from tensorflow import keras\n",
        "\n",
        "Y_train = keras.utils.to_categorical(Y_train, 10)\n",
        "Y_val = keras.utils.to_categorical(Y_val, 10)\n",
        "Y_test = keras.utils.to_categorical(Y_test, 10)\n"
      ],
      "execution_count": null,
      "outputs": []
    },
    {
      "cell_type": "code",
      "metadata": {
        "id": "3JIaZvt8QKz9",
        "colab_type": "code",
        "colab": {}
      },
      "source": [
        "X_train = np.expand_dims(X_train, axis = 4)\n",
        "X_val = np.expand_dims(X_val, axis = 4)\n",
        "X_test = np.expand_dims(X_test, axis = 4)"
      ],
      "execution_count": null,
      "outputs": []
    },
    {
      "cell_type": "code",
      "metadata": {
        "id": "48M0owKzPVjy",
        "colab_type": "code",
        "colab": {
          "base_uri": "https://localhost:8080/",
          "height": 67
        },
        "outputId": "bd21fb8c-82b6-44c9-ccce-6eb6e4efc534"
      },
      "source": [
        "print(X_train.shape)\n",
        "print(X_val.shape)\n",
        "print(X_test.shape)"
      ],
      "execution_count": null,
      "outputs": [
        {
          "output_type": "stream",
          "text": [
            "(1200, 22, 100, 100, 1)\n",
            "(200, 22, 100, 100, 1)\n",
            "(100, 22, 100, 100, 1)\n"
          ],
          "name": "stdout"
        }
      ]
    },
    {
      "cell_type": "markdown",
      "metadata": {
        "id": "J0l-mDm3cM0X",
        "colab_type": "text"
      },
      "source": [
        "# **Model Development (LipNet)** \n",
        "\n",
        "The model development process using two references in papers to increase the accuracy and the running speed. The model development steps can be identify below :\n",
        "1. Random optimizer model function\n",
        "2. Callbacks model function\n",
        "3. Model development\n",
        "4. Running process\n",
        "5. Result \n",
        "6. Model saving and deployment"
      ]
    },
    {
      "cell_type": "code",
      "metadata": {
        "id": "W5_9HngYXz2i",
        "colab_type": "code",
        "colab": {}
      },
      "source": [
        "import tensorflow as tf\n",
        "\n",
        "class Cont_Coin_Betting (Optimizer) :\n",
        "\n",
        "    def __init__(self, alpha = 100, use_locking = False, name = 'Cont_Coin_Betting') :\n",
        "        super(Cont_Coin_Betting, self).__init__(use_locking, name)\n",
        "        self._alpha = alpha\n",
        "\n",
        "    def _create_slots(self, var_list) :\n",
        "        for v in var_list :\n",
        "            with ops.colocate_with(v) :\n",
        "                grad_total = constant_op.constant(0, shape = v.get_shape(),\n",
        "                                                  dtype = v.dtype.base_dtype)\n",
        "                grad_total_norm = constant_op.constant(0, shape = v.get_shape(),\n",
        "                                                       dtype = v.dtype.base_dtype)\n",
        "                L = constant_op.constant(1e-8, shape = v.get_shape(),\n",
        "                                         dtype = v.dtype.base_dtype)\n",
        "                w_tilde = constant_op.constant(0.0, shape = v.get_shape(), \n",
        "                                               dtype = v.dtype.base_dtype)\n",
        "                reward = constant_op.constant(0.0, shape = v.get_shape(), \n",
        "                                              dtype = v.dtype.base_dtype)\n",
        "            \n",
        "            self._get_or_make_slot(v, L, 'L', self._name)\n",
        "            self._get_or_make_slot(v, grad_total, 'grad_total', self._name)\n",
        "            self._get_or_make_slot(v, grad_total_norm, 'grad_total_norm', self._name)\n",
        "            self._get_or_make_slot(v, w_tilde, 'w_tilde', self._name)\n",
        "            self._get_or_make_slot(v, reward, 'reward', self._name)\n",
        "\n",
        "    def _apply_dense(self, grad, var) :\n",
        "        grad_total = self.get_slot(var, 'grad_total')\n",
        "        grad_total_norm = self.get_slot(var, 'grad_total_norm')\n",
        "        w_tilde = self.get_slot(var, 'w_tilde')\n",
        "        L = self.get_slot(var, 'L')\n",
        "        reward = self.get_slot(var, 'reward')\n",
        "\n",
        "        L_update = tf.maximum(L, tf.abs(grad))\n",
        "        grad_total_update = grad_total + grad\n",
        "        grad_total_norm_update = grad_total_norm + tf.abs(grad)\n",
        "        reward_update = tf.maximum(reward - grad * w_tilde, 0)\n",
        "        w_tilde_update = -grad_total_update / (L_update * (tf.maximum(grad_total_norm_update + L_update, self._alpha * L_update))) * (reward_update + L_update)\n",
        "        var_update = var - w_tilde + w_tilde_update\n",
        "\n",
        "        grad_total_update_op = state_ops.assign(grad_total, grad_total_update)\n",
        "        grad_total_norm_update_op = state_ops.assign(grad_total_norm, grad_total_norm_update)\n",
        "        var_update_op = state_ops.assign(var, var_update)\n",
        "        w_tilde_update_op = state_ops.assign(w_tilde, w_tilde_update)\n",
        "        L_update_op = state_ops.assign(L, L_update)\n",
        "        reward_update_op = state_ops.assign(reward, reward_update)\n",
        "\n",
        "        return control_flow_ops.group(*[grad_total_update_op, var_update_op, \n",
        "                                        grad_total_norm_update_op, w_tilde_update_op,\n",
        "                                        reward_update_op, L_update_op])\n",
        "        \n",
        "    def _apply_sparse(self, grad, var) :\n",
        "        return self._apply_dense(grad, var)\n",
        "\n",
        "    def _resource_apply_dense(self, grad, handle) :\n",
        "        return self._apply_dense(grad, handle)\n",
        "\n",
        "    def get_config(self):\n",
        "        config = {'alpha': float(K.get_value(self._alpha)) }\n",
        "        base_config = super(Cont_Coin_Betting(), self).get_config()\n",
        "        return dict(list(base_config.items()) + list(config.items()))"
      ],
      "execution_count": null,
      "outputs": []
    },
    {
      "cell_type": "code",
      "metadata": {
        "id": "2zrAEbQXHCY4",
        "colab_type": "code",
        "colab": {}
      },
      "source": [
        "class myCallback (keras.callbacks.Callback) :\n",
        "    def on_epoch_end (self, epoch, logs = {} ) :\n",
        "        if (logs.get('accuracy') > 0.97) :\n",
        "            print('\\n Accuracy is high enough so running is cancelled')\n",
        "            self.model.stop_training = True"
      ],
      "execution_count": null,
      "outputs": []
    },
    {
      "cell_type": "code",
      "metadata": {
        "id": "oco7crF7vIGv",
        "colab_type": "code",
        "colab": {}
      },
      "source": [
        "callbacks = myCallback()"
      ],
      "execution_count": null,
      "outputs": []
    },
    {
      "cell_type": "code",
      "metadata": {
        "id": "K3mSIMPgoB4y",
        "colab_type": "code",
        "colab": {}
      },
      "source": [
        "def LipNNvar ():\n",
        "\n",
        "  model = Sequential()\n",
        "  model.add(ZeroPadding3D(padding = (1, 2, 2), input_shape = (22, 100, 100, 1)))\n",
        "  model.add(Conv3D(32, (3, 5, 5), strides = (1, 2, 2), activation = PReLU(Constant(value = 0.25))))\n",
        "  model.add(SpatialDropout3D(0.5))\n",
        "  model.add(MaxPooling3D((1, 2, 2), strides = (1, 2, 2)))\n",
        "  model.add(ZeroPadding3D(padding = (1, 2, 2)))\n",
        "  model.add(Conv3D(64, (3, 5, 5), strides = (1, 2, 2), activation = PReLU(Constant(value = 0.25))))\n",
        "  model.add(SpatialDropout3D(0.5))\n",
        "  model.add(MaxPooling3D((1, 2, 2), strides = (1, 2, 2)))\n",
        "  model.add(ZeroPadding3D(padding = (1, 2, 2)))\n",
        "  model.add(Conv3D(96, (3, 5, 5), strides = (1, 2, 2), activation = PReLU(Constant(value = 0.25))))\n",
        "  model.add(SpatialDropout3D(0.5))\n",
        "  model.add(MaxPooling3D((1, 2, 2), strides = (1, 2, 2)))\n",
        "\n",
        "  model.add(TimeDistributed(Flatten()))\n",
        "\n",
        "  model.add(Bidirectional(LSTM(32, return_sequences = True)))\n",
        "  model.add(Bidirectional(LSTM(32,  return_sequences = True)))\n",
        "  model.add(Dropout(0.5))\n",
        "  model.add(Flatten())\n",
        "\n",
        "  model.add(Dense(1024, activation = PReLU(Constant(value = 0.25))))\n",
        "  model.add(Dropout(0.5))\n",
        "  model.add(Dense(512, activation = PReLU(Constant(value = 0.25))))\n",
        "  model.add(Dropout(0.5))\n",
        "  model.add(Dense(10, activation = 'softmax'))\n",
        "\n",
        "  return model"
      ],
      "execution_count": null,
      "outputs": []
    },
    {
      "cell_type": "code",
      "metadata": {
        "id": "nHPkiwkpMntD",
        "colab_type": "code",
        "colab": {}
      },
      "source": [
        "def LipNN ():\n",
        "\n",
        "  model = Sequential()\n",
        "  model.add(Conv3D(32, (3, 3, 3), strides = 1, input_shape = (22, 100, 100, 1), activation = PReLU(Constant(value = 0.25))))\n",
        "  model.add(SpatialDropout3D(0.2))\n",
        "  model.add(MaxPooling3D((2, 2, 2), strides = 2))\n",
        "  model.add(Conv3D(64, (3, 3, 3), strides = 1, activation = PReLU(Constant(value = 0.25))))\n",
        "  model.add(SpatialDropout3D(0.2))\n",
        "  model.add(MaxPooling3D((2, 2, 2), strides = 2))\n",
        "  model.add(Conv3D(128, (3, 3, 3), strides = 1, activation = PReLU(Constant(value = 0.25))))\n",
        "  model.add(SpatialDropout3D(0.2))\n",
        "  model.add(MaxPooling3D((2, 2, 2), strides = 2))\n",
        "\n",
        "  shape = model.get_output_shape_at(0)\n",
        "  model.add(Reshape((shape[-1],shape[1]*shape[2]*shape[3])))\n",
        "\n",
        "  model.add(Bidirectional(LSTM(32, return_sequences = True)))\n",
        "  model.add(Bidirectional(LSTM(32,  return_sequences = True)))\n",
        "  model.add(Dropout(0.5))\n",
        "  model.add(Flatten())\n",
        "\n",
        "  model.add(Dense(2048, activation = PReLU(Constant(value = 0.25))))\n",
        "  model.add(Dropout(0.5))\n",
        "  model.add(Dense(1024, activation = PReLU(Constant(value = 0.25))))\n",
        "  model.add(Dropout(0.5))\n",
        "  model.add(Dense(10, activation = 'softmax'))\n",
        "\n",
        "  return model"
      ],
      "execution_count": null,
      "outputs": []
    },
    {
      "cell_type": "code",
      "metadata": {
        "id": "x5Aq4DajmG2P",
        "colab_type": "code",
        "colab": {
          "base_uri": "https://localhost:8080/",
          "height": 790
        },
        "outputId": "b0806412-e96d-404a-d52a-83bcf9fb2e62"
      },
      "source": [
        "model = LipNN()\n",
        "model.summary()"
      ],
      "execution_count": null,
      "outputs": [
        {
          "output_type": "stream",
          "text": [
            "Model: \"sequential\"\n",
            "_________________________________________________________________\n",
            "Layer (type)                 Output Shape              Param #   \n",
            "=================================================================\n",
            "conv3d (Conv3D)              (None, 20, 98, 98, 32)    6147456   \n",
            "_________________________________________________________________\n",
            "spatial_dropout3d (SpatialDr (None, 20, 98, 98, 32)    0         \n",
            "_________________________________________________________________\n",
            "max_pooling3d (MaxPooling3D) (None, 10, 49, 49, 32)    0         \n",
            "_________________________________________________________________\n",
            "conv3d_1 (Conv3D)            (None, 8, 47, 47, 64)     1186368   \n",
            "_________________________________________________________________\n",
            "spatial_dropout3d_1 (Spatial (None, 8, 47, 47, 64)     0         \n",
            "_________________________________________________________________\n",
            "max_pooling3d_1 (MaxPooling3 (None, 4, 23, 23, 64)     0         \n",
            "_________________________________________________________________\n",
            "conv3d_2 (Conv3D)            (None, 2, 21, 21, 128)    334208    \n",
            "_________________________________________________________________\n",
            "spatial_dropout3d_2 (Spatial (None, 2, 21, 21, 128)    0         \n",
            "_________________________________________________________________\n",
            "max_pooling3d_2 (MaxPooling3 (None, 1, 10, 10, 128)    0         \n",
            "_________________________________________________________________\n",
            "reshape (Reshape)            (None, 128, 100)          0         \n",
            "_________________________________________________________________\n",
            "bidirectional (Bidirectional (None, 128, 64)           34048     \n",
            "_________________________________________________________________\n",
            "bidirectional_1 (Bidirection (None, 128, 64)           24832     \n",
            "_________________________________________________________________\n",
            "dropout (Dropout)            (None, 128, 64)           0         \n",
            "_________________________________________________________________\n",
            "flatten (Flatten)            (None, 8192)              0         \n",
            "_________________________________________________________________\n",
            "dense (Dense)                (None, 2048)              16781312  \n",
            "_________________________________________________________________\n",
            "dropout_1 (Dropout)          (None, 2048)              0         \n",
            "_________________________________________________________________\n",
            "dense_1 (Dense)              (None, 1024)              2099200   \n",
            "_________________________________________________________________\n",
            "dropout_2 (Dropout)          (None, 1024)              0         \n",
            "_________________________________________________________________\n",
            "dense_2 (Dense)              (None, 10)                10250     \n",
            "=================================================================\n",
            "Total params: 26,617,674\n",
            "Trainable params: 26,617,674\n",
            "Non-trainable params: 0\n",
            "_________________________________________________________________\n"
          ],
          "name": "stdout"
        }
      ]
    },
    {
      "cell_type": "code",
      "metadata": {
        "id": "X-t5OF13o4j8",
        "colab_type": "code",
        "colab": {}
      },
      "source": [
        "model.compile(loss = 'categorical_crossentropy', optimizer = Cont_Coin_Betting(), metrics = ['accuracy'])"
      ],
      "execution_count": null,
      "outputs": []
    },
    {
      "cell_type": "code",
      "metadata": {
        "id": "t63uFn3JuZEO",
        "colab_type": "code",
        "colab": {
          "base_uri": "https://localhost:8080/",
          "height": 1000
        },
        "outputId": "9afe42e0-471f-41c2-e0f2-cf418b2b7976"
      },
      "source": [
        "history = model.fit(X_train, Y_train, batch_size = 10, epochs = 200, \n",
        "                    validation_data = (X_val, Y_val), shuffle = True, \n",
        "                    callbacks = [callbacks])"
      ],
      "execution_count": null,
      "outputs": [
        {
          "output_type": "stream",
          "text": [
            "Epoch 1/200\n",
            "120/120 [==============================] - 46s 380ms/step - loss: 13.8831 - accuracy: 0.1075 - val_loss: 2.3629 - val_accuracy: 0.1000\n",
            "Epoch 2/200\n",
            "120/120 [==============================] - 44s 366ms/step - loss: 2.3317 - accuracy: 0.1067 - val_loss: 2.2481 - val_accuracy: 0.1100\n",
            "Epoch 3/200\n",
            "120/120 [==============================] - 44s 365ms/step - loss: 2.3093 - accuracy: 0.1225 - val_loss: 2.2458 - val_accuracy: 0.1550\n",
            "Epoch 4/200\n",
            "120/120 [==============================] - 44s 366ms/step - loss: 2.2929 - accuracy: 0.1225 - val_loss: 2.2406 - val_accuracy: 0.1100\n",
            "Epoch 5/200\n",
            "120/120 [==============================] - 44s 366ms/step - loss: 2.3056 - accuracy: 0.1342 - val_loss: 2.2330 - val_accuracy: 0.2200\n",
            "Epoch 6/200\n",
            "120/120 [==============================] - 44s 366ms/step - loss: 2.2894 - accuracy: 0.1233 - val_loss: 2.2491 - val_accuracy: 0.1050\n",
            "Epoch 7/200\n",
            "120/120 [==============================] - 44s 365ms/step - loss: 2.2563 - accuracy: 0.1483 - val_loss: 2.1948 - val_accuracy: 0.1500\n",
            "Epoch 8/200\n",
            "120/120 [==============================] - 44s 365ms/step - loss: 2.2060 - accuracy: 0.1692 - val_loss: 2.1263 - val_accuracy: 0.3250\n",
            "Epoch 9/200\n",
            "120/120 [==============================] - 44s 365ms/step - loss: 2.1104 - accuracy: 0.2042 - val_loss: 2.0295 - val_accuracy: 0.2650\n",
            "Epoch 10/200\n",
            "120/120 [==============================] - 44s 365ms/step - loss: 1.9933 - accuracy: 0.2367 - val_loss: 1.9653 - val_accuracy: 0.2150\n",
            "Epoch 11/200\n",
            "120/120 [==============================] - 44s 365ms/step - loss: 1.8859 - accuracy: 0.2992 - val_loss: 1.7475 - val_accuracy: 0.3650\n",
            "Epoch 12/200\n",
            "120/120 [==============================] - 44s 365ms/step - loss: 1.7457 - accuracy: 0.3567 - val_loss: 1.7172 - val_accuracy: 0.4200\n",
            "Epoch 13/200\n",
            "120/120 [==============================] - 44s 364ms/step - loss: 1.6613 - accuracy: 0.3975 - val_loss: 1.7476 - val_accuracy: 0.4550\n",
            "Epoch 14/200\n",
            "120/120 [==============================] - 44s 364ms/step - loss: 1.5287 - accuracy: 0.4475 - val_loss: 1.7368 - val_accuracy: 0.3400\n",
            "Epoch 15/200\n",
            "120/120 [==============================] - 43s 362ms/step - loss: 1.4218 - accuracy: 0.4817 - val_loss: 1.7137 - val_accuracy: 0.4150\n",
            "Epoch 16/200\n",
            "120/120 [==============================] - 43s 362ms/step - loss: 1.3102 - accuracy: 0.5075 - val_loss: 1.7711 - val_accuracy: 0.3950\n",
            "Epoch 17/200\n",
            "120/120 [==============================] - 44s 363ms/step - loss: 1.2159 - accuracy: 0.5392 - val_loss: 1.7096 - val_accuracy: 0.4350\n",
            "Epoch 18/200\n",
            "120/120 [==============================] - 44s 363ms/step - loss: 1.1409 - accuracy: 0.5700 - val_loss: 2.0424 - val_accuracy: 0.4300\n",
            "Epoch 19/200\n",
            "120/120 [==============================] - 43s 362ms/step - loss: 1.0998 - accuracy: 0.5975 - val_loss: 2.1825 - val_accuracy: 0.4150\n",
            "Epoch 20/200\n",
            "120/120 [==============================] - 43s 362ms/step - loss: 1.0514 - accuracy: 0.6000 - val_loss: 1.8931 - val_accuracy: 0.4300\n",
            "Epoch 21/200\n",
            "120/120 [==============================] - 44s 364ms/step - loss: 0.9704 - accuracy: 0.6333 - val_loss: 1.7749 - val_accuracy: 0.4200\n",
            "Epoch 22/200\n",
            "120/120 [==============================] - 44s 364ms/step - loss: 0.8788 - accuracy: 0.6875 - val_loss: 1.9900 - val_accuracy: 0.4600\n",
            "Epoch 23/200\n",
            "120/120 [==============================] - 44s 365ms/step - loss: 0.8885 - accuracy: 0.6700 - val_loss: 2.1855 - val_accuracy: 0.3500\n",
            "Epoch 24/200\n",
            "120/120 [==============================] - 44s 365ms/step - loss: 0.7851 - accuracy: 0.6992 - val_loss: 2.0592 - val_accuracy: 0.4300\n",
            "Epoch 25/200\n",
            "120/120 [==============================] - 44s 364ms/step - loss: 0.7589 - accuracy: 0.7158 - val_loss: 2.2979 - val_accuracy: 0.4100\n",
            "Epoch 26/200\n",
            "120/120 [==============================] - 44s 365ms/step - loss: 0.7282 - accuracy: 0.7358 - val_loss: 3.0206 - val_accuracy: 0.4300\n",
            "Epoch 27/200\n",
            "120/120 [==============================] - 44s 365ms/step - loss: 0.6912 - accuracy: 0.7475 - val_loss: 2.4155 - val_accuracy: 0.4600\n",
            "Epoch 28/200\n",
            "120/120 [==============================] - 44s 364ms/step - loss: 0.6663 - accuracy: 0.7492 - val_loss: 2.1311 - val_accuracy: 0.4600\n",
            "Epoch 29/200\n",
            "120/120 [==============================] - 44s 364ms/step - loss: 0.6464 - accuracy: 0.7592 - val_loss: 2.8063 - val_accuracy: 0.3900\n",
            "Epoch 30/200\n",
            "120/120 [==============================] - 44s 364ms/step - loss: 0.5874 - accuracy: 0.7792 - val_loss: 2.7405 - val_accuracy: 0.4000\n",
            "Epoch 31/200\n",
            "120/120 [==============================] - 44s 364ms/step - loss: 0.5796 - accuracy: 0.7775 - val_loss: 2.2227 - val_accuracy: 0.4550\n",
            "Epoch 32/200\n",
            "120/120 [==============================] - 44s 365ms/step - loss: 0.5293 - accuracy: 0.8083 - val_loss: 3.0763 - val_accuracy: 0.4150\n",
            "Epoch 33/200\n",
            "120/120 [==============================] - 44s 365ms/step - loss: 0.4688 - accuracy: 0.8267 - val_loss: 2.9994 - val_accuracy: 0.3700\n",
            "Epoch 34/200\n",
            "120/120 [==============================] - 44s 365ms/step - loss: 0.4799 - accuracy: 0.8142 - val_loss: 2.3649 - val_accuracy: 0.5750\n",
            "Epoch 35/200\n",
            "120/120 [==============================] - 44s 365ms/step - loss: 0.4323 - accuracy: 0.8417 - val_loss: 3.7836 - val_accuracy: 0.3900\n",
            "Epoch 36/200\n",
            "120/120 [==============================] - 44s 365ms/step - loss: 0.4275 - accuracy: 0.8375 - val_loss: 2.7591 - val_accuracy: 0.4050\n",
            "Epoch 37/200\n",
            "120/120 [==============================] - 44s 364ms/step - loss: 0.4066 - accuracy: 0.8567 - val_loss: 3.1572 - val_accuracy: 0.4750\n",
            "Epoch 38/200\n",
            "120/120 [==============================] - 44s 363ms/step - loss: 0.3985 - accuracy: 0.8592 - val_loss: 3.1116 - val_accuracy: 0.4050\n",
            "Epoch 39/200\n",
            "120/120 [==============================] - 44s 365ms/step - loss: 0.3607 - accuracy: 0.8642 - val_loss: 3.3336 - val_accuracy: 0.4150\n",
            "Epoch 40/200\n",
            "120/120 [==============================] - 44s 365ms/step - loss: 0.3586 - accuracy: 0.8667 - val_loss: 3.3673 - val_accuracy: 0.4150\n",
            "Epoch 41/200\n",
            "120/120 [==============================] - 44s 364ms/step - loss: 0.3582 - accuracy: 0.8642 - val_loss: 3.5932 - val_accuracy: 0.3900\n",
            "Epoch 42/200\n",
            "120/120 [==============================] - 44s 365ms/step - loss: 0.3281 - accuracy: 0.8900 - val_loss: 3.5977 - val_accuracy: 0.3700\n",
            "Epoch 43/200\n",
            "120/120 [==============================] - 44s 364ms/step - loss: 0.3267 - accuracy: 0.8825 - val_loss: 3.7851 - val_accuracy: 0.3600\n",
            "Epoch 44/200\n",
            "120/120 [==============================] - 44s 364ms/step - loss: 0.2906 - accuracy: 0.8958 - val_loss: 4.1771 - val_accuracy: 0.3400\n",
            "Epoch 45/200\n",
            "120/120 [==============================] - 43s 362ms/step - loss: 0.2730 - accuracy: 0.8933 - val_loss: 3.0642 - val_accuracy: 0.4700\n",
            "Epoch 46/200\n",
            "120/120 [==============================] - 43s 361ms/step - loss: 0.2749 - accuracy: 0.9108 - val_loss: 3.3681 - val_accuracy: 0.4200\n",
            "Epoch 47/200\n",
            "120/120 [==============================] - 43s 361ms/step - loss: 0.2856 - accuracy: 0.8967 - val_loss: 3.4661 - val_accuracy: 0.4050\n",
            "Epoch 48/200\n",
            "120/120 [==============================] - 43s 361ms/step - loss: 0.2463 - accuracy: 0.9083 - val_loss: 3.3403 - val_accuracy: 0.4400\n",
            "Epoch 49/200\n",
            "120/120 [==============================] - 43s 361ms/step - loss: 0.2173 - accuracy: 0.9225 - val_loss: 3.8370 - val_accuracy: 0.4050\n",
            "Epoch 50/200\n",
            "120/120 [==============================] - 43s 361ms/step - loss: 0.2435 - accuracy: 0.9150 - val_loss: 3.5500 - val_accuracy: 0.4450\n",
            "Epoch 51/200\n",
            "120/120 [==============================] - 44s 364ms/step - loss: 0.2143 - accuracy: 0.9283 - val_loss: 3.7003 - val_accuracy: 0.4700\n",
            "Epoch 52/200\n",
            "120/120 [==============================] - 44s 365ms/step - loss: 0.2242 - accuracy: 0.9142 - val_loss: 3.4321 - val_accuracy: 0.4450\n",
            "Epoch 53/200\n",
            "120/120 [==============================] - 44s 365ms/step - loss: 0.2108 - accuracy: 0.9267 - val_loss: 4.0399 - val_accuracy: 0.3800\n",
            "Epoch 54/200\n",
            "120/120 [==============================] - 43s 362ms/step - loss: 0.1923 - accuracy: 0.9308 - val_loss: 3.4894 - val_accuracy: 0.5000\n",
            "Epoch 55/200\n",
            "120/120 [==============================] - 43s 362ms/step - loss: 0.1858 - accuracy: 0.9342 - val_loss: 3.6554 - val_accuracy: 0.4800\n",
            "Epoch 56/200\n",
            "120/120 [==============================] - 43s 361ms/step - loss: 0.1848 - accuracy: 0.9367 - val_loss: 3.9349 - val_accuracy: 0.4400\n",
            "Epoch 57/200\n",
            "120/120 [==============================] - 43s 361ms/step - loss: 0.1906 - accuracy: 0.9308 - val_loss: 3.5851 - val_accuracy: 0.4900\n",
            "Epoch 58/200\n",
            "120/120 [==============================] - 43s 362ms/step - loss: 0.1697 - accuracy: 0.9433 - val_loss: 4.1783 - val_accuracy: 0.4300\n",
            "Epoch 59/200\n",
            "120/120 [==============================] - 44s 364ms/step - loss: 0.1560 - accuracy: 0.9517 - val_loss: 4.4657 - val_accuracy: 0.3950\n",
            "Epoch 60/200\n",
            "120/120 [==============================] - 44s 365ms/step - loss: 0.1100 - accuracy: 0.9667 - val_loss: 4.3601 - val_accuracy: 0.4250\n",
            "Epoch 61/200\n",
            "120/120 [==============================] - 44s 364ms/step - loss: 0.1458 - accuracy: 0.9450 - val_loss: 5.6521 - val_accuracy: 0.3650\n",
            "Epoch 62/200\n",
            "120/120 [==============================] - 44s 363ms/step - loss: 0.1326 - accuracy: 0.9600 - val_loss: 4.1971 - val_accuracy: 0.4350\n",
            "Epoch 63/200\n",
            "120/120 [==============================] - 44s 363ms/step - loss: 0.1080 - accuracy: 0.9592 - val_loss: 4.4931 - val_accuracy: 0.4400\n",
            "Epoch 64/200\n",
            "120/120 [==============================] - 44s 363ms/step - loss: 0.1246 - accuracy: 0.9542 - val_loss: 4.4204 - val_accuracy: 0.4550\n",
            "Epoch 65/200\n",
            "120/120 [==============================] - 44s 363ms/step - loss: 0.1496 - accuracy: 0.9508 - val_loss: 3.8618 - val_accuracy: 0.4750\n",
            "Epoch 66/200\n",
            "120/120 [==============================] - 44s 364ms/step - loss: 0.1170 - accuracy: 0.9592 - val_loss: 3.9626 - val_accuracy: 0.4700\n",
            "Epoch 67/200\n",
            "120/120 [==============================] - 44s 363ms/step - loss: 0.1112 - accuracy: 0.9600 - val_loss: 4.3574 - val_accuracy: 0.4150\n",
            "Epoch 68/200\n",
            "120/120 [==============================] - 44s 364ms/step - loss: 0.1044 - accuracy: 0.9608 - val_loss: 4.8073 - val_accuracy: 0.4050\n",
            "Epoch 69/200\n",
            "120/120 [==============================] - 44s 364ms/step - loss: 0.1151 - accuracy: 0.9575 - val_loss: 4.3578 - val_accuracy: 0.4600\n",
            "Epoch 70/200\n",
            "120/120 [==============================] - 44s 366ms/step - loss: 0.1103 - accuracy: 0.9642 - val_loss: 3.9984 - val_accuracy: 0.4750\n",
            "Epoch 71/200\n",
            "120/120 [==============================] - 44s 366ms/step - loss: 0.1684 - accuracy: 0.9375 - val_loss: 4.4384 - val_accuracy: 0.4100\n",
            "Epoch 72/200\n",
            "120/120 [==============================] - 44s 365ms/step - loss: 0.1273 - accuracy: 0.9492 - val_loss: 3.9312 - val_accuracy: 0.4800\n",
            "Epoch 73/200\n",
            "120/120 [==============================] - 44s 365ms/step - loss: 0.1220 - accuracy: 0.9667 - val_loss: 4.3845 - val_accuracy: 0.4600\n",
            "Epoch 74/200\n",
            "120/120 [==============================] - 44s 365ms/step - loss: 0.0953 - accuracy: 0.9642 - val_loss: 4.2720 - val_accuracy: 0.4800\n",
            "Epoch 75/200\n",
            "120/120 [==============================] - ETA: 0s - loss: 0.0958 - accuracy: 0.9717\n",
            " Accuracy is high enough so running is cancelled\n",
            "120/120 [==============================] - 44s 365ms/step - loss: 0.0958 - accuracy: 0.9717 - val_loss: 4.8046 - val_accuracy: 0.4100\n"
          ],
          "name": "stdout"
        }
      ]
    },
    {
      "cell_type": "code",
      "metadata": {
        "id": "X9AJRjeq0H4h",
        "colab_type": "code",
        "colab": {
          "base_uri": "https://localhost:8080/",
          "height": 621
        },
        "outputId": "f25434a5-0865-48f2-e885-607554bb02bb"
      },
      "source": [
        "## Model validation\n",
        "\n",
        "acc = history.history['accuracy']\n",
        "val_acc = history.history['val_accuracy']\n",
        "\n",
        "loss = history.history['loss']\n",
        "val_loss = history.history['val_loss']\n",
        "\n",
        "plt.figure(figsize=(10, 10))\n",
        "plt.subplot(2, 1, 1)\n",
        "plt.plot(acc, label='Training Accuracy')\n",
        "plt.plot(val_acc, label='Validation Accuracy')\n",
        "plt.legend(loc='lower right')\n",
        "plt.ylabel('Accuracy')\n",
        "plt.ylim([min(plt.ylim()),1])\n",
        "plt.xlabel('Epochs')\n",
        "plt.xlim([0, max(plt.xlim())])\n",
        "plt.title('Training and Validation Accuracy')\n",
        "\n",
        "plt.subplot(2, 1, 2)\n",
        "plt.plot(loss, label='Training Loss')\n",
        "plt.plot(val_loss, label='Validation Loss')\n",
        "plt.legend(loc='upper right')\n",
        "plt.ylabel('Cross Entropy')\n",
        "plt.ylim([0,max(plt.ylim())])\n",
        "plt.xlim([0, max(plt.xlim())])\n",
        "plt.title('Training and Validation Loss')\n",
        "plt.xlabel('Epochs')\n",
        "plt.show()"
      ],
      "execution_count": null,
      "outputs": [
        {
          "output_type": "display_data",
          "data": {
            "image/png": "[encoded data removed]",
            "text/plain": [
              "<Figure size 720x720 with 2 Axes>"
            ]
          },
          "metadata": {
            "tags": [],
            "needs_background": "light"
          }
        }
      ]
    },
    {
      "cell_type": "code",
      "metadata": {
        "id": "rA_NttdL1L-a",
        "colab_type": "code",
        "colab": {
          "base_uri": "https://localhost:8080/",
          "height": 34
        },
        "outputId": "d8d34255-2d55-4a2d-9298-49ed128fd86f"
      },
      "source": [
        "#Prediction for testing data\n",
        "Y_pred = model.predict(X_test)\n",
        "\n",
        "predicted_words = [words[i] for i in np.argmax(Y_pred, axis=1)]\n",
        "actual_words = [words[i] for i in np.argmax(Y_test, axis=1)]\n",
        "\n",
        "correct = 0\n",
        "for predicted, actual in zip(predicted_words, actual_words):\n",
        "    if predicted == actual:\n",
        "        correct += 1\n",
        "#     print(f\"Predicted : {p} \\t Actual : {a}\")\n",
        "\n",
        "accuracy = correct/len(actual_words)\n",
        "print(f\"Accuracy : {accuracy} on completely unseen data\")"
      ],
      "execution_count": null,
      "outputs": [
        {
          "output_type": "stream",
          "text": [
            "Accuracy : 0.68 on completely unseen data\n"
          ],
          "name": "stdout"
        }
      ]
    },
    {
      "cell_type": "code",
      "metadata": {
        "id": "VIiyrGMuz3r-",
        "colab_type": "code",
        "colab": {
          "base_uri": "https://localhost:8080/",
          "height": 491
        },
        "outputId": "cd626f39-08c6-4344-829b-08630a1cb326"
      },
      "source": [
        "saved_model_dir = 'save/model_final'\n",
        "tf.keras.models.save_model(model, saved_model_dir, include_optimizer = True, save_format = 'tf')\n",
        "\n",
        "converter = tf.lite.TFLiteConverter.from_saved_model(saved_model_dir)\n",
        "tflite_model = converter.convert()\n",
        "\n",
        "with open('model.tflite', 'wb') as f:\n",
        "  f.write(tflite_model)"
      ],
      "execution_count": null,
      "outputs": [
        {
          "output_type": "stream",
          "text": [
            "WARNING:tensorflow:TensorFlow optimizers do not make it possible to access optimizer attributes or optimizer state after instantiation. As a result, we cannot save the optimizer as part of the model save file. You will have to compile your model again after loading it. Prefer using a Keras optimizer instead (see keras.io/optimizers).\n",
            "WARNING:tensorflow:From /usr/local/lib/python3.6/dist-packages/tensorflow/python/ops/resource_variable_ops.py:1817: calling BaseResourceVariable.__init__ (from tensorflow.python.ops.resource_variable_ops) with constraint is deprecated and will be removed in a future version.\n",
            "Instructions for updating:\n",
            "If using Keras pass *_constraint arguments to layers.\n",
            "WARNING:tensorflow:TensorFlow optimizers do not make it possible to access optimizer attributes or optimizer state after instantiation. As a result, we cannot save the optimizer as part of the model save file. You will have to compile your model again after loading it. Prefer using a Keras optimizer instead (see keras.io/optimizers).\n",
            "INFO:tensorflow:Assets written to: save/model_final/assets\n"
          ],
          "name": "stdout"
        },
        {
          "output_type": "error",
          "ename": "AttributeError",
          "evalue": "ignored",
          "traceback": [
            "\u001b[0;31m---------------------------------------------------------------------------\u001b[0m",
            "\u001b[0;31mAttributeError\u001b[0m                            Traceback (most recent call last)",
            "\u001b[0;32m<ipython-input-24-364e9fdace56>\u001b[0m in \u001b[0;36m<module>\u001b[0;34m()\u001b[0m\n\u001b[1;32m      2\u001b[0m \u001b[0mtf\u001b[0m\u001b[0;34m.\u001b[0m\u001b[0mkeras\u001b[0m\u001b[0;34m.\u001b[0m\u001b[0mmodels\u001b[0m\u001b[0;34m.\u001b[0m\u001b[0msave_model\u001b[0m\u001b[0;34m(\u001b[0m\u001b[0mmodel\u001b[0m\u001b[0;34m,\u001b[0m \u001b[0msaved_model_dir\u001b[0m\u001b[0;34m,\u001b[0m \u001b[0minclude_optimizer\u001b[0m \u001b[0;34m=\u001b[0m \u001b[0;32mTrue\u001b[0m\u001b[0;34m,\u001b[0m \u001b[0msave_format\u001b[0m \u001b[0;34m=\u001b[0m \u001b[0;34m'tf'\u001b[0m\u001b[0;34m)\u001b[0m\u001b[0;34m\u001b[0m\u001b[0;34m\u001b[0m\u001b[0m\n\u001b[1;32m      3\u001b[0m \u001b[0;34m\u001b[0m\u001b[0m\n\u001b[0;32m----> 4\u001b[0;31m \u001b[0mconverter\u001b[0m \u001b[0;34m=\u001b[0m \u001b[0mtf\u001b[0m\u001b[0;34m.\u001b[0m\u001b[0mlite\u001b[0m\u001b[0;34m.\u001b[0m\u001b[0mTFLiteConverter\u001b[0m\u001b[0;34m.\u001b[0m\u001b[0mfrom_saved_model\u001b[0m\u001b[0;34m(\u001b[0m\u001b[0msaved_model_dir\u001b[0m\u001b[0;34m)\u001b[0m\u001b[0;34m\u001b[0m\u001b[0;34m\u001b[0m\u001b[0m\n\u001b[0m\u001b[1;32m      5\u001b[0m \u001b[0mtflite_model\u001b[0m \u001b[0;34m=\u001b[0m \u001b[0mconverter\u001b[0m\u001b[0;34m.\u001b[0m\u001b[0mconvert\u001b[0m\u001b[0;34m(\u001b[0m\u001b[0;34m)\u001b[0m\u001b[0;34m\u001b[0m\u001b[0;34m\u001b[0m\u001b[0m\n\u001b[1;32m      6\u001b[0m \u001b[0;34m\u001b[0m\u001b[0m\n",
            "\u001b[0;32m/usr/local/lib/python3.6/dist-packages/tensorflow/lite/python/lite.py\u001b[0m in \u001b[0;36mfrom_saved_model\u001b[0;34m(cls, saved_model_dir, signature_keys, tags)\u001b[0m\n\u001b[1;32m    397\u001b[0m     \u001b[0;31m# in order to create a tf.estimator.Exporter that exports a TFLite model.\u001b[0m\u001b[0;34m\u001b[0m\u001b[0;34m\u001b[0m\u001b[0;34m\u001b[0m\u001b[0m\n\u001b[1;32m    398\u001b[0m     \u001b[0;32mwith\u001b[0m \u001b[0mcontext\u001b[0m\u001b[0;34m.\u001b[0m\u001b[0meager_mode\u001b[0m\u001b[0;34m(\u001b[0m\u001b[0;34m)\u001b[0m\u001b[0;34m:\u001b[0m\u001b[0;34m\u001b[0m\u001b[0;34m\u001b[0m\u001b[0m\n\u001b[0;32m--> 399\u001b[0;31m       \u001b[0msaved_model\u001b[0m \u001b[0;34m=\u001b[0m \u001b[0m_load\u001b[0m\u001b[0;34m(\u001b[0m\u001b[0msaved_model_dir\u001b[0m\u001b[0;34m,\u001b[0m \u001b[0mtags\u001b[0m\u001b[0;34m)\u001b[0m\u001b[0;34m\u001b[0m\u001b[0;34m\u001b[0m\u001b[0m\n\u001b[0m\u001b[1;32m    400\u001b[0m     \u001b[0;32mif\u001b[0m \u001b[0;32mnot\u001b[0m \u001b[0msignature_keys\u001b[0m\u001b[0;34m:\u001b[0m\u001b[0;34m\u001b[0m\u001b[0;34m\u001b[0m\u001b[0m\n\u001b[1;32m    401\u001b[0m       \u001b[0msignature_keys\u001b[0m \u001b[0;34m=\u001b[0m \u001b[0msaved_model\u001b[0m\u001b[0;34m.\u001b[0m\u001b[0msignatures\u001b[0m\u001b[0;34m\u001b[0m\u001b[0;34m\u001b[0m\u001b[0m\n",
            "\u001b[0;32m/usr/local/lib/python3.6/dist-packages/tensorflow/python/saved_model/load.py\u001b[0m in \u001b[0;36mload\u001b[0;34m(export_dir, tags)\u001b[0m\n\u001b[1;32m    576\u001b[0m     \u001b[0mValueError\u001b[0m\u001b[0;34m:\u001b[0m \u001b[0mIf\u001b[0m\u001b[0;31m \u001b[0m\u001b[0;31m`\u001b[0m\u001b[0mtags\u001b[0m\u001b[0;31m`\u001b[0m \u001b[0mdon\u001b[0m\u001b[0;31m'\u001b[0m\u001b[0mt\u001b[0m \u001b[0mmatch\u001b[0m \u001b[0ma\u001b[0m \u001b[0mMetaGraph\u001b[0m \u001b[0;32min\u001b[0m \u001b[0mthe\u001b[0m \u001b[0mSavedModel\u001b[0m\u001b[0;34m.\u001b[0m\u001b[0;34m\u001b[0m\u001b[0;34m\u001b[0m\u001b[0m\n\u001b[1;32m    577\u001b[0m   \"\"\"\n\u001b[0;32m--> 578\u001b[0;31m   \u001b[0;32mreturn\u001b[0m \u001b[0mload_internal\u001b[0m\u001b[0;34m(\u001b[0m\u001b[0mexport_dir\u001b[0m\u001b[0;34m,\u001b[0m \u001b[0mtags\u001b[0m\u001b[0;34m)\u001b[0m\u001b[0;34m\u001b[0m\u001b[0;34m\u001b[0m\u001b[0m\n\u001b[0m\u001b[1;32m    579\u001b[0m \u001b[0;34m\u001b[0m\u001b[0m\n\u001b[1;32m    580\u001b[0m \u001b[0;34m\u001b[0m\u001b[0m\n",
            "\u001b[0;32m/usr/local/lib/python3.6/dist-packages/tensorflow/python/saved_model/load.py\u001b[0m in \u001b[0;36mload_internal\u001b[0;34m(export_dir, tags, loader_cls)\u001b[0m\n\u001b[1;32m    602\u001b[0m       loader = loader_cls(object_graph_proto,\n\u001b[1;32m    603\u001b[0m                           \u001b[0msaved_model_proto\u001b[0m\u001b[0;34m,\u001b[0m\u001b[0;34m\u001b[0m\u001b[0;34m\u001b[0m\u001b[0m\n\u001b[0;32m--> 604\u001b[0;31m                           export_dir)\n\u001b[0m\u001b[1;32m    605\u001b[0m       \u001b[0mroot\u001b[0m \u001b[0;34m=\u001b[0m \u001b[0mloader\u001b[0m\u001b[0;34m.\u001b[0m\u001b[0mget\u001b[0m\u001b[0;34m(\u001b[0m\u001b[0;36m0\u001b[0m\u001b[0;34m)\u001b[0m\u001b[0;34m\u001b[0m\u001b[0;34m\u001b[0m\u001b[0m\n\u001b[1;32m    606\u001b[0m       \u001b[0;32mif\u001b[0m \u001b[0misinstance\u001b[0m\u001b[0;34m(\u001b[0m\u001b[0mloader\u001b[0m\u001b[0;34m,\u001b[0m \u001b[0mLoader\u001b[0m\u001b[0;34m)\u001b[0m\u001b[0;34m:\u001b[0m\u001b[0;34m\u001b[0m\u001b[0;34m\u001b[0m\u001b[0m\n",
            "\u001b[0;32m/usr/local/lib/python3.6/dist-packages/tensorflow/python/saved_model/load.py\u001b[0m in \u001b[0;36m__init__\u001b[0;34m(self, object_graph_proto, saved_model_proto, export_dir)\u001b[0m\n\u001b[1;32m    121\u001b[0m       \u001b[0mself\u001b[0m\u001b[0;34m.\u001b[0m\u001b[0m_concrete_functions\u001b[0m\u001b[0;34m[\u001b[0m\u001b[0mname\u001b[0m\u001b[0;34m]\u001b[0m \u001b[0;34m=\u001b[0m \u001b[0m_WrapperFunction\u001b[0m\u001b[0;34m(\u001b[0m\u001b[0mconcrete_function\u001b[0m\u001b[0;34m)\u001b[0m\u001b[0;34m\u001b[0m\u001b[0;34m\u001b[0m\u001b[0m\n\u001b[1;32m    122\u001b[0m \u001b[0;34m\u001b[0m\u001b[0m\n\u001b[0;32m--> 123\u001b[0;31m     \u001b[0mself\u001b[0m\u001b[0;34m.\u001b[0m\u001b[0m_load_all\u001b[0m\u001b[0;34m(\u001b[0m\u001b[0;34m)\u001b[0m\u001b[0;34m\u001b[0m\u001b[0;34m\u001b[0m\u001b[0m\n\u001b[0m\u001b[1;32m    124\u001b[0m     \u001b[0mself\u001b[0m\u001b[0;34m.\u001b[0m\u001b[0m_restore_checkpoint\u001b[0m\u001b[0;34m(\u001b[0m\u001b[0;34m)\u001b[0m\u001b[0;34m\u001b[0m\u001b[0;34m\u001b[0m\u001b[0m\n\u001b[1;32m    125\u001b[0m \u001b[0;34m\u001b[0m\u001b[0m\n",
            "\u001b[0;32m/usr/local/lib/python3.6/dist-packages/tensorflow/python/saved_model/load.py\u001b[0m in \u001b[0;36m_load_all\u001b[0;34m(self)\u001b[0m\n\u001b[1;32m    132\u001b[0m   \u001b[0;32mdef\u001b[0m \u001b[0m_load_all\u001b[0m\u001b[0;34m(\u001b[0m\u001b[0mself\u001b[0m\u001b[0;34m)\u001b[0m\u001b[0;34m:\u001b[0m\u001b[0;34m\u001b[0m\u001b[0;34m\u001b[0m\u001b[0m\n\u001b[1;32m    133\u001b[0m     \u001b[0;34m\"\"\"Loads all nodes and functions from the SavedModel and their edges.\"\"\"\u001b[0m\u001b[0;34m\u001b[0m\u001b[0;34m\u001b[0m\u001b[0m\n\u001b[0;32m--> 134\u001b[0;31m     \u001b[0mself\u001b[0m\u001b[0;34m.\u001b[0m\u001b[0m_load_nodes\u001b[0m\u001b[0;34m(\u001b[0m\u001b[0;34m)\u001b[0m\u001b[0;34m\u001b[0m\u001b[0;34m\u001b[0m\u001b[0m\n\u001b[0m\u001b[1;32m    135\u001b[0m     \u001b[0mself\u001b[0m\u001b[0;34m.\u001b[0m\u001b[0m_load_edges\u001b[0m\u001b[0;34m(\u001b[0m\u001b[0;34m)\u001b[0m\u001b[0;34m\u001b[0m\u001b[0;34m\u001b[0m\u001b[0m\n\u001b[1;32m    136\u001b[0m     \u001b[0;31m# TODO(b/124045874): There are limitations with functions whose captures\u001b[0m\u001b[0;34m\u001b[0m\u001b[0;34m\u001b[0m\u001b[0;34m\u001b[0m\u001b[0m\n",
            "\u001b[0;32m/usr/local/lib/python3.6/dist-packages/tensorflow/python/saved_model/load.py\u001b[0m in \u001b[0;36m_load_nodes\u001b[0;34m(self)\u001b[0m\n\u001b[1;32m    273\u001b[0m         optimized_variable = nodes[\n\u001b[1;32m    274\u001b[0m             slot_variable_proto.original_variable_node_id]\n\u001b[0;32m--> 275\u001b[0;31m         slot_variable = optimizer_object.add_slot(\n\u001b[0m\u001b[1;32m    276\u001b[0m             \u001b[0mvar\u001b[0m\u001b[0;34m=\u001b[0m\u001b[0moptimized_variable\u001b[0m\u001b[0;34m,\u001b[0m\u001b[0;34m\u001b[0m\u001b[0;34m\u001b[0m\u001b[0m\n\u001b[1;32m    277\u001b[0m             slot_name=slot_variable_proto.slot_name)\n",
            "\u001b[0;31mAttributeError\u001b[0m: '_UserObject' object has no attribute 'add_slot'"
          ]
        }
      ]
    }
  ]
}