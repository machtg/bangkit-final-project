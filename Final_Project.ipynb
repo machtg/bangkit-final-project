{
  "nbformat": 4,
  "nbformat_minor": 0,
  "metadata": {
    "colab": {
      "name": "Final Project.ipynb",
      "provenance": [],
      "collapsed_sections": [],
      "toc_visible": true,
      "include_colab_link": true
    },
    "kernelspec": {
      "name": "python3",
      "display_name": "Python 3"
    },
    "accelerator": "GPU"
  },
  "cells": [
    {
      "cell_type": "markdown",
      "metadata": {
        "id": "view-in-github",
        "colab_type": "text"
      },
      "source": [
        "<a href=\"https://colab.research.google.com/github/machtg/bangkit-final-project/blob/master/Final_Project.ipynb\" target=\"_parent\"><img src=\"https://colab.research.google.com/assets/colab-badge.svg\" alt=\"Open In Colab\"/></a>"
      ]
    },
    {
      "cell_type": "markdown",
      "metadata": {
        "id": "DvEwjSoIV79-",
        "colab_type": "text"
      },
      "source": [
        "# **Final Project Google Bangkit**\n",
        "\n"
      ]
    },
    {
      "cell_type": "markdown",
      "metadata": {
        "id": "KRp_Z5sIV7BF",
        "colab_type": "text"
      },
      "source": [
        "BDG5-D \n",
        "1. Maclaurin Hutagalung\n",
        "2. Puthut Prabancono\n",
        "3. Raynald Masli\n",
        "\n",
        "Our topic is the **lips reading dataset**"
      ]
    },
    {
      "cell_type": "markdown",
      "metadata": {
        "id": "HPAsGEbV6B9h",
        "colab_type": "text"
      },
      "source": [
        "**Downloading and Unzipping the Dataset**"
      ]
    },
    {
      "cell_type": "code",
      "metadata": {
        "id": "fkomQZPkq-58",
        "colab_type": "code",
        "colab": {}
      },
      "source": [
        ""
      ],
      "execution_count": null,
      "outputs": []
    },
    {
      "cell_type": "code",
      "metadata": {
        "id": "hbInJa_XWjqm",
        "colab_type": "code",
        "colab": {}
      },
      "source": [
        "import pandas as pd\n",
        "import tensorflow as tf\n",
        "import matplotlib.pyplot as plt\n",
        "import numpy as np\n",
        "import os\n",
        "import cv2\n",
        "from tensorflow.keras.layers import *\n",
        "from tensorflow.keras.models import Sequential\n",
        "from tensorflow.keras import optimizers\n",
        "from tensorflow.keras.preprocessing.image import *\n",
        "from tensorflow.keras import backend as Back\n",
        "from tensorflow.keras.initializers import Constant\n",
        "from tensorflow.python.framework import ops\n",
        "from tensorflow.python.ops import state_ops\n",
        "from tensorflow.python.ops import control_flow_ops\n",
        "from tensorflow.python.framework import constant_op\n",
        "from tensorflow.python.training.optimizer import Optimizer\n",
        "import dlib\n",
        "import imutils\n",
        "import zipfile\n",
        "import time\n",
        "from tensorflow import keras\n",
        "import random"
      ],
      "execution_count": null,
      "outputs": []
    },
    {
      "cell_type": "markdown",
      "metadata": {
        "id": "DrKscEsLpLiV",
        "colab_type": "text"
      },
      "source": [
        "The steps below is the syntax to import the dataset from kaggle, so after running the cropping process, we don't need to run this anymore. Just use the final cropping data in zip file."
      ]
    },
    {
      "cell_type": "code",
      "metadata": {
        "id": "_o5UVQtMgh9j",
        "colab_type": "code",
        "colab": {
          "resources": {
            "http://localhost:8080/nbextensions/google.colab/files.js": {
              "data": "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",
              "ok": true,
              "headers": [
                [
                  "content-type",
                  "application/javascript"
                ]
              ],
              "status": 200,
              "status_text": ""
            }
          },
          "base_uri": "https://localhost:8080/",
          "height": 74
        },
        "outputId": "85ae5180-8ddc-4d07-bfce-70fedb9c7a9f"
      },
      "source": [
        "from google.colab import files\n",
        "\n",
        "!pip install -q kaggle\n",
        "\n",
        "uploaded = files.upload()"
      ],
      "execution_count": null,
      "outputs": [
        {
          "output_type": "display_data",
          "data": {
            "text/html": [
              "\n",
              "     <input type=\"file\" id=\"files-ea23a2fa-aa97-443b-8f19-b087ccf55951\" name=\"files[]\" multiple disabled />\n",
              "     <output id=\"result-ea23a2fa-aa97-443b-8f19-b087ccf55951\">\n",
              "      Upload widget is only available when the cell has been executed in the\n",
              "      current browser session. Please rerun this cell to enable.\n",
              "      </output>\n",
              "      <script src=\"/nbextensions/google.colab/files.js\"></script> "
            ],
            "text/plain": [
              "<IPython.core.display.HTML object>"
            ]
          },
          "metadata": {
            "tags": []
          }
        },
        {
          "output_type": "stream",
          "text": [
            "Saving kaggle.json to kaggle.json\n"
          ],
          "name": "stdout"
        }
      ]
    },
    {
      "cell_type": "code",
      "metadata": {
        "id": "Yrcby-FZhnYE",
        "colab_type": "code",
        "colab": {
          "base_uri": "https://localhost:8080/",
          "height": 67
        },
        "outputId": "38628414-eb02-491c-a238-3e14ef20f1ff"
      },
      "source": [
        "!mkdir -p ~/.kaggle\n",
        "!cp kaggle.json ~/.kaggle/\n",
        "!chmod 600 ~/.kaggle/kaggle.json\n",
        "!kaggle datasets download -d apoorvwatsky/miraclvc1"
      ],
      "execution_count": null,
      "outputs": [
        {
          "output_type": "stream",
          "text": [
            "Downloading miraclvc1.zip to /content\n",
            "100% 5.12G/5.13G [01:54<00:00, 58.3MB/s]\n",
            "100% 5.13G/5.13G [01:54<00:00, 48.1MB/s]\n"
          ],
          "name": "stdout"
        }
      ]
    },
    {
      "cell_type": "code",
      "metadata": {
        "id": "1PEPn5DLisWT",
        "colab_type": "code",
        "colab": {}
      },
      "source": [
        "import zipfile\n",
        "\n",
        "#Extract the file from zip file\n",
        "images = zipfile.ZipFile(\"/content/miraclvc1.zip\", 'r')\n",
        "images.extractall(\"/content\")\n",
        "images.close()"
      ],
      "execution_count": null,
      "outputs": []
    },
    {
      "cell_type": "markdown",
      "metadata": {
        "id": "C9G7e6Br6Lcr",
        "colab_type": "text"
      },
      "source": [
        "# **Data Preprocessing**"
      ]
    },
    {
      "cell_type": "markdown",
      "metadata": {
        "id": "k7tfa2gRnBid",
        "colab_type": "text"
      },
      "source": [
        "This section contains of;\n",
        "1. Set random seed\n",
        "2. Facial detection process\n",
        "3. Lip cropping process\n",
        "4. Facial landmarks coordinate extraction\n",
        "5. Lip cropping images\n",
        "6. Sequential dataset\n",
        "7. Data splitting process\n",
        "8. Independent variables expand dimension"
      ]
    },
    {
      "cell_type": "code",
      "metadata": {
        "id": "eZ8ONq1fhEgz",
        "colab_type": "code",
        "colab": {}
      },
      "source": [
        "#Set random number gnerator (RNG)\n",
        "os.environ['PYTHONHASHSEED'] = '0'\n",
        "np.random.seed(2)\n",
        "random.seed(2)\n",
        "tf.random.set_seed(2)\n",
        "session_conf = tf.compat.v1.ConfigProto(intra_op_parallelism_threads = 1,\n",
        "                              inter_op_parallelism_threads = 1)\n",
        "seeds = tf.compat.v1.Session(graph = tf.compat.v1.get_default_graph(), config = session_conf)\n",
        "tf.compat.v1.keras.backend.set_session(seeds)"
      ],
      "execution_count": null,
      "outputs": []
    },
    {
      "cell_type": "code",
      "metadata": {
        "id": "jwP7IxMFm9Vn",
        "colab_type": "code",
        "colab": {}
      },
      "source": [
        "#Dataset description in file\n",
        "\n",
        "respondent = ['F01', 'F02', 'F04', 'F05', 'F06', 'F07', 'F08', 'F09', \n",
        "              'F10', 'F11', 'M01', 'M02', 'M04', 'M07', 'M08']\n",
        "data_types = ['words']\n",
        "folder_enumerate = ['01', '02', '03', '04', '05', '06', '07', '08', '09', '10']\n",
        "instances = ['01', '02', '03', '04', '05', '06', '07', '08', '09', '10']\n",
        "\n",
        "words = ['Begin', 'Choose', 'Connection', 'Navigation', 'Next', 'Previous',\n",
        "         'Start', 'Stop', 'Hello', 'Web']\n",
        "phrases = ['Stop Navigation.', 'Excuse me.', 'I am sorry.', 'Thank you.', \n",
        "           'Good bye.', 'I love this game.', 'Nice to meet you.',\n",
        "           'You are welcome.', 'How are you?', 'Have a good time.']\n"
      ],
      "execution_count": null,
      "outputs": []
    },
    {
      "cell_type": "markdown",
      "metadata": {
        "id": "3T-6d_pfpnfj",
        "colab_type": "text"
      },
      "source": [
        "# **This is the syntax to crop all the datasets, if you have extracted it into the zip file, you don't have to run it anymore.** "
      ]
    },
    {
      "cell_type": "code",
      "metadata": {
        "id": "S9CHlrJ66O_2",
        "colab_type": "code",
        "colab": {}
      },
      "source": [
        "#Facial Landmark Mapping to Numpy Array\n",
        "\n",
        "def shape_to_np (facial, dtype = 'int'):\n",
        "#This function is generated to convert the facial landmarks (68 points)\n",
        "#as the integers in (x,y)-coordinates in 2-dimensional-tuples\n",
        "    coordinates = np.zeros((68,2), dtype = dtype)\n",
        "    for i in range(0, 68):\n",
        "        coordinates[i] = (facial.part(i).x, facial.part(i).y)\n",
        "    \n",
        "    return coordinates"
      ],
      "execution_count": null,
      "outputs": []
    },
    {
      "cell_type": "code",
      "metadata": {
        "id": "gQmTS0GredG4",
        "colab_type": "code",
        "colab": {}
      },
      "source": [
        "from imutils import face_utils"
      ],
      "execution_count": null,
      "outputs": []
    },
    {
      "cell_type": "code",
      "metadata": {
        "id": "W_YpFHG46PL5",
        "colab_type": "code",
        "colab": {}
      },
      "source": [
        "#Lip Image Cropping \n",
        "\n",
        "def image_cropping(img_path):\n",
        "#This function is generated to detect and map all the facial landmarks (68 points)\n",
        "#It also resize the image and save the (x,y) coordinates\n",
        "\n",
        "    detector = dlib.get_frontal_face_detector()\n",
        "    predictor = dlib.shape_predictor('/content/shape_predictor_68_face_landmarks.dat')\n",
        "\n",
        "    image = cv2.imread(img_path)\n",
        "    image = imutils.resize(image, width = 500)\n",
        "    image = cv2.cvtColor(image, cv2.COLOR_BGR2GRAY)\n",
        "    detection = detector(image, 1)\n",
        "\n",
        "    if len(detection) > 1:\n",
        "      print('ERROR : Detect more than 1 face')\n",
        "      return\n",
        "    if len(detection) < 1:\n",
        "      print('ERROR : Detect no faces')\n",
        "      return\n",
        "    \n",
        "    for (i, detect) in enumerate(detection) :\n",
        "      facial = predictor(image, detect)\n",
        "      facial = face_utils.shape_to_np(facial)\n",
        "      name, i, j = 'mouth', 48, 68\n",
        "\n",
        "      (x, y, w, h) = cv2.boundingRect(np.array([facial[i:j]]))\n",
        "      lip = image[y:y+h, x:x+w]\n",
        "      lip = imutils.resize(lip, width = 250, inter = cv2.INTER_CUBIC)\n",
        "      \n",
        "    return lip\n"
      ],
      "execution_count": null,
      "outputs": []
    },
    {
      "cell_type": "code",
      "metadata": {
        "id": "GaENt_7F1vXJ",
        "colab_type": "code",
        "colab": {
          "base_uri": "https://localhost:8080/",
          "height": 269
        },
        "outputId": "dbfc2e3e-1121-4bb2-8f0e-2533d086df80"
      },
      "source": [
        "#Directory Processing\n",
        "\n",
        "if not os.path.exists('/content/final_cropping_data'):\n",
        "    os.mkdir('/content/final_cropping_data')\n",
        "directory = '/content/final_cropping_data/'\n",
        "\n",
        "for person in respondent :\n",
        "    t1 = time.time\n",
        "    if not os.path.exists( directory + person) :\n",
        "        os.mkdir(directory + person + '/')\n",
        "    for data in data_types :\n",
        "        if not os.path.exists(directory + person + '/' + data) :\n",
        "            os.mkdir(directory + person + '/' + data + '/')\n",
        "        for context in folder_enumerate :\n",
        "            if not os.path.exists(directory + person + '/' + data + '/' + \n",
        "                                 context) :\n",
        "                os.mkdir(directory + person + '/' + data + '/' + \n",
        "                         context + '/')\n",
        "            for word in instances :\n",
        "                if not os.path.exists(directory + person + '/' + data + \n",
        "                                     '/' + context + '/' + word) :\n",
        "                      os.mkdir(directory + person + '/' + data + \n",
        "                               '/' + context + '/' + word + '/')\n",
        "                \n",
        "                direct_file = '/content/dataset/dataset/' + person + '/' + data + '/' + context + '/' + word + '/'\n",
        "                save_file = directory + person + '/' + data + '/' + context + '/' + word + '/' \n",
        "                pic = os.listdir(direct_file)\n",
        "                for img in pic :\n",
        "                    if img.startswith('color') :\n",
        "                        image = direct_file + img\n",
        "                        lip = image_cropping(image)\n",
        "                        cv2.imwrite(save_file + img, lip)\n",
        "    \n",
        "    t2 = time.time()\n",
        "    print(f'Finish for {person}')\n",
        "\n"
      ],
      "execution_count": null,
      "outputs": [
        {
          "output_type": "stream",
          "text": [
            "Finish for F01\n",
            "Finish for F02\n",
            "Finish for F04\n",
            "Finish for F05\n",
            "Finish for F06\n",
            "Finish for F07\n",
            "Finish for F08\n",
            "Finish for F09\n",
            "Finish for F10\n",
            "Finish for F11\n",
            "Finish for M01\n",
            "Finish for M02\n",
            "Finish for M04\n",
            "Finish for M07\n",
            "Finish for M08\n"
          ],
          "name": "stdout"
        }
      ]
    },
    {
      "cell_type": "code",
      "metadata": {
        "id": "mRXwwRRt9iRn",
        "colab_type": "code",
        "colab": {}
      },
      "source": [
        "import shutil"
      ],
      "execution_count": null,
      "outputs": []
    },
    {
      "cell_type": "code",
      "metadata": {
        "id": "8TPPCFVOCvov",
        "colab_type": "code",
        "colab": {
          "base_uri": "https://localhost:8080/",
          "height": 34
        },
        "outputId": "447b1d52-9b8d-4ebe-ddee-bea1c33814c5"
      },
      "source": [
        "shutil.make_archive('final_cropping_data', 'zip', base_dir = '/content/final_cropping_data')"
      ],
      "execution_count": null,
      "outputs": [
        {
          "output_type": "execute_result",
          "data": {
            "text/plain": [
              "'final_cropping_data.zip'"
            ]
          },
          "metadata": {
            "tags": []
          },
          "execution_count": 101
        }
      ]
    },
    {
      "cell_type": "markdown",
      "metadata": {
        "id": "ilIhK1Iqi_zN",
        "colab_type": "text"
      },
      "source": [
        "# **Running cells process starts here** \n",
        "\n",
        "After extracting all the images into zip file, download it and then it can be uploaded again if the model want to be develop more. The download process must be done since the cropping process spends about 5 hours per running"
      ]
    },
    {
      "cell_type": "code",
      "metadata": {
        "id": "e9WZrTyS6mcz",
        "colab_type": "code",
        "colab": {
          "resources": {
            "http://localhost:8080/nbextensions/google.colab/files.js": {
              "data": "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",
              "ok": true,
              "headers": [
                [
                  "content-type",
                  "application/javascript"
                ]
              ],
              "status": 200,
              "status_text": ""
            }
          },
          "base_uri": "https://localhost:8080/",
          "height": 73
        },
        "outputId": "0a4b0ba6-cac1-452b-86b6-b0075f901ac5"
      },
      "source": [
        "#Upload zip file of cropping dataset from the computer\n",
        "from google.colab import files\n",
        "\n",
        "uploaded = files.upload()"
      ],
      "execution_count": null,
      "outputs": [
        {
          "output_type": "display_data",
          "data": {
            "text/html": [
              "\n",
              "     <input type=\"file\" id=\"files-101580c7-dd0e-4bd9-b8eb-265e95cfcbd1\" name=\"files[]\" multiple disabled\n",
              "        style=\"border:none\" />\n",
              "     <output id=\"result-101580c7-dd0e-4bd9-b8eb-265e95cfcbd1\">\n",
              "      Upload widget is only available when the cell has been executed in the\n",
              "      current browser session. Please rerun this cell to enable.\n",
              "      </output>\n",
              "      <script src=\"/nbextensions/google.colab/files.js\"></script> "
            ],
            "text/plain": [
              "<IPython.core.display.HTML object>"
            ]
          },
          "metadata": {
            "tags": []
          }
        },
        {
          "output_type": "stream",
          "text": [
            "Saving final_cropping_data.zip to final_cropping_data.zip\n"
          ],
          "name": "stdout"
        }
      ]
    },
    {
      "cell_type": "code",
      "metadata": {
        "id": "BcGb4xEw6ug6",
        "colab_type": "code",
        "colab": {}
      },
      "source": [
        "#Extract the file from file_data_cropping zip file\n",
        "images = zipfile.ZipFile(\"/content/final_cropping_data.zip\", 'r')\n",
        "images.extractall(\"/content\")\n",
        "images.close()"
      ],
      "execution_count": null,
      "outputs": []
    },
    {
      "cell_type": "code",
      "metadata": {
        "id": "yPMRgFI0u7hS",
        "colab_type": "code",
        "colab": {}
      },
      "source": [
        "#Reading Initialization\n",
        "max_sequence_len = 22\n",
        "Max_width = 100\n",
        "Max_height = 100\n",
        "\n",
        "X_train = []\n",
        "Y_train = []\n",
        "X_val = []\n",
        "Y_val = []\n",
        "X_test = []\n",
        "Y_test = []\n"
      ],
      "execution_count": null,
      "outputs": []
    },
    {
      "cell_type": "code",
      "metadata": {
        "id": "x4ag1346wFVS",
        "colab_type": "code",
        "colab": {
          "base_uri": "https://localhost:8080/",
          "height": 269
        },
        "outputId": "8ca04a2d-985f-4032-de9c-73843365ed71"
      },
      "source": [
        "Validation_data = ['F05', 'M04']\n",
        "Test_data = ['F08']\n",
        "\n",
        "directory = '/content/content/final_cropping_data'\n",
        "\n",
        "for person in respondent :\n",
        "    ti = time.time()\n",
        "    for data in data_types :\n",
        "        for word_index, word in enumerate(folder_enumerate) :\n",
        "            for context in instances :\n",
        "                image_path = os.path.join(directory, person, data, word, context)\n",
        "                image_list = sorted(os.listdir(image_path + '/'))\n",
        "                sequence = []\n",
        "                for img in image_list :\n",
        "                    image = cv2.imread(image_path + '/' + img)\n",
        "                    image = cv2.resize(image, (Max_width, Max_height))\n",
        "                    image = cv2.cvtColor(image, cv2.COLOR_BGR2GRAY)\n",
        "                    image = image.astype(np.uint8)\n",
        "                    sequence.append(image)\n",
        "                \n",
        "                padded_arr = [np.zeros((Max_width, Max_height))]\n",
        "                sequence.extend(padded_arr * (max_sequence_len - len(sequence)))\n",
        "                sequence = np.array(sequence)\n",
        "\n",
        "\n",
        "                if person in Validation_data :\n",
        "                    X_val.append(sequence)\n",
        "                    Y_val.append(word_index)\n",
        "                elif person in Test_data :\n",
        "                    X_test.append(sequence)\n",
        "                    Y_test.append(word_index)\n",
        "                else :\n",
        "                    X_train.append(sequence)\n",
        "                    Y_train.append(word_index)\n",
        "    tf = time.time()\n",
        "    print(f'Finish for {person}, in {tf - ti} secs.')"
      ],
      "execution_count": null,
      "outputs": [
        {
          "output_type": "stream",
          "text": [
            "Finish for F01, in 0.519237756729126 secs.\n",
            "Finish for F02, in 0.5022718906402588 secs.\n",
            "Finish for F04, in 0.7534763813018799 secs.\n",
            "Finish for F05, in 0.5767130851745605 secs.\n",
            "Finish for F06, in 0.6662404537200928 secs.\n",
            "Finish for F07, in 0.6720020771026611 secs.\n",
            "Finish for F08, in 0.5464553833007812 secs.\n",
            "Finish for F09, in 0.538407564163208 secs.\n",
            "Finish for F10, in 0.44615840911865234 secs.\n",
            "Finish for F11, in 0.44655370712280273 secs.\n",
            "Finish for M01, in 0.655165433883667 secs.\n",
            "Finish for M02, in 0.6249768733978271 secs.\n",
            "Finish for M04, in 0.5385091304779053 secs.\n",
            "Finish for M07, in 0.4865398406982422 secs.\n",
            "Finish for M08, in 0.4444241523742676 secs.\n"
          ],
          "name": "stdout"
        }
      ]
    },
    {
      "cell_type": "code",
      "metadata": {
        "id": "IuZKhEOYIAJ2",
        "colab_type": "code",
        "colab": {}
      },
      "source": [
        "X_train = np.array(X_train)\n",
        "X_test = np.array(X_test)\n",
        "X_val = np.array(X_val)"
      ],
      "execution_count": null,
      "outputs": []
    },
    {
      "cell_type": "code",
      "metadata": {
        "id": "vaaA7108InhC",
        "colab_type": "code",
        "colab": {
          "base_uri": "https://localhost:8080/",
          "height": 67
        },
        "outputId": "7d10c2d6-c9bd-44d4-e38e-a7524cb418bc"
      },
      "source": [
        "print(X_train.shape)\n",
        "print(X_val.shape)\n",
        "print(X_test.shape)"
      ],
      "execution_count": null,
      "outputs": [
        {
          "output_type": "stream",
          "text": [
            "(1200, 22, 100, 100)\n",
            "(200, 22, 100, 100)\n",
            "(100, 22, 100, 100)\n"
          ],
          "name": "stdout"
        }
      ]
    },
    {
      "cell_type": "code",
      "metadata": {
        "id": "EQbQDYCOKQE-",
        "colab_type": "code",
        "colab": {
          "base_uri": "https://localhost:8080/",
          "height": 67
        },
        "outputId": "bba54075-f134-48b3-c954-d3e571054895"
      },
      "source": [
        "Y_train = np.array(Y_train)\n",
        "Y_val = np.array(Y_val)\n",
        "Y_test = np.array(Y_test)\n",
        "\n",
        "print(Y_train.shape)\n",
        "print(Y_val.shape)\n",
        "print(Y_test.shape)"
      ],
      "execution_count": null,
      "outputs": [
        {
          "output_type": "stream",
          "text": [
            "(1200,)\n",
            "(200,)\n",
            "(100,)\n"
          ],
          "name": "stdout"
        }
      ]
    },
    {
      "cell_type": "code",
      "metadata": {
        "id": "SV1F-HWBK2Dm",
        "colab_type": "code",
        "colab": {}
      },
      "source": [
        "#Normalization process\n",
        "\n",
        "X_train = X_train/255.0\n",
        "X_val = X_val/255.0\n",
        "X_test = X_test/255.0"
      ],
      "execution_count": null,
      "outputs": []
    },
    {
      "cell_type": "code",
      "metadata": {
        "id": "CAbec5eKLElm",
        "colab_type": "code",
        "colab": {}
      },
      "source": [
        "#Transforming Y feature to the categorical feature and randomization process\n",
        "from tensorflow import keras\n",
        "\n",
        "Y_train = keras.utils.to_categorical(Y_train, 10)\n",
        "Y_val = keras.utils.to_categorical(Y_val, 10)\n",
        "Y_test = keras.utils.to_categorical(Y_test, 10)\n"
      ],
      "execution_count": null,
      "outputs": []
    },
    {
      "cell_type": "code",
      "metadata": {
        "id": "3JIaZvt8QKz9",
        "colab_type": "code",
        "colab": {}
      },
      "source": [
        "X_train = np.expand_dims(X_train, axis = 4)\n",
        "X_val = np.expand_dims(X_val, axis = 4)\n",
        "X_test = np.expand_dims(X_test, axis = 4)"
      ],
      "execution_count": null,
      "outputs": []
    },
    {
      "cell_type": "code",
      "metadata": {
        "id": "48M0owKzPVjy",
        "colab_type": "code",
        "colab": {
          "base_uri": "https://localhost:8080/",
          "height": 67
        },
        "outputId": "f66396ce-29b2-47aa-eaa6-ed4a4620f221"
      },
      "source": [
        "print(X_train.shape)\n",
        "print(X_val.shape)\n",
        "print(X_test.shape)"
      ],
      "execution_count": null,
      "outputs": [
        {
          "output_type": "stream",
          "text": [
            "(1200, 22, 100, 100, 1)\n",
            "(200, 22, 100, 100, 1)\n",
            "(100, 22, 100, 100, 1)\n"
          ],
          "name": "stdout"
        }
      ]
    },
    {
      "cell_type": "code",
      "metadata": {
        "id": "j4c6EUtaVRq_",
        "colab_type": "code",
        "colab": {
          "base_uri": "https://localhost:8080/",
          "height": 34
        },
        "outputId": "69e2be46-dd12-45be-a8f2-0e4db89bb2e8"
      },
      "source": [
        "print (words)\n",
        "\n",
        "labels = '\\n'.join(sorted(words))\n",
        "\n",
        "with open('labels.txt', 'w') as f:\n",
        "  f.write(labels)"
      ],
      "execution_count": null,
      "outputs": [
        {
          "output_type": "stream",
          "text": [
            "['Begin', 'Choose', 'Connection', 'Navigation', 'Next', 'Previous', 'Start', 'Stop', 'Hello', 'Web']\n"
          ],
          "name": "stdout"
        }
      ]
    },
    {
      "cell_type": "markdown",
      "metadata": {
        "id": "J0l-mDm3cM0X",
        "colab_type": "text"
      },
      "source": [
        "# **Model Development (LipNet)** \n",
        "\n",
        "The model development process using two references in papers to increase the accuracy and the running speed. The model development steps can be identify below :\n",
        "1. Callbacks model function\n",
        "2. Model development\n",
        "3. Running process\n",
        "4. Result \n",
        "5. Model saving and deployment"
      ]
    },
    {
      "cell_type": "code",
      "metadata": {
        "id": "2zrAEbQXHCY4",
        "colab_type": "code",
        "colab": {}
      },
      "source": [
        "class myCallback (keras.callbacks.Callback) :\n",
        "    def on_epoch_end (self, epoch, logs = {} ) :\n",
        "        if (logs.get('accuracy') > 0.97) :\n",
        "            print('\\n Accuracy is high enough so running is cancelled')\n",
        "            self.model.stop_training = True"
      ],
      "execution_count": null,
      "outputs": []
    },
    {
      "cell_type": "code",
      "metadata": {
        "id": "oco7crF7vIGv",
        "colab_type": "code",
        "colab": {}
      },
      "source": [
        "callbacks = myCallback()"
      ],
      "execution_count": null,
      "outputs": []
    },
    {
      "cell_type": "markdown",
      "metadata": {
        "id": "FA9SGam5LCfz",
        "colab_type": "text"
      },
      "source": [
        "# **Baseline Model**\n",
        "The Baseline Model adapt the Lipnet model architecture with some adjustment to the datasets"
      ]
    },
    {
      "cell_type": "code",
      "metadata": {
        "id": "K3mSIMPgoB4y",
        "colab_type": "code",
        "colab": {}
      },
      "source": [
        "def LipNNvar ():\n",
        "\n",
        "  model = Sequential()\n",
        "  model.add(ZeroPadding3D(padding = (1, 2, 2), input_shape = (22, 100, 100, 1)))\n",
        "  model.add(Conv3D(32, (3, 5, 5), strides = (1, 2, 2), activation = 'relu'))\n",
        "  model.add(SpatialDropout3D(0.5))\n",
        "  model.add(MaxPooling3D((1, 2, 2), strides = (1, 2, 2)))\n",
        "  model.add(ZeroPadding3D(padding = (1, 2, 2)))\n",
        "  model.add(Conv3D(64, (3, 5, 5), strides = (1, 2, 2), activation = 'relu'))\n",
        "  model.add(SpatialDropout3D(0.5))\n",
        "  model.add(MaxPooling3D((1, 2, 2), strides = (1, 2, 2)))\n",
        "  model.add(ZeroPadding3D(padding = (1, 2, 2)))\n",
        "  model.add(Conv3D(96, (3, 5, 5), strides = (1, 2, 2), activation = 'relu'))\n",
        "  model.add(SpatialDropout3D(0.5))\n",
        "  model.add(MaxPooling3D((1, 2, 2), strides = (1, 2, 2)))\n",
        "\n",
        "  model.add(TimeDistributed(Flatten()))\n",
        "\n",
        "  model.add(Bidirectional(LSTM(32, return_sequences = True)))\n",
        "  model.add(Bidirectional(LSTM(32,  return_sequences = True)))\n",
        "  model.add(Dropout(0.5))\n",
        "  model.add(Flatten())\n",
        "\n",
        "  model.add(Dense(1024, activation = 'relu'))\n",
        "  model.add(Dropout(0.5))\n",
        "  model.add(Dense(512, activation = 'relu'))\n",
        "  model.add(Dropout(0.5))\n",
        "  model.add(Dense(10, activation = 'softmax'))\n",
        "\n",
        "  return model"
      ],
      "execution_count": null,
      "outputs": []
    },
    {
      "cell_type": "code",
      "metadata": {
        "id": "CXpywAUnFWa5",
        "colab_type": "code",
        "colab": {
          "base_uri": "https://localhost:8080/",
          "height": 890
        },
        "outputId": "a678d8be-aaff-4638-e498-8b543817974d"
      },
      "source": [
        "model1 = LipNNvar()\n",
        "model1.summary()"
      ],
      "execution_count": null,
      "outputs": [
        {
          "output_type": "stream",
          "text": [
            "Model: \"sequential_3\"\n",
            "_________________________________________________________________\n",
            "Layer (type)                 Output Shape              Param #   \n",
            "=================================================================\n",
            "zero_padding3d (ZeroPadding3 (None, 24, 104, 104, 1)   0         \n",
            "_________________________________________________________________\n",
            "conv3d_4 (Conv3D)            (None, 22, 50, 50, 32)    2432      \n",
            "_________________________________________________________________\n",
            "spatial_dropout3d_3 (Spatial (None, 22, 50, 50, 32)    0         \n",
            "_________________________________________________________________\n",
            "max_pooling3d_3 (MaxPooling3 (None, 22, 25, 25, 32)    0         \n",
            "_________________________________________________________________\n",
            "zero_padding3d_1 (ZeroPaddin (None, 24, 29, 29, 32)    0         \n",
            "_________________________________________________________________\n",
            "conv3d_5 (Conv3D)            (None, 22, 13, 13, 64)    153664    \n",
            "_________________________________________________________________\n",
            "spatial_dropout3d_4 (Spatial (None, 22, 13, 13, 64)    0         \n",
            "_________________________________________________________________\n",
            "max_pooling3d_4 (MaxPooling3 (None, 22, 6, 6, 64)      0         \n",
            "_________________________________________________________________\n",
            "zero_padding3d_2 (ZeroPaddin (None, 24, 10, 10, 64)    0         \n",
            "_________________________________________________________________\n",
            "conv3d_6 (Conv3D)            (None, 22, 3, 3, 96)      460896    \n",
            "_________________________________________________________________\n",
            "spatial_dropout3d_5 (Spatial (None, 22, 3, 3, 96)      0         \n",
            "_________________________________________________________________\n",
            "max_pooling3d_5 (MaxPooling3 (None, 22, 1, 1, 96)      0         \n",
            "_________________________________________________________________\n",
            "time_distributed (TimeDistri (None, 22, 96)            0         \n",
            "_________________________________________________________________\n",
            "bidirectional_2 (Bidirection (None, 22, 64)            33024     \n",
            "_________________________________________________________________\n",
            "bidirectional_3 (Bidirection (None, 22, 64)            24832     \n",
            "_________________________________________________________________\n",
            "dropout_3 (Dropout)          (None, 22, 64)            0         \n",
            "_________________________________________________________________\n",
            "flatten_2 (Flatten)          (None, 1408)              0         \n",
            "_________________________________________________________________\n",
            "dense_3 (Dense)              (None, 1024)              1442816   \n",
            "_________________________________________________________________\n",
            "dropout_4 (Dropout)          (None, 1024)              0         \n",
            "_________________________________________________________________\n",
            "dense_4 (Dense)              (None, 512)               524800    \n",
            "_________________________________________________________________\n",
            "dropout_5 (Dropout)          (None, 512)               0         \n",
            "_________________________________________________________________\n",
            "dense_5 (Dense)              (None, 10)                5130      \n",
            "=================================================================\n",
            "Total params: 2,647,594\n",
            "Trainable params: 2,647,594\n",
            "Non-trainable params: 0\n",
            "_________________________________________________________________\n"
          ],
          "name": "stdout"
        }
      ]
    },
    {
      "cell_type": "code",
      "metadata": {
        "id": "nn36B2lxFcVS",
        "colab_type": "code",
        "colab": {}
      },
      "source": [
        "model1.compile(loss = 'categorical_crossentropy', optimizer = 'Adagrad', metrics = ['accuracy'])"
      ],
      "execution_count": null,
      "outputs": []
    },
    {
      "cell_type": "code",
      "metadata": {
        "id": "ReSZusLrFSxw",
        "colab_type": "code",
        "colab": {
          "base_uri": "https://localhost:8080/",
          "height": 1000
        },
        "outputId": "e72f8082-dd86-4b26-d5ed-85d664f48fa3"
      },
      "source": [
        "history1 = model1.fit(X_train, Y_train, batch_size = 10, epochs = 200, \n",
        "                    validation_data = (X_val, Y_val), shuffle = True, )"
      ],
      "execution_count": null,
      "outputs": [
        {
          "output_type": "stream",
          "text": [
            "Epoch 1/200\n",
            "120/120 [==============================] - 16s 133ms/step - loss: 2.3117 - accuracy: 0.0867 - val_loss: 2.3007 - val_accuracy: 0.1000\n",
            "Epoch 2/200\n",
            "120/120 [==============================] - 14s 120ms/step - loss: 2.3006 - accuracy: 0.1058 - val_loss: 2.3001 - val_accuracy: 0.1000\n",
            "Epoch 3/200\n",
            "120/120 [==============================] - 14s 120ms/step - loss: 2.3031 - accuracy: 0.1050 - val_loss: 2.2984 - val_accuracy: 0.0750\n",
            "Epoch 4/200\n",
            "120/120 [==============================] - 14s 120ms/step - loss: 2.3016 - accuracy: 0.0975 - val_loss: 2.2973 - val_accuracy: 0.1050\n",
            "Epoch 5/200\n",
            "120/120 [==============================] - 15s 121ms/step - loss: 2.3028 - accuracy: 0.0942 - val_loss: 2.2980 - val_accuracy: 0.1400\n",
            "Epoch 6/200\n",
            "120/120 [==============================] - 14s 120ms/step - loss: 2.2999 - accuracy: 0.1075 - val_loss: 2.2967 - val_accuracy: 0.1100\n",
            "Epoch 7/200\n",
            "120/120 [==============================] - 14s 121ms/step - loss: 2.2990 - accuracy: 0.1100 - val_loss: 2.2955 - val_accuracy: 0.1100\n",
            "Epoch 8/200\n",
            "120/120 [==============================] - 15s 121ms/step - loss: 2.2971 - accuracy: 0.1158 - val_loss: 2.2928 - val_accuracy: 0.1050\n",
            "Epoch 9/200\n",
            "120/120 [==============================] - 14s 121ms/step - loss: 2.2980 - accuracy: 0.1125 - val_loss: 2.2895 - val_accuracy: 0.1150\n",
            "Epoch 10/200\n",
            "120/120 [==============================] - 14s 120ms/step - loss: 2.3020 - accuracy: 0.1117 - val_loss: 2.2909 - val_accuracy: 0.2000\n",
            "Epoch 11/200\n",
            "120/120 [==============================] - 14s 121ms/step - loss: 2.2974 - accuracy: 0.1175 - val_loss: 2.2884 - val_accuracy: 0.1450\n",
            "Epoch 12/200\n",
            "120/120 [==============================] - 15s 121ms/step - loss: 2.2980 - accuracy: 0.1017 - val_loss: 2.2881 - val_accuracy: 0.1700\n",
            "Epoch 13/200\n",
            "120/120 [==============================] - 15s 121ms/step - loss: 2.2970 - accuracy: 0.1317 - val_loss: 2.2870 - val_accuracy: 0.2100\n",
            "Epoch 14/200\n",
            "120/120 [==============================] - 14s 121ms/step - loss: 2.2948 - accuracy: 0.1108 - val_loss: 2.2819 - val_accuracy: 0.1350\n",
            "Epoch 15/200\n",
            "120/120 [==============================] - 14s 120ms/step - loss: 2.2945 - accuracy: 0.1183 - val_loss: 2.2823 - val_accuracy: 0.1850\n",
            "Epoch 16/200\n",
            "120/120 [==============================] - 14s 120ms/step - loss: 2.2900 - accuracy: 0.1450 - val_loss: 2.2760 - val_accuracy: 0.1250\n",
            "Epoch 17/200\n",
            "120/120 [==============================] - 14s 120ms/step - loss: 2.2951 - accuracy: 0.1325 - val_loss: 2.2755 - val_accuracy: 0.2100\n",
            "Epoch 18/200\n",
            "120/120 [==============================] - 14s 121ms/step - loss: 2.2902 - accuracy: 0.1317 - val_loss: 2.2726 - val_accuracy: 0.2200\n",
            "Epoch 19/200\n",
            "120/120 [==============================] - 15s 121ms/step - loss: 2.2874 - accuracy: 0.1267 - val_loss: 2.2650 - val_accuracy: 0.1850\n",
            "Epoch 20/200\n",
            "120/120 [==============================] - 14s 120ms/step - loss: 2.2865 - accuracy: 0.1417 - val_loss: 2.2629 - val_accuracy: 0.2150\n",
            "Epoch 21/200\n",
            "120/120 [==============================] - 14s 121ms/step - loss: 2.2840 - accuracy: 0.1200 - val_loss: 2.2533 - val_accuracy: 0.1800\n",
            "Epoch 22/200\n",
            "120/120 [==============================] - 14s 121ms/step - loss: 2.2845 - accuracy: 0.1383 - val_loss: 2.2554 - val_accuracy: 0.2350\n",
            "Epoch 23/200\n",
            "120/120 [==============================] - 15s 121ms/step - loss: 2.2797 - accuracy: 0.1417 - val_loss: 2.2494 - val_accuracy: 0.2450\n",
            "Epoch 24/200\n",
            "120/120 [==============================] - 14s 121ms/step - loss: 2.2834 - accuracy: 0.1292 - val_loss: 2.2492 - val_accuracy: 0.2200\n",
            "Epoch 25/200\n",
            "120/120 [==============================] - 14s 120ms/step - loss: 2.2829 - accuracy: 0.1367 - val_loss: 2.2458 - val_accuracy: 0.2400\n",
            "Epoch 26/200\n",
            "120/120 [==============================] - 14s 121ms/step - loss: 2.2784 - accuracy: 0.1433 - val_loss: 2.2424 - val_accuracy: 0.2400\n",
            "Epoch 27/200\n",
            "120/120 [==============================] - 14s 120ms/step - loss: 2.2770 - accuracy: 0.1358 - val_loss: 2.2393 - val_accuracy: 0.2250\n",
            "Epoch 28/200\n",
            "120/120 [==============================] - 14s 121ms/step - loss: 2.2784 - accuracy: 0.1217 - val_loss: 2.2410 - val_accuracy: 0.2650\n",
            "Epoch 29/200\n",
            "120/120 [==============================] - 14s 120ms/step - loss: 2.2780 - accuracy: 0.1392 - val_loss: 2.2370 - val_accuracy: 0.2500\n",
            "Epoch 30/200\n",
            "120/120 [==============================] - 15s 121ms/step - loss: 2.2738 - accuracy: 0.1367 - val_loss: 2.2304 - val_accuracy: 0.2450\n",
            "Epoch 31/200\n",
            "120/120 [==============================] - 14s 120ms/step - loss: 2.2659 - accuracy: 0.1442 - val_loss: 2.2156 - val_accuracy: 0.2200\n",
            "Epoch 32/200\n",
            "120/120 [==============================] - 14s 121ms/step - loss: 2.2626 - accuracy: 0.1550 - val_loss: 2.2126 - val_accuracy: 0.2100\n",
            "Epoch 33/200\n",
            "120/120 [==============================] - 15s 121ms/step - loss: 2.2616 - accuracy: 0.1458 - val_loss: 2.2119 - val_accuracy: 0.2400\n",
            "Epoch 34/200\n",
            "120/120 [==============================] - 15s 121ms/step - loss: 2.2533 - accuracy: 0.1583 - val_loss: 2.1950 - val_accuracy: 0.2300\n",
            "Epoch 35/200\n",
            "120/120 [==============================] - 14s 121ms/step - loss: 2.2520 - accuracy: 0.1617 - val_loss: 2.2018 - val_accuracy: 0.2050\n",
            "Epoch 36/200\n",
            "120/120 [==============================] - 14s 120ms/step - loss: 2.2393 - accuracy: 0.1608 - val_loss: 2.1678 - val_accuracy: 0.2250\n",
            "Epoch 37/200\n",
            "120/120 [==============================] - 14s 121ms/step - loss: 2.2377 - accuracy: 0.1608 - val_loss: 2.1626 - val_accuracy: 0.2450\n",
            "Epoch 38/200\n",
            "120/120 [==============================] - 14s 121ms/step - loss: 2.2371 - accuracy: 0.1567 - val_loss: 2.1704 - val_accuracy: 0.2000\n",
            "Epoch 39/200\n",
            "120/120 [==============================] - 15s 121ms/step - loss: 2.2164 - accuracy: 0.1717 - val_loss: 2.1560 - val_accuracy: 0.2250\n",
            "Epoch 40/200\n",
            "120/120 [==============================] - 14s 121ms/step - loss: 2.2015 - accuracy: 0.1933 - val_loss: 2.1105 - val_accuracy: 0.2050\n",
            "Epoch 41/200\n",
            "120/120 [==============================] - 14s 121ms/step - loss: 2.1947 - accuracy: 0.1642 - val_loss: 2.1150 - val_accuracy: 0.2050\n",
            "Epoch 42/200\n",
            "120/120 [==============================] - 14s 121ms/step - loss: 2.1863 - accuracy: 0.1708 - val_loss: 2.0970 - val_accuracy: 0.2100\n",
            "Epoch 43/200\n",
            "120/120 [==============================] - 15s 121ms/step - loss: 2.1529 - accuracy: 0.1900 - val_loss: 2.1131 - val_accuracy: 0.2100\n",
            "Epoch 44/200\n",
            "120/120 [==============================] - 14s 120ms/step - loss: 2.1423 - accuracy: 0.1858 - val_loss: 2.0866 - val_accuracy: 0.1900\n",
            "Epoch 45/200\n",
            "120/120 [==============================] - 14s 121ms/step - loss: 2.1139 - accuracy: 0.2008 - val_loss: 1.9970 - val_accuracy: 0.2250\n",
            "Epoch 46/200\n",
            "120/120 [==============================] - 14s 121ms/step - loss: 2.0941 - accuracy: 0.2125 - val_loss: 1.9376 - val_accuracy: 0.2900\n",
            "Epoch 47/200\n",
            "120/120 [==============================] - 14s 120ms/step - loss: 2.0969 - accuracy: 0.2000 - val_loss: 1.9226 - val_accuracy: 0.2950\n",
            "Epoch 48/200\n",
            "120/120 [==============================] - 14s 121ms/step - loss: 2.0503 - accuracy: 0.2042 - val_loss: 1.8987 - val_accuracy: 0.3300\n",
            "Epoch 49/200\n",
            "120/120 [==============================] - 15s 121ms/step - loss: 2.0542 - accuracy: 0.2217 - val_loss: 1.9336 - val_accuracy: 0.2450\n",
            "Epoch 50/200\n",
            "120/120 [==============================] - 15s 121ms/step - loss: 2.0300 - accuracy: 0.2175 - val_loss: 1.9091 - val_accuracy: 0.3100\n",
            "Epoch 51/200\n",
            "120/120 [==============================] - 15s 121ms/step - loss: 2.0098 - accuracy: 0.2217 - val_loss: 1.8714 - val_accuracy: 0.2750\n",
            "Epoch 52/200\n",
            "120/120 [==============================] - 14s 120ms/step - loss: 2.0031 - accuracy: 0.2458 - val_loss: 1.8616 - val_accuracy: 0.2700\n",
            "Epoch 53/200\n",
            "120/120 [==============================] - 14s 121ms/step - loss: 1.9735 - accuracy: 0.2433 - val_loss: 1.9199 - val_accuracy: 0.2450\n",
            "Epoch 54/200\n",
            "120/120 [==============================] - 15s 121ms/step - loss: 1.9653 - accuracy: 0.2275 - val_loss: 1.9033 - val_accuracy: 0.2700\n",
            "Epoch 55/200\n",
            "120/120 [==============================] - 15s 121ms/step - loss: 1.9691 - accuracy: 0.2400 - val_loss: 1.9122 - val_accuracy: 0.2050\n",
            "Epoch 56/200\n",
            "120/120 [==============================] - 14s 120ms/step - loss: 1.9379 - accuracy: 0.2608 - val_loss: 1.8837 - val_accuracy: 0.2600\n",
            "Epoch 57/200\n",
            "120/120 [==============================] - 14s 120ms/step - loss: 1.9375 - accuracy: 0.2475 - val_loss: 1.8360 - val_accuracy: 0.2750\n",
            "Epoch 58/200\n",
            "120/120 [==============================] - 14s 120ms/step - loss: 1.9440 - accuracy: 0.2483 - val_loss: 1.8087 - val_accuracy: 0.3150\n",
            "Epoch 59/200\n",
            "120/120 [==============================] - 15s 121ms/step - loss: 1.9041 - accuracy: 0.2617 - val_loss: 1.8710 - val_accuracy: 0.2400\n",
            "Epoch 60/200\n",
            "120/120 [==============================] - 15s 121ms/step - loss: 1.9084 - accuracy: 0.2625 - val_loss: 1.8928 - val_accuracy: 0.2600\n",
            "Epoch 61/200\n",
            "120/120 [==============================] - 14s 121ms/step - loss: 1.9007 - accuracy: 0.2608 - val_loss: 1.9197 - val_accuracy: 0.2350\n",
            "Epoch 62/200\n",
            "120/120 [==============================] - 14s 121ms/step - loss: 1.8900 - accuracy: 0.2675 - val_loss: 1.8419 - val_accuracy: 0.2650\n",
            "Epoch 63/200\n",
            "120/120 [==============================] - 14s 120ms/step - loss: 1.8879 - accuracy: 0.2692 - val_loss: 1.8484 - val_accuracy: 0.2600\n",
            "Epoch 64/200\n",
            "120/120 [==============================] - 14s 120ms/step - loss: 1.8629 - accuracy: 0.2642 - val_loss: 1.9921 - val_accuracy: 0.2300\n",
            "Epoch 65/200\n",
            "120/120 [==============================] - 14s 120ms/step - loss: 1.8650 - accuracy: 0.2758 - val_loss: 1.9966 - val_accuracy: 0.2250\n",
            "Epoch 66/200\n",
            "120/120 [==============================] - 14s 121ms/step - loss: 1.8523 - accuracy: 0.2808 - val_loss: 1.8962 - val_accuracy: 0.2400\n",
            "Epoch 67/200\n",
            "120/120 [==============================] - 14s 121ms/step - loss: 1.8158 - accuracy: 0.2892 - val_loss: 1.8162 - val_accuracy: 0.2450\n",
            "Epoch 68/200\n",
            "120/120 [==============================] - 14s 121ms/step - loss: 1.8097 - accuracy: 0.2717 - val_loss: 1.9264 - val_accuracy: 0.2350\n",
            "Epoch 69/200\n",
            "120/120 [==============================] - 14s 120ms/step - loss: 1.8245 - accuracy: 0.2725 - val_loss: 1.8075 - val_accuracy: 0.2650\n",
            "Epoch 70/200\n",
            "120/120 [==============================] - 14s 121ms/step - loss: 1.8035 - accuracy: 0.3100 - val_loss: 1.8250 - val_accuracy: 0.2900\n",
            "Epoch 71/200\n",
            "120/120 [==============================] - 15s 121ms/step - loss: 1.7890 - accuracy: 0.2925 - val_loss: 1.8204 - val_accuracy: 0.2450\n",
            "Epoch 72/200\n",
            "120/120 [==============================] - 14s 121ms/step - loss: 1.7813 - accuracy: 0.2925 - val_loss: 1.7785 - val_accuracy: 0.2650\n",
            "Epoch 73/200\n",
            "120/120 [==============================] - 14s 121ms/step - loss: 1.7569 - accuracy: 0.3108 - val_loss: 1.7972 - val_accuracy: 0.2800\n",
            "Epoch 74/200\n",
            "120/120 [==============================] - 14s 121ms/step - loss: 1.7593 - accuracy: 0.3050 - val_loss: 1.8200 - val_accuracy: 0.3000\n",
            "Epoch 75/200\n",
            "120/120 [==============================] - 14s 121ms/step - loss: 1.7519 - accuracy: 0.3117 - val_loss: 1.9389 - val_accuracy: 0.2650\n",
            "Epoch 76/200\n",
            "120/120 [==============================] - 14s 121ms/step - loss: 1.7663 - accuracy: 0.2942 - val_loss: 1.7839 - val_accuracy: 0.2850\n",
            "Epoch 77/200\n",
            "120/120 [==============================] - 14s 120ms/step - loss: 1.7478 - accuracy: 0.2975 - val_loss: 1.7745 - val_accuracy: 0.3050\n",
            "Epoch 78/200\n",
            "120/120 [==============================] - 14s 120ms/step - loss: 1.7204 - accuracy: 0.3142 - val_loss: 1.7923 - val_accuracy: 0.3300\n",
            "Epoch 79/200\n",
            "120/120 [==============================] - 14s 121ms/step - loss: 1.7431 - accuracy: 0.3133 - val_loss: 1.7801 - val_accuracy: 0.3150\n",
            "Epoch 80/200\n",
            "120/120 [==============================] - 15s 121ms/step - loss: 1.7219 - accuracy: 0.3008 - val_loss: 1.8029 - val_accuracy: 0.3200\n",
            "Epoch 81/200\n",
            "120/120 [==============================] - 15s 121ms/step - loss: 1.6775 - accuracy: 0.3200 - val_loss: 1.7311 - val_accuracy: 0.3400\n",
            "Epoch 82/200\n",
            "120/120 [==============================] - 14s 121ms/step - loss: 1.6909 - accuracy: 0.3242 - val_loss: 1.7337 - val_accuracy: 0.3450\n",
            "Epoch 83/200\n",
            "120/120 [==============================] - 14s 120ms/step - loss: 1.6844 - accuracy: 0.3375 - val_loss: 1.7390 - val_accuracy: 0.3400\n",
            "Epoch 84/200\n",
            "120/120 [==============================] - 14s 120ms/step - loss: 1.6614 - accuracy: 0.3300 - val_loss: 1.7853 - val_accuracy: 0.3350\n",
            "Epoch 85/200\n",
            "120/120 [==============================] - 14s 121ms/step - loss: 1.6749 - accuracy: 0.3100 - val_loss: 1.7056 - val_accuracy: 0.3550\n",
            "Epoch 86/200\n",
            "120/120 [==============================] - 14s 120ms/step - loss: 1.6805 - accuracy: 0.3283 - val_loss: 1.6863 - val_accuracy: 0.3550\n",
            "Epoch 87/200\n",
            "120/120 [==============================] - 14s 120ms/step - loss: 1.6708 - accuracy: 0.3142 - val_loss: 1.7699 - val_accuracy: 0.3300\n",
            "Epoch 88/200\n",
            "120/120 [==============================] - 14s 120ms/step - loss: 1.6302 - accuracy: 0.3325 - val_loss: 1.7820 - val_accuracy: 0.3200\n",
            "Epoch 89/200\n",
            "120/120 [==============================] - 14s 121ms/step - loss: 1.6284 - accuracy: 0.3300 - val_loss: 1.7903 - val_accuracy: 0.3150\n",
            "Epoch 90/200\n",
            "120/120 [==============================] - 14s 120ms/step - loss: 1.6286 - accuracy: 0.3508 - val_loss: 1.7870 - val_accuracy: 0.3250\n",
            "Epoch 91/200\n",
            "120/120 [==============================] - 14s 121ms/step - loss: 1.6205 - accuracy: 0.3300 - val_loss: 1.7449 - val_accuracy: 0.3350\n",
            "Epoch 92/200\n",
            "120/120 [==============================] - 14s 120ms/step - loss: 1.6283 - accuracy: 0.3483 - val_loss: 1.7522 - val_accuracy: 0.3350\n",
            "Epoch 93/200\n",
            "120/120 [==============================] - 14s 121ms/step - loss: 1.6483 - accuracy: 0.3158 - val_loss: 1.6970 - val_accuracy: 0.3550\n",
            "Epoch 94/200\n",
            "120/120 [==============================] - 14s 121ms/step - loss: 1.6151 - accuracy: 0.3350 - val_loss: 1.7395 - val_accuracy: 0.3550\n",
            "Epoch 95/200\n",
            "120/120 [==============================] - 15s 121ms/step - loss: 1.5823 - accuracy: 0.3533 - val_loss: 1.7021 - val_accuracy: 0.3750\n",
            "Epoch 96/200\n",
            "120/120 [==============================] - 14s 120ms/step - loss: 1.5996 - accuracy: 0.3533 - val_loss: 1.7127 - val_accuracy: 0.3800\n",
            "Epoch 97/200\n",
            "120/120 [==============================] - 15s 121ms/step - loss: 1.5849 - accuracy: 0.3558 - val_loss: 1.7966 - val_accuracy: 0.3250\n",
            "Epoch 98/200\n",
            "120/120 [==============================] - 14s 121ms/step - loss: 1.6040 - accuracy: 0.3542 - val_loss: 1.8135 - val_accuracy: 0.3350\n",
            "Epoch 99/200\n",
            "120/120 [==============================] - 14s 120ms/step - loss: 1.6066 - accuracy: 0.3525 - val_loss: 1.7339 - val_accuracy: 0.3500\n",
            "Epoch 100/200\n",
            "120/120 [==============================] - 14s 120ms/step - loss: 1.5774 - accuracy: 0.3775 - val_loss: 1.8023 - val_accuracy: 0.3400\n",
            "Epoch 101/200\n",
            "120/120 [==============================] - 14s 120ms/step - loss: 1.5695 - accuracy: 0.3575 - val_loss: 1.6967 - val_accuracy: 0.3650\n",
            "Epoch 102/200\n",
            "120/120 [==============================] - 14s 120ms/step - loss: 1.5807 - accuracy: 0.3558 - val_loss: 1.7891 - val_accuracy: 0.3400\n",
            "Epoch 103/200\n",
            "120/120 [==============================] - 14s 120ms/step - loss: 1.5574 - accuracy: 0.3808 - val_loss: 1.7934 - val_accuracy: 0.3300\n",
            "Epoch 104/200\n",
            "120/120 [==============================] - 14s 120ms/step - loss: 1.5674 - accuracy: 0.3658 - val_loss: 1.8327 - val_accuracy: 0.3400\n",
            "Epoch 105/200\n",
            "120/120 [==============================] - 14s 120ms/step - loss: 1.5699 - accuracy: 0.3617 - val_loss: 1.7911 - val_accuracy: 0.3400\n",
            "Epoch 106/200\n",
            "120/120 [==============================] - 14s 120ms/step - loss: 1.5513 - accuracy: 0.3875 - val_loss: 1.7296 - val_accuracy: 0.3600\n",
            "Epoch 107/200\n",
            "120/120 [==============================] - 14s 121ms/step - loss: 1.5572 - accuracy: 0.3575 - val_loss: 1.7524 - val_accuracy: 0.3500\n",
            "Epoch 108/200\n",
            "120/120 [==============================] - 14s 120ms/step - loss: 1.5423 - accuracy: 0.3658 - val_loss: 1.7711 - val_accuracy: 0.3450\n",
            "Epoch 109/200\n",
            "120/120 [==============================] - 14s 121ms/step - loss: 1.5425 - accuracy: 0.3750 - val_loss: 1.7703 - val_accuracy: 0.3500\n",
            "Epoch 110/200\n",
            "120/120 [==============================] - 14s 120ms/step - loss: 1.5511 - accuracy: 0.3742 - val_loss: 1.7995 - val_accuracy: 0.3400\n",
            "Epoch 111/200\n",
            "120/120 [==============================] - 14s 120ms/step - loss: 1.5215 - accuracy: 0.3833 - val_loss: 1.7324 - val_accuracy: 0.3400\n",
            "Epoch 112/200\n",
            "120/120 [==============================] - 15s 122ms/step - loss: 1.5711 - accuracy: 0.3550 - val_loss: 1.8402 - val_accuracy: 0.3200\n",
            "Epoch 113/200\n",
            "120/120 [==============================] - 14s 120ms/step - loss: 1.5239 - accuracy: 0.3633 - val_loss: 1.7823 - val_accuracy: 0.3300\n",
            "Epoch 114/200\n",
            "120/120 [==============================] - 14s 121ms/step - loss: 1.5195 - accuracy: 0.3908 - val_loss: 1.7662 - val_accuracy: 0.3350\n",
            "Epoch 115/200\n",
            "120/120 [==============================] - 14s 120ms/step - loss: 1.5349 - accuracy: 0.3908 - val_loss: 1.7390 - val_accuracy: 0.3400\n",
            "Epoch 116/200\n",
            "120/120 [==============================] - 14s 121ms/step - loss: 1.5222 - accuracy: 0.3983 - val_loss: 1.6907 - val_accuracy: 0.3500\n",
            "Epoch 117/200\n",
            "120/120 [==============================] - 14s 120ms/step - loss: 1.5301 - accuracy: 0.3767 - val_loss: 1.7121 - val_accuracy: 0.3500\n",
            "Epoch 118/200\n",
            "120/120 [==============================] - 15s 121ms/step - loss: 1.5158 - accuracy: 0.3792 - val_loss: 1.7080 - val_accuracy: 0.3500\n",
            "Epoch 119/200\n",
            "120/120 [==============================] - 14s 121ms/step - loss: 1.5163 - accuracy: 0.3717 - val_loss: 1.6778 - val_accuracy: 0.3550\n",
            "Epoch 120/200\n",
            "120/120 [==============================] - 14s 120ms/step - loss: 1.4929 - accuracy: 0.4042 - val_loss: 1.7804 - val_accuracy: 0.3450\n",
            "Epoch 121/200\n",
            "120/120 [==============================] - 14s 120ms/step - loss: 1.5035 - accuracy: 0.3775 - val_loss: 1.7360 - val_accuracy: 0.3550\n",
            "Epoch 122/200\n",
            "120/120 [==============================] - 15s 122ms/step - loss: 1.4857 - accuracy: 0.4033 - val_loss: 1.7234 - val_accuracy: 0.3500\n",
            "Epoch 123/200\n",
            "120/120 [==============================] - 14s 121ms/step - loss: 1.4845 - accuracy: 0.4042 - val_loss: 1.7822 - val_accuracy: 0.3450\n",
            "Epoch 124/200\n",
            "120/120 [==============================] - 14s 121ms/step - loss: 1.4679 - accuracy: 0.4242 - val_loss: 1.6503 - val_accuracy: 0.3900\n",
            "Epoch 125/200\n",
            "120/120 [==============================] - 14s 120ms/step - loss: 1.4695 - accuracy: 0.4017 - val_loss: 1.7348 - val_accuracy: 0.3500\n",
            "Epoch 126/200\n",
            "120/120 [==============================] - 14s 120ms/step - loss: 1.4786 - accuracy: 0.3875 - val_loss: 1.7774 - val_accuracy: 0.3400\n",
            "Epoch 127/200\n",
            "120/120 [==============================] - 15s 121ms/step - loss: 1.4754 - accuracy: 0.4108 - val_loss: 1.8094 - val_accuracy: 0.3400\n",
            "Epoch 128/200\n",
            "120/120 [==============================] - 14s 121ms/step - loss: 1.4598 - accuracy: 0.4133 - val_loss: 1.7349 - val_accuracy: 0.3550\n",
            "Epoch 129/200\n",
            "120/120 [==============================] - 14s 120ms/step - loss: 1.4654 - accuracy: 0.3950 - val_loss: 1.6805 - val_accuracy: 0.3550\n",
            "Epoch 130/200\n",
            "120/120 [==============================] - 15s 121ms/step - loss: 1.4530 - accuracy: 0.4117 - val_loss: 1.7177 - val_accuracy: 0.3600\n",
            "Epoch 131/200\n",
            "120/120 [==============================] - 14s 120ms/step - loss: 1.4742 - accuracy: 0.3925 - val_loss: 1.7864 - val_accuracy: 0.3500\n",
            "Epoch 132/200\n",
            "120/120 [==============================] - 15s 122ms/step - loss: 1.4851 - accuracy: 0.3975 - val_loss: 1.6838 - val_accuracy: 0.3650\n",
            "Epoch 133/200\n",
            "120/120 [==============================] - 14s 120ms/step - loss: 1.4428 - accuracy: 0.4217 - val_loss: 1.7325 - val_accuracy: 0.3700\n",
            "Epoch 134/200\n",
            "120/120 [==============================] - 14s 120ms/step - loss: 1.4332 - accuracy: 0.4092 - val_loss: 1.7216 - val_accuracy: 0.3650\n",
            "Epoch 135/200\n",
            "120/120 [==============================] - 14s 120ms/step - loss: 1.4517 - accuracy: 0.4108 - val_loss: 1.7422 - val_accuracy: 0.3650\n",
            "Epoch 136/200\n",
            "120/120 [==============================] - 14s 120ms/step - loss: 1.4398 - accuracy: 0.4083 - val_loss: 1.7506 - val_accuracy: 0.3600\n",
            "Epoch 137/200\n",
            "120/120 [==============================] - 14s 120ms/step - loss: 1.4342 - accuracy: 0.4200 - val_loss: 1.7204 - val_accuracy: 0.3600\n",
            "Epoch 138/200\n",
            "120/120 [==============================] - 14s 121ms/step - loss: 1.4048 - accuracy: 0.4308 - val_loss: 1.6679 - val_accuracy: 0.3750\n",
            "Epoch 139/200\n",
            "120/120 [==============================] - 15s 121ms/step - loss: 1.4465 - accuracy: 0.4175 - val_loss: 1.7616 - val_accuracy: 0.3550\n",
            "Epoch 140/200\n",
            "120/120 [==============================] - 14s 121ms/step - loss: 1.4493 - accuracy: 0.4175 - val_loss: 1.7512 - val_accuracy: 0.3700\n",
            "Epoch 141/200\n",
            "120/120 [==============================] - 14s 121ms/step - loss: 1.4119 - accuracy: 0.4450 - val_loss: 1.8057 - val_accuracy: 0.3350\n",
            "Epoch 142/200\n",
            "120/120 [==============================] - 15s 121ms/step - loss: 1.3980 - accuracy: 0.4450 - val_loss: 1.8121 - val_accuracy: 0.3300\n",
            "Epoch 143/200\n",
            "120/120 [==============================] - 14s 121ms/step - loss: 1.4096 - accuracy: 0.4175 - val_loss: 1.7300 - val_accuracy: 0.3650\n",
            "Epoch 144/200\n",
            "120/120 [==============================] - 14s 120ms/step - loss: 1.3987 - accuracy: 0.4425 - val_loss: 1.7056 - val_accuracy: 0.3650\n",
            "Epoch 145/200\n",
            "120/120 [==============================] - 14s 121ms/step - loss: 1.3729 - accuracy: 0.4358 - val_loss: 1.7087 - val_accuracy: 0.3800\n",
            "Epoch 146/200\n",
            "120/120 [==============================] - 14s 121ms/step - loss: 1.4135 - accuracy: 0.4200 - val_loss: 1.7326 - val_accuracy: 0.3700\n",
            "Epoch 147/200\n",
            "120/120 [==============================] - 14s 120ms/step - loss: 1.4095 - accuracy: 0.4233 - val_loss: 1.7408 - val_accuracy: 0.3750\n",
            "Epoch 148/200\n",
            "120/120 [==============================] - 15s 121ms/step - loss: 1.3881 - accuracy: 0.4508 - val_loss: 1.7139 - val_accuracy: 0.3750\n",
            "Epoch 149/200\n",
            "120/120 [==============================] - 14s 120ms/step - loss: 1.4002 - accuracy: 0.4283 - val_loss: 1.7612 - val_accuracy: 0.3650\n",
            "Epoch 150/200\n",
            "120/120 [==============================] - 15s 122ms/step - loss: 1.3872 - accuracy: 0.4433 - val_loss: 1.6990 - val_accuracy: 0.3800\n",
            "Epoch 151/200\n",
            "120/120 [==============================] - 15s 122ms/step - loss: 1.3947 - accuracy: 0.4417 - val_loss: 1.6944 - val_accuracy: 0.3800\n",
            "Epoch 152/200\n",
            "120/120 [==============================] - 14s 120ms/step - loss: 1.3582 - accuracy: 0.4875 - val_loss: 1.7485 - val_accuracy: 0.3650\n",
            "Epoch 153/200\n",
            "120/120 [==============================] - 14s 120ms/step - loss: 1.4000 - accuracy: 0.4158 - val_loss: 1.7703 - val_accuracy: 0.3700\n",
            "Epoch 154/200\n",
            "120/120 [==============================] - 14s 120ms/step - loss: 1.3880 - accuracy: 0.4175 - val_loss: 1.7079 - val_accuracy: 0.3800\n",
            "Epoch 155/200\n",
            "120/120 [==============================] - 14s 120ms/step - loss: 1.3762 - accuracy: 0.4450 - val_loss: 1.7329 - val_accuracy: 0.3750\n",
            "Epoch 156/200\n",
            "120/120 [==============================] - 14s 119ms/step - loss: 1.3701 - accuracy: 0.4375 - val_loss: 1.7662 - val_accuracy: 0.3750\n",
            "Epoch 157/200\n",
            "120/120 [==============================] - 14s 120ms/step - loss: 1.3390 - accuracy: 0.4792 - val_loss: 1.7293 - val_accuracy: 0.3850\n",
            "Epoch 158/200\n",
            "120/120 [==============================] - 14s 120ms/step - loss: 1.3494 - accuracy: 0.4483 - val_loss: 1.7689 - val_accuracy: 0.3600\n",
            "Epoch 159/200\n",
            "120/120 [==============================] - 14s 119ms/step - loss: 1.3630 - accuracy: 0.4592 - val_loss: 1.7908 - val_accuracy: 0.3650\n",
            "Epoch 160/200\n",
            "120/120 [==============================] - 14s 120ms/step - loss: 1.3435 - accuracy: 0.4600 - val_loss: 1.7354 - val_accuracy: 0.3850\n",
            "Epoch 161/200\n",
            "120/120 [==============================] - 15s 123ms/step - loss: 1.3374 - accuracy: 0.4683 - val_loss: 1.7084 - val_accuracy: 0.3700\n",
            "Epoch 162/200\n",
            "120/120 [==============================] - 14s 120ms/step - loss: 1.3553 - accuracy: 0.4475 - val_loss: 1.7362 - val_accuracy: 0.3800\n",
            "Epoch 163/200\n",
            "120/120 [==============================] - 14s 120ms/step - loss: 1.3226 - accuracy: 0.4683 - val_loss: 1.8309 - val_accuracy: 0.3750\n",
            "Epoch 164/200\n",
            "120/120 [==============================] - 14s 119ms/step - loss: 1.3461 - accuracy: 0.4692 - val_loss: 1.7470 - val_accuracy: 0.3700\n",
            "Epoch 165/200\n",
            "120/120 [==============================] - 14s 120ms/step - loss: 1.3366 - accuracy: 0.4358 - val_loss: 1.7151 - val_accuracy: 0.3850\n",
            "Epoch 166/200\n",
            "120/120 [==============================] - 14s 120ms/step - loss: 1.3413 - accuracy: 0.4708 - val_loss: 1.7871 - val_accuracy: 0.3750\n",
            "Epoch 167/200\n",
            "120/120 [==============================] - 14s 120ms/step - loss: 1.3375 - accuracy: 0.4608 - val_loss: 1.7603 - val_accuracy: 0.3800\n",
            "Epoch 168/200\n",
            "120/120 [==============================] - 14s 120ms/step - loss: 1.3456 - accuracy: 0.4517 - val_loss: 1.7635 - val_accuracy: 0.3850\n",
            "Epoch 169/200\n",
            "120/120 [==============================] - 14s 119ms/step - loss: 1.2924 - accuracy: 0.4758 - val_loss: 1.7649 - val_accuracy: 0.3850\n",
            "Epoch 170/200\n",
            "120/120 [==============================] - 14s 120ms/step - loss: 1.2851 - accuracy: 0.4833 - val_loss: 1.6977 - val_accuracy: 0.3950\n",
            "Epoch 171/200\n",
            "120/120 [==============================] - 14s 121ms/step - loss: 1.3372 - accuracy: 0.4725 - val_loss: 1.8049 - val_accuracy: 0.3700\n",
            "Epoch 172/200\n",
            "120/120 [==============================] - 14s 119ms/step - loss: 1.3269 - accuracy: 0.4708 - val_loss: 1.7071 - val_accuracy: 0.3850\n",
            "Epoch 173/200\n",
            "120/120 [==============================] - 14s 119ms/step - loss: 1.3175 - accuracy: 0.4825 - val_loss: 1.7270 - val_accuracy: 0.3900\n",
            "Epoch 174/200\n",
            "120/120 [==============================] - 14s 119ms/step - loss: 1.3263 - accuracy: 0.4708 - val_loss: 1.7544 - val_accuracy: 0.3900\n",
            "Epoch 175/200\n",
            "120/120 [==============================] - 14s 120ms/step - loss: 1.2958 - accuracy: 0.4700 - val_loss: 1.7990 - val_accuracy: 0.3900\n",
            "Epoch 176/200\n",
            "120/120 [==============================] - 14s 120ms/step - loss: 1.3216 - accuracy: 0.4750 - val_loss: 1.7514 - val_accuracy: 0.3850\n",
            "Epoch 177/200\n",
            "120/120 [==============================] - 14s 119ms/step - loss: 1.2777 - accuracy: 0.4908 - val_loss: 1.7627 - val_accuracy: 0.3750\n",
            "Epoch 178/200\n",
            "120/120 [==============================] - 14s 120ms/step - loss: 1.2767 - accuracy: 0.5033 - val_loss: 1.7603 - val_accuracy: 0.3850\n",
            "Epoch 179/200\n",
            "120/120 [==============================] - 14s 119ms/step - loss: 1.2940 - accuracy: 0.5017 - val_loss: 1.8035 - val_accuracy: 0.3850\n",
            "Epoch 180/200\n",
            "120/120 [==============================] - 14s 120ms/step - loss: 1.2870 - accuracy: 0.4758 - val_loss: 1.7832 - val_accuracy: 0.3850\n",
            "Epoch 181/200\n",
            "120/120 [==============================] - 15s 125ms/step - loss: 1.2821 - accuracy: 0.4883 - val_loss: 1.7084 - val_accuracy: 0.3900\n",
            "Epoch 182/200\n",
            "120/120 [==============================] - 14s 121ms/step - loss: 1.2905 - accuracy: 0.4783 - val_loss: 1.7008 - val_accuracy: 0.3950\n",
            "Epoch 183/200\n",
            "120/120 [==============================] - 14s 120ms/step - loss: 1.2805 - accuracy: 0.5017 - val_loss: 1.7454 - val_accuracy: 0.3950\n",
            "Epoch 184/200\n",
            "120/120 [==============================] - 14s 120ms/step - loss: 1.2778 - accuracy: 0.4967 - val_loss: 1.7362 - val_accuracy: 0.4000\n",
            "Epoch 185/200\n",
            "120/120 [==============================] - 14s 120ms/step - loss: 1.2484 - accuracy: 0.5050 - val_loss: 1.7691 - val_accuracy: 0.4000\n",
            "Epoch 186/200\n",
            "120/120 [==============================] - 14s 120ms/step - loss: 1.2480 - accuracy: 0.4975 - val_loss: 1.7566 - val_accuracy: 0.4000\n",
            "Epoch 187/200\n",
            "120/120 [==============================] - 14s 120ms/step - loss: 1.2685 - accuracy: 0.4892 - val_loss: 1.7725 - val_accuracy: 0.3950\n",
            "Epoch 188/200\n",
            "120/120 [==============================] - 14s 120ms/step - loss: 1.2621 - accuracy: 0.4958 - val_loss: 1.7454 - val_accuracy: 0.3950\n",
            "Epoch 189/200\n",
            "120/120 [==============================] - 14s 119ms/step - loss: 1.2649 - accuracy: 0.5033 - val_loss: 1.8137 - val_accuracy: 0.4000\n",
            "Epoch 190/200\n",
            "120/120 [==============================] - 14s 120ms/step - loss: 1.2778 - accuracy: 0.4917 - val_loss: 1.7415 - val_accuracy: 0.4100\n",
            "Epoch 191/200\n",
            "120/120 [==============================] - 14s 120ms/step - loss: 1.2453 - accuracy: 0.5017 - val_loss: 1.7164 - val_accuracy: 0.4150\n",
            "Epoch 192/200\n",
            "120/120 [==============================] - 14s 120ms/step - loss: 1.2591 - accuracy: 0.4875 - val_loss: 1.7282 - val_accuracy: 0.4200\n",
            "Epoch 193/200\n",
            "120/120 [==============================] - 14s 120ms/step - loss: 1.2469 - accuracy: 0.5008 - val_loss: 1.7314 - val_accuracy: 0.4100\n",
            "Epoch 194/200\n",
            "120/120 [==============================] - 14s 120ms/step - loss: 1.2595 - accuracy: 0.4933 - val_loss: 1.7137 - val_accuracy: 0.4050\n",
            "Epoch 195/200\n",
            "120/120 [==============================] - 14s 120ms/step - loss: 1.2205 - accuracy: 0.5017 - val_loss: 1.7767 - val_accuracy: 0.4100\n",
            "Epoch 196/200\n",
            "120/120 [==============================] - 14s 120ms/step - loss: 1.2404 - accuracy: 0.5167 - val_loss: 1.7703 - val_accuracy: 0.4200\n",
            "Epoch 197/200\n",
            "120/120 [==============================] - 14s 120ms/step - loss: 1.2655 - accuracy: 0.5067 - val_loss: 1.8300 - val_accuracy: 0.4150\n",
            "Epoch 198/200\n",
            "120/120 [==============================] - 14s 120ms/step - loss: 1.2671 - accuracy: 0.4742 - val_loss: 1.7354 - val_accuracy: 0.4200\n",
            "Epoch 199/200\n",
            "120/120 [==============================] - 15s 121ms/step - loss: 1.2346 - accuracy: 0.5133 - val_loss: 1.7668 - val_accuracy: 0.4200\n",
            "Epoch 200/200\n",
            "120/120 [==============================] - 15s 121ms/step - loss: 1.2192 - accuracy: 0.5283 - val_loss: 1.7612 - val_accuracy: 0.4200\n"
          ],
          "name": "stdout"
        }
      ]
    },
    {
      "cell_type": "markdown",
      "metadata": {
        "id": "IDZMOwoKLU0C",
        "colab_type": "text"
      },
      "source": [
        "# **Improved Model**\n",
        "\n",
        "The Improved model has enhance the performance of the Baseline model by changing :\n",
        "1. Optimizer (Adagrad --> Adam)\n",
        "2. Unified the Strides and Padding value\n",
        "3. Reduce Kernel size\n",
        "4. Adding callback to model to end the training epoch as the desired input (0.97)\n",
        "5. Changing activation function from ReLU to PReLU\n",
        "6. Reduce the probability of SpatialDropout layer (0.5 --> 0.2)\n",
        "7. Adding neurons to the last Conv3D layer and Dense layers"
      ]
    },
    {
      "cell_type": "code",
      "metadata": {
        "id": "xGm6-KLfl6hP",
        "colab_type": "code",
        "colab": {}
      },
      "source": [
        "def LipNN ():\n",
        "\n",
        "  model = Sequential()\n",
        "  model.add(Conv3D(32, (3, 3, 3), strides = 1, input_shape = (22, 100, 100, 1), activation = PReLU(Constant(value = 0.25))))\n",
        "  model.add(SpatialDropout3D(0.2))\n",
        "  model.add(MaxPooling3D((2, 2, 2), strides = 2))\n",
        "  model.add(Conv3D(64, (3, 3, 3), strides = 1, activation = PReLU(Constant(value = 0.25))))\n",
        "  model.add(SpatialDropout3D(0.2))\n",
        "  model.add(MaxPooling3D((2, 2, 2), strides = 2))\n",
        "  model.add(Conv3D(128, (3, 3, 3), strides = 1, activation = PReLU(Constant(value = 0.25))))\n",
        "  model.add(SpatialDropout3D(0.2))\n",
        "  model.add(MaxPooling3D((2, 2, 2), strides = 2))\n",
        "\n",
        "  shape = model.get_output_shape_at(0)\n",
        "  model.add(Reshape((shape[-1],shape[1]*shape[2]*shape[3])))\n",
        "\n",
        "  model.add(Bidirectional(LSTM(32, return_sequences = True)))\n",
        "  model.add(Bidirectional(LSTM(32,  return_sequences = True)))\n",
        "  model.add(Dropout(0.5))\n",
        "  model.add(Flatten())\n",
        "\n",
        "  model.add(Dense(2048, activation = PReLU(Constant(value = 0.25))))\n",
        "  model.add(Dropout(0.5))\n",
        "  model.add(Dense(1024, activation = PReLU(Constant(value = 0.25))))\n",
        "  model.add(Dropout(0.5))\n",
        "  model.add(Dense(10, activation = 'softmax'))\n",
        "\n",
        "  return model"
      ],
      "execution_count": null,
      "outputs": []
    },
    {
      "cell_type": "code",
      "metadata": {
        "id": "x5Aq4DajmG2P",
        "colab_type": "code",
        "colab": {
          "base_uri": "https://localhost:8080/",
          "height": 790
        },
        "outputId": "b227cfe7-cbe2-4ba6-e86c-6e4aa07553c3"
      },
      "source": [
        "model = LipNN()\n",
        "model.summary()"
      ],
      "execution_count": null,
      "outputs": [
        {
          "output_type": "stream",
          "text": [
            "Model: \"sequential_2\"\n",
            "_________________________________________________________________\n",
            "Layer (type)                 Output Shape              Param #   \n",
            "=================================================================\n",
            "conv3d_1 (Conv3D)            (None, 20, 98, 98, 32)    6147456   \n",
            "_________________________________________________________________\n",
            "spatial_dropout3d (SpatialDr (None, 20, 98, 98, 32)    0         \n",
            "_________________________________________________________________\n",
            "max_pooling3d (MaxPooling3D) (None, 10, 49, 49, 32)    0         \n",
            "_________________________________________________________________\n",
            "conv3d_2 (Conv3D)            (None, 8, 47, 47, 64)     1186368   \n",
            "_________________________________________________________________\n",
            "spatial_dropout3d_1 (Spatial (None, 8, 47, 47, 64)     0         \n",
            "_________________________________________________________________\n",
            "max_pooling3d_1 (MaxPooling3 (None, 4, 23, 23, 64)     0         \n",
            "_________________________________________________________________\n",
            "conv3d_3 (Conv3D)            (None, 2, 21, 21, 128)    334208    \n",
            "_________________________________________________________________\n",
            "spatial_dropout3d_2 (Spatial (None, 2, 21, 21, 128)    0         \n",
            "_________________________________________________________________\n",
            "max_pooling3d_2 (MaxPooling3 (None, 1, 10, 10, 128)    0         \n",
            "_________________________________________________________________\n",
            "reshape (Reshape)            (None, 128, 100)          0         \n",
            "_________________________________________________________________\n",
            "bidirectional (Bidirectional (None, 128, 64)           34048     \n",
            "_________________________________________________________________\n",
            "bidirectional_1 (Bidirection (None, 128, 64)           24832     \n",
            "_________________________________________________________________\n",
            "dropout (Dropout)            (None, 128, 64)           0         \n",
            "_________________________________________________________________\n",
            "flatten (Flatten)            (None, 8192)              0         \n",
            "_________________________________________________________________\n",
            "dense (Dense)                (None, 2048)              16781312  \n",
            "_________________________________________________________________\n",
            "dropout_1 (Dropout)          (None, 2048)              0         \n",
            "_________________________________________________________________\n",
            "dense_1 (Dense)              (None, 1024)              2099200   \n",
            "_________________________________________________________________\n",
            "dropout_2 (Dropout)          (None, 1024)              0         \n",
            "_________________________________________________________________\n",
            "dense_2 (Dense)              (None, 10)                10250     \n",
            "=================================================================\n",
            "Total params: 26,617,674\n",
            "Trainable params: 26,617,674\n",
            "Non-trainable params: 0\n",
            "_________________________________________________________________\n"
          ],
          "name": "stdout"
        }
      ]
    },
    {
      "cell_type": "code",
      "metadata": {
        "id": "X-t5OF13o4j8",
        "colab_type": "code",
        "colab": {}
      },
      "source": [
        "model.compile(loss = 'categorical_crossentropy', optimizer = 'Adam', metrics = ['accuracy'])"
      ],
      "execution_count": null,
      "outputs": []
    },
    {
      "cell_type": "code",
      "metadata": {
        "id": "t63uFn3JuZEO",
        "colab_type": "code",
        "colab": {
          "base_uri": "https://localhost:8080/",
          "height": 1000
        },
        "outputId": "2a84a4ee-6561-4145-8c03-d0e44ff98b24"
      },
      "source": [
        "history = model.fit(X_train, Y_train, batch_size = 10, epochs = 200, \n",
        "                    validation_data = (X_val, Y_val), shuffle = True, \n",
        "                    callbacks = [callbacks])"
      ],
      "execution_count": null,
      "outputs": [
        {
          "output_type": "stream",
          "text": [
            "Epoch 1/200\n",
            "120/120 [==============================] - 42s 350ms/step - loss: 2.3602 - accuracy: 0.0858 - val_loss: 2.3250 - val_accuracy: 0.1100\n",
            "Epoch 2/200\n",
            "120/120 [==============================] - 40s 337ms/step - loss: 2.3272 - accuracy: 0.1283 - val_loss: 2.2974 - val_accuracy: 0.1050\n",
            "Epoch 3/200\n",
            "120/120 [==============================] - 40s 336ms/step - loss: 2.2375 - accuracy: 0.1683 - val_loss: 2.1767 - val_accuracy: 0.2550\n",
            "Epoch 4/200\n",
            "120/120 [==============================] - 40s 336ms/step - loss: 1.9520 - accuracy: 0.2650 - val_loss: 2.0359 - val_accuracy: 0.2300\n",
            "Epoch 5/200\n",
            "120/120 [==============================] - 40s 335ms/step - loss: 1.6818 - accuracy: 0.3725 - val_loss: 2.1852 - val_accuracy: 0.3000\n",
            "Epoch 6/200\n",
            "120/120 [==============================] - 40s 335ms/step - loss: 1.3784 - accuracy: 0.5225 - val_loss: 2.4508 - val_accuracy: 0.3800\n",
            "Epoch 7/200\n",
            "120/120 [==============================] - 40s 335ms/step - loss: 1.1952 - accuracy: 0.5550 - val_loss: 1.8753 - val_accuracy: 0.4250\n",
            "Epoch 8/200\n",
            "120/120 [==============================] - 40s 335ms/step - loss: 1.0554 - accuracy: 0.6208 - val_loss: 2.0432 - val_accuracy: 0.5000\n",
            "Epoch 9/200\n",
            "120/120 [==============================] - 40s 334ms/step - loss: 0.9284 - accuracy: 0.6533 - val_loss: 2.8602 - val_accuracy: 0.4500\n",
            "Epoch 10/200\n",
            "120/120 [==============================] - 40s 334ms/step - loss: 0.8469 - accuracy: 0.6917 - val_loss: 1.7994 - val_accuracy: 0.4900\n",
            "Epoch 11/200\n",
            "120/120 [==============================] - 40s 334ms/step - loss: 0.7454 - accuracy: 0.7200 - val_loss: 2.1776 - val_accuracy: 0.5000\n",
            "Epoch 12/200\n",
            "120/120 [==============================] - 40s 335ms/step - loss: 0.7813 - accuracy: 0.7150 - val_loss: 2.3479 - val_accuracy: 0.5050\n",
            "Epoch 13/200\n",
            "120/120 [==============================] - 40s 336ms/step - loss: 0.6595 - accuracy: 0.7467 - val_loss: 1.9831 - val_accuracy: 0.5150\n",
            "Epoch 14/200\n",
            "120/120 [==============================] - 40s 336ms/step - loss: 0.6243 - accuracy: 0.7625 - val_loss: 2.2922 - val_accuracy: 0.5200\n",
            "Epoch 15/200\n",
            "120/120 [==============================] - 40s 335ms/step - loss: 0.5398 - accuracy: 0.8200 - val_loss: 3.0851 - val_accuracy: 0.4350\n",
            "Epoch 16/200\n",
            "120/120 [==============================] - 40s 335ms/step - loss: 0.5814 - accuracy: 0.8042 - val_loss: 2.7468 - val_accuracy: 0.5150\n",
            "Epoch 17/200\n",
            "120/120 [==============================] - 40s 335ms/step - loss: 0.4661 - accuracy: 0.8200 - val_loss: 2.6822 - val_accuracy: 0.4750\n",
            "Epoch 18/200\n",
            "120/120 [==============================] - 40s 335ms/step - loss: 0.4972 - accuracy: 0.8317 - val_loss: 3.1920 - val_accuracy: 0.4900\n",
            "Epoch 19/200\n",
            "120/120 [==============================] - 40s 334ms/step - loss: 0.5413 - accuracy: 0.8192 - val_loss: 1.8944 - val_accuracy: 0.5850\n",
            "Epoch 20/200\n",
            "120/120 [==============================] - 40s 335ms/step - loss: 0.4547 - accuracy: 0.8317 - val_loss: 1.9358 - val_accuracy: 0.5750\n",
            "Epoch 21/200\n",
            "120/120 [==============================] - 40s 334ms/step - loss: 0.4939 - accuracy: 0.8292 - val_loss: 2.5915 - val_accuracy: 0.5000\n",
            "Epoch 22/200\n",
            "120/120 [==============================] - 40s 335ms/step - loss: 0.4224 - accuracy: 0.8475 - val_loss: 2.7546 - val_accuracy: 0.5050\n",
            "Epoch 23/200\n",
            "120/120 [==============================] - 40s 336ms/step - loss: 0.4099 - accuracy: 0.8583 - val_loss: 3.0196 - val_accuracy: 0.5050\n",
            "Epoch 24/200\n",
            "120/120 [==============================] - 40s 335ms/step - loss: 0.4215 - accuracy: 0.8508 - val_loss: 3.5298 - val_accuracy: 0.4850\n",
            "Epoch 25/200\n",
            "120/120 [==============================] - 40s 335ms/step - loss: 0.4234 - accuracy: 0.8750 - val_loss: 2.4157 - val_accuracy: 0.5850\n",
            "Epoch 26/200\n",
            "120/120 [==============================] - 40s 335ms/step - loss: 0.3539 - accuracy: 0.8792 - val_loss: 2.9939 - val_accuracy: 0.5600\n",
            "Epoch 27/200\n",
            "120/120 [==============================] - 40s 335ms/step - loss: 0.3144 - accuracy: 0.8925 - val_loss: 3.2575 - val_accuracy: 0.4800\n",
            "Epoch 28/200\n",
            "120/120 [==============================] - 40s 335ms/step - loss: 0.3992 - accuracy: 0.8675 - val_loss: 2.8262 - val_accuracy: 0.4900\n",
            "Epoch 29/200\n",
            "120/120 [==============================] - 40s 335ms/step - loss: 0.3037 - accuracy: 0.8933 - val_loss: 2.8449 - val_accuracy: 0.5500\n",
            "Epoch 30/200\n",
            "120/120 [==============================] - 40s 335ms/step - loss: 0.2932 - accuracy: 0.8925 - val_loss: 2.7603 - val_accuracy: 0.5000\n",
            "Epoch 31/200\n",
            "120/120 [==============================] - 40s 335ms/step - loss: 0.2692 - accuracy: 0.9150 - val_loss: 2.7464 - val_accuracy: 0.5750\n",
            "Epoch 32/200\n",
            "120/120 [==============================] - 40s 335ms/step - loss: 0.2957 - accuracy: 0.9033 - val_loss: 2.7849 - val_accuracy: 0.5450\n",
            "Epoch 33/200\n",
            "120/120 [==============================] - 40s 336ms/step - loss: 0.3198 - accuracy: 0.8958 - val_loss: 2.6623 - val_accuracy: 0.5650\n",
            "Epoch 34/200\n",
            "120/120 [==============================] - 40s 335ms/step - loss: 0.2577 - accuracy: 0.9075 - val_loss: 3.0929 - val_accuracy: 0.5600\n",
            "Epoch 35/200\n",
            "120/120 [==============================] - 40s 335ms/step - loss: 0.3217 - accuracy: 0.8867 - val_loss: 2.9394 - val_accuracy: 0.5650\n",
            "Epoch 36/200\n",
            "120/120 [==============================] - 40s 335ms/step - loss: 0.3492 - accuracy: 0.8933 - val_loss: 3.2292 - val_accuracy: 0.5150\n",
            "Epoch 37/200\n",
            "120/120 [==============================] - 40s 334ms/step - loss: 0.2885 - accuracy: 0.9008 - val_loss: 2.9492 - val_accuracy: 0.5250\n",
            "Epoch 38/200\n",
            "120/120 [==============================] - 40s 334ms/step - loss: 0.2166 - accuracy: 0.9325 - val_loss: 3.6978 - val_accuracy: 0.4800\n",
            "Epoch 39/200\n",
            "120/120 [==============================] - 40s 334ms/step - loss: 0.3166 - accuracy: 0.8892 - val_loss: 2.9483 - val_accuracy: 0.5350\n",
            "Epoch 40/200\n",
            "120/120 [==============================] - 40s 334ms/step - loss: 0.2442 - accuracy: 0.9067 - val_loss: 3.3964 - val_accuracy: 0.5200\n",
            "Epoch 41/200\n",
            "120/120 [==============================] - 40s 335ms/step - loss: 0.1704 - accuracy: 0.9475 - val_loss: 3.6975 - val_accuracy: 0.5150\n",
            "Epoch 42/200\n",
            "120/120 [==============================] - 40s 334ms/step - loss: 0.1751 - accuracy: 0.9475 - val_loss: 3.2957 - val_accuracy: 0.5850\n",
            "Epoch 43/200\n",
            "120/120 [==============================] - 40s 335ms/step - loss: 0.2258 - accuracy: 0.9242 - val_loss: 3.1841 - val_accuracy: 0.5700\n",
            "Epoch 44/200\n",
            "120/120 [==============================] - 40s 333ms/step - loss: 0.3093 - accuracy: 0.8983 - val_loss: 2.7141 - val_accuracy: 0.5400\n",
            "Epoch 45/200\n",
            "120/120 [==============================] - 40s 334ms/step - loss: 0.2108 - accuracy: 0.9325 - val_loss: 3.6598 - val_accuracy: 0.5650\n",
            "Epoch 46/200\n",
            "120/120 [==============================] - 40s 334ms/step - loss: 0.2227 - accuracy: 0.9267 - val_loss: 3.5353 - val_accuracy: 0.5750\n",
            "Epoch 47/200\n",
            "120/120 [==============================] - 40s 335ms/step - loss: 0.2754 - accuracy: 0.9208 - val_loss: 4.0073 - val_accuracy: 0.5350\n",
            "Epoch 48/200\n",
            "120/120 [==============================] - 40s 335ms/step - loss: 0.1940 - accuracy: 0.9300 - val_loss: 3.6494 - val_accuracy: 0.5150\n",
            "Epoch 49/200\n",
            "120/120 [==============================] - 40s 334ms/step - loss: 0.2209 - accuracy: 0.9275 - val_loss: 3.4452 - val_accuracy: 0.5050\n",
            "Epoch 50/200\n",
            "120/120 [==============================] - 40s 335ms/step - loss: 0.2175 - accuracy: 0.9267 - val_loss: 3.3158 - val_accuracy: 0.5900\n",
            "Epoch 51/200\n",
            "120/120 [==============================] - 40s 334ms/step - loss: 0.2497 - accuracy: 0.9100 - val_loss: 4.0375 - val_accuracy: 0.4800\n",
            "Epoch 52/200\n",
            "120/120 [==============================] - 40s 334ms/step - loss: 0.1928 - accuracy: 0.9375 - val_loss: 4.1979 - val_accuracy: 0.5200\n",
            "Epoch 53/200\n",
            "120/120 [==============================] - 40s 334ms/step - loss: 0.1999 - accuracy: 0.9350 - val_loss: 4.2632 - val_accuracy: 0.4950\n",
            "Epoch 54/200\n",
            "120/120 [==============================] - 40s 335ms/step - loss: 0.1777 - accuracy: 0.9400 - val_loss: 4.1044 - val_accuracy: 0.5450\n",
            "Epoch 55/200\n",
            "120/120 [==============================] - 40s 334ms/step - loss: 0.1351 - accuracy: 0.9542 - val_loss: 3.6963 - val_accuracy: 0.5850\n",
            "Epoch 56/200\n",
            "120/120 [==============================] - 40s 335ms/step - loss: 0.1714 - accuracy: 0.9425 - val_loss: 4.3998 - val_accuracy: 0.5100\n",
            "Epoch 57/200\n",
            "120/120 [==============================] - 40s 334ms/step - loss: 0.2207 - accuracy: 0.9267 - val_loss: 3.8754 - val_accuracy: 0.4950\n",
            "Epoch 58/200\n",
            "120/120 [==============================] - 40s 335ms/step - loss: 0.1714 - accuracy: 0.9475 - val_loss: 3.9796 - val_accuracy: 0.5050\n",
            "Epoch 59/200\n",
            "120/120 [==============================] - 40s 334ms/step - loss: 0.1874 - accuracy: 0.9467 - val_loss: 3.5294 - val_accuracy: 0.4750\n",
            "Epoch 60/200\n",
            "120/120 [==============================] - 40s 335ms/step - loss: 0.1571 - accuracy: 0.9400 - val_loss: 3.5641 - val_accuracy: 0.6050\n",
            "Epoch 61/200\n",
            "120/120 [==============================] - 40s 334ms/step - loss: 0.1875 - accuracy: 0.9458 - val_loss: 3.0238 - val_accuracy: 0.5700\n",
            "Epoch 62/200\n",
            "120/120 [==============================] - 40s 335ms/step - loss: 0.1509 - accuracy: 0.9500 - val_loss: 3.7484 - val_accuracy: 0.5100\n",
            "Epoch 63/200\n",
            "120/120 [==============================] - 40s 334ms/step - loss: 0.1928 - accuracy: 0.9292 - val_loss: 3.5219 - val_accuracy: 0.5200\n",
            "Epoch 64/200\n",
            "120/120 [==============================] - ETA: 0s - loss: 0.1181 - accuracy: 0.9700\n",
            " Accuracy is high enough so running is cancelled\n",
            "120/120 [==============================] - 40s 335ms/step - loss: 0.1181 - accuracy: 0.9700 - val_loss: 2.5111 - val_accuracy: 0.6200\n"
          ],
          "name": "stdout"
        }
      ]
    },
    {
      "cell_type": "code",
      "metadata": {
        "id": "X9AJRjeq0H4h",
        "colab_type": "code",
        "colab": {
          "base_uri": "https://localhost:8080/",
          "height": 893
        },
        "outputId": "4cbce213-62fb-491a-cacf-1ba20445d6af"
      },
      "source": [
        "## Model validation\n",
        "\n",
        "acc1 = history1.history['accuracy']\n",
        "val_acc1 = history1.history['val_accuracy']\n",
        "\n",
        "loss1 = history1.history['loss']\n",
        "val_loss1 = history1.history['val_loss']\n",
        "\n",
        "acc = history.history['accuracy']\n",
        "val_acc = history.history['val_accuracy']\n",
        "\n",
        "loss = history.history['loss']\n",
        "val_loss = history.history['val_loss']\n",
        "\n",
        "plt.figure(figsize=(15, 15))\n",
        "plt.subplot(2, 2, 1)\n",
        "plt.plot(acc1, label='Training Accuracy Baseline')\n",
        "plt.plot(acc, label='Training Accuracy Improved Model')\n",
        "plt.legend(loc='lower right')\n",
        "plt.ylabel('Accuracy')\n",
        "plt.ylim([min(plt.ylim()),1])\n",
        "plt.xlabel('Epochs')\n",
        "plt.xlim([0, max(plt.xlim())])\n",
        "plt.title('Training Accuracy Baseline and Improved Model')\n",
        "\n",
        "plt.subplot(2, 2, 2)\n",
        "plt.plot(loss1, label='Training Loss Baseline')\n",
        "plt.plot(loss, label='Training Loss Improved Model')\n",
        "plt.legend(loc='upper right')\n",
        "plt.ylabel('Cross Entropy')\n",
        "plt.ylim([0,max(plt.ylim())])\n",
        "plt.xlim([0, max(plt.xlim())])\n",
        "plt.title('Training Loss Baseline and Improved Model')\n",
        "plt.xlabel('Epochs')\n",
        "\n",
        "plt.subplot(2, 2, 3)\n",
        "plt.plot(val_acc1, label='Validation Accuracy Baseline')\n",
        "plt.plot(val_acc, label='Validation Accuracy Improved Model')\n",
        "plt.legend(loc='lower right')\n",
        "plt.ylabel('Accuracy')\n",
        "plt.ylim([min(plt.ylim()),1])\n",
        "plt.xlabel('Epochs')\n",
        "plt.xlim([0, max(plt.xlim())])\n",
        "plt.title('Validation Accuracy Baseline and Improved Model')\n",
        "\n",
        "plt.subplot(2, 2, 4)\n",
        "plt.plot(val_loss1, label='Valiadtion Loss Baseline')\n",
        "plt.plot(val_loss, label='Validation Loss Improved Model')\n",
        "plt.legend(loc='upper right')\n",
        "plt.ylabel('Cross Entropy')\n",
        "plt.ylim([0,max(plt.ylim())])\n",
        "plt.xlim([0, max(plt.xlim())])\n",
        "plt.title('Validation Loss Baseline and Improved Model')\n",
        "plt.xlabel('Epochs')\n",
        "plt.show()"
      ],
      "execution_count": null,
      "outputs": [
        {
          "output_type": "display_data",
          "data": {
            "image/png": "[encoded data removed]",
            "text/plain": [
              "<Figure size 1080x1080 with 4 Axes>"
            ]
          },
          "metadata": {
            "tags": [],
            "needs_background": "light"
          }
        }
      ]
    },
    {
      "cell_type": "code",
      "metadata": {
        "id": "hGjLccHmH9wy",
        "colab_type": "code",
        "colab": {
          "base_uri": "https://localhost:8080/",
          "height": 34
        },
        "outputId": "5a9f1e7d-14b4-471c-ab66-4715ecda1b16"
      },
      "source": [
        "#Prediction for testing data for Baseline model\n",
        "Y_pred = model1.predict(X_test)\n",
        "\n",
        "predicted_words = [words[i] for i in np.argmax(Y_pred, axis=1)]\n",
        "actual_words = [words[i] for i in np.argmax(Y_test, axis=1)]\n",
        "\n",
        "correct = 0\n",
        "for predicted, actual in zip(predicted_words, actual_words):\n",
        "    if predicted == actual:\n",
        "        correct += 1\n",
        "#     print(f\"Predicted : {p} \\t Actual : {a}\")\n",
        "\n",
        "accuracy = correct/len(actual_words)\n",
        "print(f\"Accuracy : {accuracy} on completely unseen data for baseline model\")"
      ],
      "execution_count": null,
      "outputs": [
        {
          "output_type": "stream",
          "text": [
            "Accuracy : 0.53 on completely unseen data for baseline model\n"
          ],
          "name": "stdout"
        }
      ]
    },
    {
      "cell_type": "code",
      "metadata": {
        "id": "rA_NttdL1L-a",
        "colab_type": "code",
        "colab": {
          "base_uri": "https://localhost:8080/",
          "height": 34
        },
        "outputId": "1886ed33-2e59-491c-986c-7d4a992d70f6"
      },
      "source": [
        "#Prediction for testing data\n",
        "Y_pred = model.predict(X_test)\n",
        "\n",
        "predicted_words = [words[i] for i in np.argmax(Y_pred, axis=1)]\n",
        "actual_words = [words[i] for i in np.argmax(Y_test, axis=1)]\n",
        "\n",
        "correct = 0\n",
        "for predicted, actual in zip(predicted_words, actual_words):\n",
        "    if predicted == actual:\n",
        "        correct += 1\n",
        "#     print(f\"Predicted : {p} \\t Actual : {a}\")\n",
        "\n",
        "accuracy = correct/len(actual_words)\n",
        "print(f\"Accuracy : {accuracy} on completely unseen data for improved model\")"
      ],
      "execution_count": null,
      "outputs": [
        {
          "output_type": "stream",
          "text": [
            "Accuracy : 0.72 on completely unseen data for improved model\n"
          ],
          "name": "stdout"
        }
      ]
    },
    {
      "cell_type": "code",
      "metadata": {
        "id": "VIiyrGMuz3r-",
        "colab_type": "code",
        "colab": {
          "base_uri": "https://localhost:8080/",
          "height": 104
        },
        "outputId": "f2188c6b-6276-4043-fa22-b72c99f6fcac"
      },
      "source": [
        "import tensorflow as tf\n",
        "saved_model_dir = 'save/final_model'\n",
        "tf.saved_model.save(model, saved_model_dir)\n",
        "\n",
        "converter = tf.lite.TFLiteConverter.from_saved_model(saved_model_dir)\n",
        "converter.target_spec.supported_ops = [tf.lite.OpsSet.SELECT_TF_OPS]\n",
        "converter.allow_custom_ops = True\n",
        "tflite_model = converter.convert()\n",
        "\n",
        "with open('model.tflite', 'wb') as f:\n",
        "  f.write(tflite_model)"
      ],
      "execution_count": null,
      "outputs": [
        {
          "output_type": "stream",
          "text": [
            "WARNING:tensorflow:From /usr/local/lib/python3.6/dist-packages/tensorflow/python/ops/resource_variable_ops.py:1817: calling BaseResourceVariable.__init__ (from tensorflow.python.ops.resource_variable_ops) with constraint is deprecated and will be removed in a future version.\n",
            "Instructions for updating:\n",
            "If using Keras pass *_constraint arguments to layers.\n",
            "INFO:tensorflow:Assets written to: save/final_model/assets\n"
          ],
          "name": "stdout"
        }
      ]
    },
    {
      "cell_type": "markdown",
      "metadata": {
        "id": "EiLtHmbzwry6",
        "colab_type": "text"
      },
      "source": [
        "# **Testing the converted model** "
      ]
    },
    {
      "cell_type": "code",
      "metadata": {
        "id": "dcrUQu-s2nO7",
        "colab_type": "code",
        "colab": {
          "base_uri": "https://localhost:8080/",
          "height": 50
        },
        "outputId": "291956a2-2c8f-411d-ef0f-34e6310fe115"
      },
      "source": [
        "print(model.input_shape)\n",
        "print(model.output_shape)"
      ],
      "execution_count": null,
      "outputs": [
        {
          "output_type": "stream",
          "text": [
            "(None, 22, 100, 100, 1)\n",
            "(None, 10)\n"
          ],
          "name": "stdout"
        }
      ]
    }
  ]
}